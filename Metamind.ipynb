{
 "metadata": {
  "name": "",
  "signature": "sha256:8aaa765c8942484c8c737eec1908c2a38833b2c066810d963dda8e71672248af"
 },
 "nbformat": 3,
 "nbformat_minor": 0,
 "worksheets": [
  {
   "cells": [
    {
     "cell_type": "code",
     "collapsed": false,
     "input": [
      "import json\n",
      "import pymongo\n",
      "import subprocess\n",
      "import os\n",
      "import sys\n",
      "from bson.objectid import ObjectId\n",
      "from datetime import date\n",
      "import datetime as dt\n",
      "import numpy as np\n",
      "import shlex\n",
      "import pandas as pd\n",
      "\n",
      "from subprocess import Popen, call\n",
      "\n",
      "from os import listdir\n",
      "from os.path import isfile, join\n",
      "import random\n",
      "\n",
      "HOME = os.environ[\"HOME\"]\n",
      "sys.path.append(HOME)\n",
      "sys.path\n",
      "from ds_config import *\n",
      "\n"
     ],
     "language": "python",
     "metadata": {},
     "outputs": [],
     "prompt_number": 180
    },
    {
     "cell_type": "markdown",
     "metadata": {},
     "source": [
      "# Load Pre-Generated Data\n",
      "\n",
      "* We lost in pre-generated data from s3.  \n",
      "* Then we put it into two RDDs for punts and field goals\n",
      "* Finally, we collect the data and break it into 1000 events for each.  "
     ]
    },
    {
     "cell_type": "code",
     "collapsed": false,
     "input": [
      "clipsRDD = sc.textFile(\"s3n://hudl-hadoop/GLaDOS/fg_punt_locations/\").map(json.loads)"
     ],
     "language": "python",
     "metadata": {},
     "outputs": [],
     "prompt_number": 20
    },
    {
     "cell_type": "code",
     "collapsed": false,
     "input": [
      "PUNT_RDD = clipsRDD\\\n",
      "    .filter(lambda x: x['type']=='PUNT')\n",
      "FG_RDD = clipsRDD\\\n",
      "    .filter(lambda x: x['type']=='FG')\n",
      "    #.filter(lambda x: len(x[\"video\"])==1)\\\n",
      "    #.filter(lambda x: len(x[\"video\"])==1)\\\n",
      "    \n",
      "punt_len = PUNT_RDD.count()\n",
      "fg_len = FG_RDD.count()\n",
      "print punt_len\n",
      "print fg_len\n",
      "min_punt_fg_len = min(fg_len,punt_len)"
     ],
     "language": "python",
     "metadata": {},
     "outputs": [
      {
       "output_type": "stream",
       "stream": "stdout",
       "text": [
        "15550\n",
        "3368\n"
       ]
      }
     ],
     "prompt_number": 186
    },
    {
     "cell_type": "code",
     "collapsed": false,
     "input": [
      "punts = PUNT_RDD.collect()[:1000]\n",
      "FGs = FG_RDD.collect()[:1000]"
     ],
     "language": "python",
     "metadata": {},
     "outputs": []
    },
    {
     "cell_type": "markdown",
     "metadata": {},
     "source": [
      "## Video Downloads\n",
      "\n",
      "* Use wget to download each mp4\n",
      "* Use a bash script to download the last frame of each video\n",
      "* You'll need to change the hard-coded locations here"
     ]
    },
    {
     "cell_type": "code",
     "collapsed": false,
     "input": [
      "def getLastImage(ts_location, play_type):\n",
      "    i=0\n",
      "    video_location = '/Users/williamspearman/Hudl/GLaDOS_Files/%s/Videos' % play_type\n",
      "    image_location = '/Users/williamspearman/Hudl/GLaDOS_Files/%s/Images' % play_type\n",
      "\n",
      "    script_location = '/Users/williamspearman/Hudl/GLaDOS_Files/SCRIPT.sh'\n",
      "\n",
      "    command = ['mkdir', \"%s\" % (image_location) ]\n",
      "    p = Popen(command, stdout=subprocess.PIPE)\n",
      "    stdout, stderr = p.communicate()\n",
      "\n",
      "    url = ts_location[-1]\n",
      "\n",
      "    \n",
      "    command = ['wget', '-N', '-P', video_location, url ]\n",
      "    p = Popen(command, stdout=subprocess.PIPE)\n",
      "    stdout, stderr = p.communicate()\n",
      "\n",
      "    \n",
      "    base_name = url.split(\"/\")[-1].split(\".mp4\")[0]\n",
      "    command = (\"bash %s %s/%s.mp4 %s/%s.jpg\") % (script_location, video_location, base_name, image_location, base_name)\n",
      "    #print command\n",
      "    call(command, shell=True)\n",
      "    #return \"Exported file!\"\n",
      "\n",
      "\n",
      "\n",
      "def getImages(ts_location, play_type):\n",
      "    i=0\n",
      "    for url in ts_location:\n",
      "        #print url\n",
      "        video_location = '/Users/williamspearman/Hudl/GLaDOS_Files/%s/Videos' % play_type\n",
      "        image_location = '/Users/williamspearman/Hudl/GLaDOS_Files/%s/Images' % play_type\n",
      "        #args = ['wget', '-r', '-l', '1', '-p', '-P', location, url]\n",
      "        \n",
      "        base_name = url.split(\"/\")[-1].split(\".mp4\")[0]\n",
      "\n",
      "        command = ['mkdir', \"%s\" % (image_location) ]\n",
      "        p = Popen(command, stdout=subprocess.PIPE)\n",
      "        stdout, stderr = p.communicate()\n",
      "        \n",
      "        #command = ['mkdir', \"%s/%s\" % (image_location, base_name) ]\n",
      "        #p = Popen(command, stdout=subprocess.PIPE)\n",
      "        #stdout, stderr = p.communicate()\n",
      "        \n",
      "        command = ['wget', '-N', '-P', video_location, url ]\n",
      "        p = Popen(command, stdout=subprocess.PIPE)\n",
      "        stdout, stderr = p.communicate()\n",
      "        #print url\n",
      "        #command = (\"ffmpeg -i /home/temp/ts/%s.ts -ab 160k -ac 2 -ar 44100 -vn /home/temp/wav/%s.wav\") % (base_name, base_name)\n",
      "        #command = (\"ffmpeg -i %s/ts/%s.ts -ab 160k -ac 2 -ar %i -vn %s/wav/%s.wav\") % (location, base_name, freq, location, base_name)\n",
      "        freq = 1\n",
      "        command = (\"ffmpeg -i %s/%s.mp4 -r %d -f image2 %s/%s_File%i_%%3d.jpg\") % (video_location, base_name, freq, image_location, base_name, i)\n",
      "        print command\n",
      "        call(command, shell=True)\n",
      "        i=i+1"
     ],
     "language": "python",
     "metadata": {},
     "outputs": []
    },
    {
     "cell_type": "code",
     "collapsed": false,
     "input": [
      "for x in punts:\n",
      "    getLastImage(x[\"video\"],x[\"type\"])\n",
      "for x in FGs:\n",
      "    getLastImage(x[\"video\"],x[\"type\"])"
     ],
     "language": "python",
     "metadata": {},
     "outputs": []
    },
    {
     "cell_type": "markdown",
     "metadata": {},
     "source": [
      "# Using Metamind (Finally)\n",
      "\n",
      "Now we start using the metamind api:\n",
      "\n",
      "* First we generate a list of the filepaths and labels\n",
      "* Next we upload these all to metamind\n",
      "* After that, we train using this sample\n",
      "* Lastly, we use the test sample to evaluate how well, the neural net is working"
     ]
    },
    {
     "cell_type": "code",
     "collapsed": false,
     "input": [
      "def GetFilesAndLabels(mypath):\n",
      "    label = \"\"\n",
      "    if \"PUNT\" in mypath:\n",
      "        label = \"PUNT\"\n",
      "    elif \"FG\" in mypath:\n",
      "        label = \"FG\"\n",
      "    onlyfiles = [ (os.path.join(mypath,f), label) for f in listdir(mypath) if isfile(join(mypath,f)) and \".jpg\" in f ]\n",
      "    return onlyfiles\n",
      "    "
     ],
     "language": "python",
     "metadata": {},
     "outputs": []
    },
    {
     "cell_type": "code",
     "collapsed": false,
     "input": [
      "punt_files = GetFilesAndLabels(\"/Users/williamspearman/Hudl/GLaDOS_Files/PUNT/Images\")\n",
      "fg_files = GetFilesAndLabels(\"/Users/williamspearman/Hudl/GLaDOS_Files/FG/Images\")\n",
      "\n",
      "min_len = min(len(punt_files),len(fg_files))\n",
      "punt_files=punt_files[:min_len]\n",
      "fg_files=fg_files[:min_len]\n",
      "\n",
      "random.shuffle(punt_files)\n",
      "random.shuffle(fg_files)\n",
      "\n",
      "def SplitList(mylist, frac):\n",
      "    print \"List length %i\" % len(mylist)\n",
      "    split_point = int(len(mylist)*frac)\n",
      "    print split_point\n",
      "    return (mylist[:split_point],mylist[split_point:])\n",
      "\n",
      "(punt_train, punt_test) = SplitList(punt_files, 0.8)\n",
      "(fg_train, fg_test) = SplitList(fg_files, 0.8)\n",
      "\n"
     ],
     "language": "python",
     "metadata": {},
     "outputs": []
    },
    {
     "cell_type": "code",
     "collapsed": false,
     "input": [
      "#from metamind.api import set_api_key, general_image_classifier\n",
      "from metamind.api import ClassificationData, ClassificationModel, set_api_key\n",
      "\n",
      "set_api_key(metamind_api_key)"
     ],
     "language": "python",
     "metadata": {},
     "outputs": []
    },
    {
     "cell_type": "code",
     "collapsed": false,
     "input": [
      "training_data = ClassificationData(private=True, data_type=\"image\", name=\"PuntFG_Data_VeryLarge\") \n",
      "training_data.add_samples(punt_train, input_type=\"files\")\n",
      "training_data.add_samples(fg_train, input_type=\"files\")"
     ],
     "language": "python",
     "metadata": {},
     "outputs": []
    },
    {
     "cell_type": "code",
     "collapsed": false,
     "input": [
      "classifier = ClassificationModel(private=True, name=\"PuntFG_Model_Large\")\n",
      "classifier.fit(training_data)"
     ],
     "language": "python",
     "metadata": {},
     "outputs": []
    },
    {
     "cell_type": "code",
     "collapsed": false,
     "input": [
      "right_label = 0\n",
      "wrong_label = 0\n",
      "\n",
      "for x in punt_test+fg_test:\n",
      "    print \"Actual type: %s\" % x[1]\n",
      "    prediction = classifier.predict(x[0], input_type=\"files\")[0]['label']\n",
      "    print \"Predicted type: %s\" % prediction\n",
      "    if prediction==x[1]:\n",
      "        right_label=right_label+1\n",
      "    else:\n",
      "        wrong_label=wrong_label+1\n",
      "        \n",
      "print \"Percent Correct: %.2f\" % (float(right_label)/float(right_label+wrong_label))"
     ],
     "language": "python",
     "metadata": {},
     "outputs": []
    },
    {
     "cell_type": "code",
     "collapsed": false,
     "input": [
      "print \"Percent Correct: %.2f\" % (float(right_label)/float(right_label+wrong_label))"
     ],
     "language": "python",
     "metadata": {},
     "outputs": []
    },
    {
     "cell_type": "code",
     "collapsed": false,
     "input": [],
     "language": "python",
     "metadata": {},
     "outputs": []
    }
   ],
   "metadata": {}
  }
 ]
}