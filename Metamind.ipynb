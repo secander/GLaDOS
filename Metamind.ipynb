{
 "metadata": {
  "name": "",
  "signature": "sha256:e403028d45a000934c7dda43764ec819e35f85b07e403aca2680de06dc6b29e0"
 },
 "nbformat": 3,
 "nbformat_minor": 0,
 "worksheets": [
  {
   "cells": [
    {
     "cell_type": "code",
     "collapsed": false,
     "input": [
      "import json\n",
      "import pymongo\n",
      "import subprocess\n",
      "import os\n",
      "import sys\n",
      "from bson.objectid import ObjectId\n",
      "from datetime import date\n",
      "import datetime as dt\n",
      "import numpy as np\n",
      "import shlex\n",
      "import pandas as pd\n",
      "\n",
      "from subprocess import Popen, call\n",
      "\n",
      "from os import listdir\n",
      "from os.path import isfile, join\n",
      "import random\n",
      "\n",
      "HOME = os.environ[\"HOME\"]\n",
      "sys.path.append(HOME)\n",
      "sys.path\n",
      "from ds_config import *\n",
      "\n"
     ],
     "language": "python",
     "metadata": {},
     "outputs": [],
     "prompt_number": 180
    },
    {
     "cell_type": "code",
     "collapsed": false,
     "input": [
      "clipsRDD = sc.textFile(\"s3n://hudl-hadoop/GLaDOS/fg_punt_locations/\").map(json.loads)"
     ],
     "language": "python",
     "metadata": {},
     "outputs": [],
     "prompt_number": 20
    },
    {
     "cell_type": "code",
     "collapsed": false,
     "input": [
      "clipsRDD.take(10)"
     ],
     "language": "python",
     "metadata": {},
     "outputs": [
      {
       "metadata": {},
       "output_type": "pyout",
       "prompt_number": 21,
       "text": [
        "[{u'type': u'PUNT',\n",
        "  u'video': [u'http://va.hudl.com/syl/6xe/92116cb4-bf32-410d-a89c-27a924adf323/agulhar19m4m4u4w-3000.mp4',\n",
        "   u'http://va.hudl.com/syl/6xe/92116cb4-bf32-410d-a89c-27a924adf323/agulhar19m4m4u4w-3000_1100.mp4']},\n",
        " {u'type': u'PUNT',\n",
        "  u'video': [u'http://va.hudl.com/syl/6xe/92116cb4-bf32-410d-a89c-27a924adf323/6ct16kaxt415pgia-3000.mp4',\n",
        "   u'http://va.hudl.com/syl/6xe/92116cb4-bf32-410d-a89c-27a924adf323/6ct16kaxt415pgia-3000_1100.mp4']},\n",
        " {u'type': u'PUNT',\n",
        "  u'video': [u'http://va.hudl.com/syl/6xe/92116cb4-bf32-410d-a89c-27a924adf323/o1dtchwigxnvaewz-3000.mp4',\n",
        "   u'http://va.hudl.com/syl/6xe/92116cb4-bf32-410d-a89c-27a924adf323/o1dtchwigxnvaewz-3000_1100.mp4']},\n",
        " {u'type': u'PUNT',\n",
        "  u'video': [u'http://va.hudl.com/syl/6xe/92116cb4-bf32-410d-a89c-27a924adf323/qjjrg4l7rgfkzfdy-3000.mp4',\n",
        "   u'http://va.hudl.com/syl/6xe/92116cb4-bf32-410d-a89c-27a924adf323/qjjrg4l7rgfkzfdy-3000_1100.mp4']},\n",
        " {u'type': u'PUNT',\n",
        "  u'video': [u'http://va.hudl.com/syl/6xe/92116cb4-bf32-410d-a89c-27a924adf323/hsfoshe2jfjcaupz-3000.mp4',\n",
        "   u'http://va.hudl.com/syl/6xe/92116cb4-bf32-410d-a89c-27a924adf323/hsfoshe2jfjcaupz-3000_1100.mp4']},\n",
        " {u'type': u'PUNT',\n",
        "  u'video': [u'http://va.hudl.com/syl/6xe/92116cb4-bf32-410d-a89c-27a924adf323/n8t1zi5z3q2ekyck-3000.mp4',\n",
        "   u'http://va.hudl.com/syl/6xe/92116cb4-bf32-410d-a89c-27a924adf323/n8t1zi5z3q2ekyck-3000_1100.mp4']},\n",
        " {u'type': u'PUNT',\n",
        "  u'video': [u'http://va.hudl.com/syl/6xe/92116cb4-bf32-410d-a89c-27a924adf323/trilnfhat4af14xk-3000.mp4',\n",
        "   u'http://va.hudl.com/syl/6xe/92116cb4-bf32-410d-a89c-27a924adf323/trilnfhat4af14xk-3000_1100.mp4']},\n",
        " {u'type': u'PUNT',\n",
        "  u'video': [u'http://va.hudl.com/syl/6xe/92116cb4-bf32-410d-a89c-27a924adf323/scbwhl5dbdgrjvuc-3000.mp4',\n",
        "   u'http://va.hudl.com/syl/6xe/92116cb4-bf32-410d-a89c-27a924adf323/scbwhl5dbdgrjvuc-3000_1100.mp4']},\n",
        " {u'type': u'PUNT',\n",
        "  u'video': [u'http://va.hudl.com/syl/6xe/92116cb4-bf32-410d-a89c-27a924adf323/ztt0njdsif3y0rii-3000.mp4',\n",
        "   u'http://va.hudl.com/syl/6xe/92116cb4-bf32-410d-a89c-27a924adf323/ztt0njdsif3y0rii-3000_1100.mp4']},\n",
        " {u'type': u'PUNT',\n",
        "  u'video': [u'http://va.hudl.com/syl/6xe/92116cb4-bf32-410d-a89c-27a924adf323/q1hwqexpbepqf4tc-3000.mp4',\n",
        "   u'http://va.hudl.com/syl/6xe/92116cb4-bf32-410d-a89c-27a924adf323/q1hwqexpbepqf4tc-3000_1100.mp4']}]"
       ]
      }
     ],
     "prompt_number": 21
    },
    {
     "cell_type": "code",
     "collapsed": false,
     "input": [
      "PUNT_RDD = clipsRDD\\\n",
      "    .filter(lambda x: len(x[\"video\"])==1)\\\n",
      "    .filter(lambda x: x['type']=='PUNT')\n",
      "FG_RDD = clipsRDD\\\n",
      "    .filter(lambda x: len(x[\"video\"])==1)\\\n",
      "    .filter(lambda x: x['type']=='FG')"
     ],
     "language": "python",
     "metadata": {},
     "outputs": [],
     "prompt_number": 28
    },
    {
     "cell_type": "code",
     "collapsed": false,
     "input": [
      "punts = PUNT_RDD.collect()[:200]\n",
      "FGs = FG_RDD.collect()[:200]"
     ],
     "language": "python",
     "metadata": {},
     "outputs": [],
     "prompt_number": 169
    },
    {
     "cell_type": "code",
     "collapsed": false,
     "input": [
      "FGs"
     ],
     "language": "python",
     "metadata": {},
     "outputs": [
      {
       "metadata": {},
       "output_type": "pyout",
       "prompt_number": 170,
       "text": [
        "[{u'type': u'FG',\n",
        "  u'video': [u'http://va.hudl.com/tth/3ic/4d80f1eb-236c-452f-88ca-1e8a069215fe/zlvfhjbayi0a7ngu-1100.mp4']},\n",
        " {u'type': u'FG',\n",
        "  u'video': [u'http://vj.hudl.com/7039/17685/143291/1545611/JW/033/xOi3_1100.mp4']},\n",
        " {u'type': u'FG',\n",
        "  u'video': [u'http://vd.hudl.com/pb8/pae/2834fd3c-5e50-45a0-a396-66aeac606ec5/oe63sg5kcn2spepf-1100.mp4']},\n",
        " {u'type': u'FG',\n",
        "  u'video': [u'http://vd.hudl.com/pb8/pae/2834fd3c-5e50-45a0-a396-66aeac606ec5/rn0wmwyw0fvnszhl-1100.mp4']},\n",
        " {u'type': u'FG',\n",
        "  u'video': [u'http://vd.hudl.com/fma/itl/01b3d91d-5550-4807-8a53-c7aaa2efc01b/z7iaul4gxojkzshk-1100.mp4']},\n",
        " {u'type': u'FG',\n",
        "  u'video': [u'http://vd.hudl.com/fma/itl/01b3d91d-5550-4807-8a53-c7aaa2efc01b/2askq8mtztykb1hl-1100.mp4']},\n",
        " {u'type': u'FG',\n",
        "  u'video': [u'http://vd.hudl.com/fma/itl/01b3d91d-5550-4807-8a53-c7aaa2efc01b/4ip8bfs0oimhhlgs-1100.mp4']},\n",
        " {u'type': u'FG',\n",
        "  u'video': [u'http://vd.hudl.com/fma/itl/01b3d91d-5550-4807-8a53-c7aaa2efc01b/u6gcuoaxxakjulvs-1100.mp4']},\n",
        " {u'type': u'FG',\n",
        "  u'video': [u'http://vj.hudl.com/xer/zwo/0311b7bd-3b86-4acd-a1ab-c89c620ec31d/wdfuteounfbo7ecv-1100.mp4']},\n",
        " {u'type': u'FG',\n",
        "  u'video': [u'http://vj.hudl.com/rss/ojf/1d44dc94-8d1d-4a01-82bc-b8a4df092572/033-9opr.mp4']},\n",
        " {u'type': u'FG',\n",
        "  u'video': [u'http://vg.hudl.com/zid/h31/4311f3b4-4827-40b0-9c65-b21d59c9ab50/gfifiptngt1bjddg-1100.mp4']},\n",
        " {u'type': u'FG',\n",
        "  u'video': [u'http://vg.hudl.com/zid/h31/4311f3b4-4827-40b0-9c65-b21d59c9ab50/laiuq7wgdczfakrf-1100.mp4']},\n",
        " {u'type': u'FG',\n",
        "  u'video': [u'http://vg.hudl.com/zid/h31/4311f3b4-4827-40b0-9c65-b21d59c9ab50/t8balaxhzijdzg8v-1100.mp4']},\n",
        " {u'type': u'FG',\n",
        "  u'video': [u'http://vj.hudl.com/rss/ojf/1d44dc94-8d1d-4a01-82bc-b8a4df092572/022-gusm.mp4']},\n",
        " {u'type': u'FG',\n",
        "  u'video': [u'http://vj.hudl.com/xer/zwo/0311b7bd-3b86-4acd-a1ab-c89c620ec31d/1b5fyaym9saliaev-1100.mp4']},\n",
        " {u'type': u'FG',\n",
        "  u'video': [u'http://vj.hudl.com/rss/ojf/1d44dc94-8d1d-4a01-82bc-b8a4df092572/043-reyp.mp4']},\n",
        " {u'type': u'FG',\n",
        "  u'video': [u'http://vb.hudl.com/3481/14500/123772/1419641/RJ/101/3lCa-1100.mp4']},\n",
        " {u'type': u'FG',\n",
        "  u'video': [u'http://vb.hudl.com/3481/14500/123772/1419641/RJ/139/qXHs-1100.mp4']},\n",
        " {u'type': u'FG',\n",
        "  u'video': [u'http://vj.hudl.com/xer/zwo/0311b7bd-3b86-4acd-a1ab-c89c620ec31d/xe7hilfvb1mkujsg-1100.mp4']},\n",
        " {u'type': u'FG',\n",
        "  u'video': [u'http://vc.hudl.com/phz/djb/554b6147-91e6-45c1-a9cc-3809a6e54516/agnskuzzgkovqpbz-1100.mp4']},\n",
        " {u'type': u'FG',\n",
        "  u'video': [u'http://vj.hudl.com/hld/ggs/03c1c374-f2a7-4956-bcfb-1358f1b8b2e2/laxhrbqkehelll0p-1100.mp4']},\n",
        " {u'type': u'FG',\n",
        "  u'video': [u'http://vg.hudl.com/97t/nel/97dacd6e-dfcf-49e5-9910-1595e2ab2abe/n8dh9wdzbmixo10z-1100.mp4']},\n",
        " {u'type': u'FG',\n",
        "  u'video': [u'http://vg.hudl.com/6sg/ghy/8301894a-5b1c-41c7-b398-7c121c93f125/obrl9ukv0gcwuqsx-1100.mp4']},\n",
        " {u'type': u'FG',\n",
        "  u'video': [u'http://vg.hudl.com/6sg/ghy/8301894a-5b1c-41c7-b398-7c121c93f125/obkx6yxqygiwhwc9-1100.mp4']},\n",
        " {u'type': u'FG',\n",
        "  u'video': [u'http://vh.hudl.com/wup/bdp/91685cc4-76da-4516-9dd2-a2144918c20e/012-w4b8.mp4']},\n",
        " {u'type': u'FG',\n",
        "  u'video': [u'http://vd.hudl.com/88b/k3c/b6e8fc45-11dd-46f0-9bdd-0354e17e54d9/hmahzurks1tn1y2j-1100.mp4']},\n",
        " {u'type': u'FG',\n",
        "  u'video': [u'http://vd.hudl.com/atd/alo/6bb968e6-ad56-4aef-bc9f-64d287885857/rcagy6bsincuuv2h-1100.mp4']},\n",
        " {u'type': u'FG',\n",
        "  u'video': [u'http://vd.hudl.com/hdv/g96/bc5ce778-b635-4b08-9133-f4d18911bb2c/ebvvygau0pispjut-1100.mp4']},\n",
        " {u'type': u'FG',\n",
        "  u'video': [u'http://vd.hudl.com/5ov/jf0/61fa112f-8758-4927-995c-1043076ae0fc/aqv3jc2zdl05lp2j-1100.mp4']},\n",
        " {u'type': u'FG',\n",
        "  u'video': [u'http://vd.hudl.com/5ov/jf0/61fa112f-8758-4927-995c-1043076ae0fc/guzko8lq3yjfhhhi-1100.mp4']},\n",
        " {u'type': u'FG',\n",
        "  u'video': [u'http://vd.hudl.com/5ov/jf0/61fa112f-8758-4927-995c-1043076ae0fc/arb74mdixwhkotop-1100.mp4']},\n",
        " {u'type': u'FG',\n",
        "  u'video': [u'http://vd.hudl.com/5ov/jf0/61fa112f-8758-4927-995c-1043076ae0fc/afkprhojbmgotzif-1100.mp4']},\n",
        " {u'type': u'FG',\n",
        "  u'video': [u'http://vd.hudl.com/wru/hmy/a409868a-000a-48ee-b2f9-256b681ba4c3/qf8lc2a5yua1dxpi-1100.mp4']},\n",
        " {u'type': u'FG',\n",
        "  u'video': [u'http://vd.hudl.com/rma/8vn/ac5becd3-b042-4473-aec8-83546a59b857/ghcba5xgr5a5faef-1100.mp4']},\n",
        " {u'type': u'FG',\n",
        "  u'video': [u'http://vd.hudl.com/bas/joq/44d367a8-410e-43cf-a84c-ce5688795d34/zd654hvzf0nydibn-1100.mp4']},\n",
        " {u'type': u'FG',\n",
        "  u'video': [u'http://vd.hudl.com/bas/joq/44d367a8-410e-43cf-a84c-ce5688795d34/jo9f4rhqqvyri6de-1100.mp4']},\n",
        " {u'type': u'FG',\n",
        "  u'video': [u'http://vd.hudl.com/kkp/kqh/c714157c-d33c-4662-9ead-42a15e99ea81/lj5ld8ltfc0n6yln-1100.mp4']},\n",
        " {u'type': u'FG',\n",
        "  u'video': [u'http://vd.hudl.com/kkp/kqh/c714157c-d33c-4662-9ead-42a15e99ea81/rugkklamethvlmnr-1100.mp4']},\n",
        " {u'type': u'FG',\n",
        "  u'video': [u'http://va.hudl.com/td9/ovm/93a974d0-6c42-4f22-bc42-4631b7669b3b/krpjxrt18eulgevw-1100.mp4']},\n",
        " {u'type': u'FG',\n",
        "  u'video': [u'http://va.hudl.com/td9/ovm/93a974d0-6c42-4f22-bc42-4631b7669b3b/lixawbgyx8bp0vkl-1100.mp4']},\n",
        " {u'type': u'FG',\n",
        "  u'video': [u'http://va.hudl.com/td9/ovm/93a974d0-6c42-4f22-bc42-4631b7669b3b/mbejnzcvgccd5wvm-1100.mp4']},\n",
        " {u'type': u'FG',\n",
        "  u'video': [u'http://va.hudl.com/l4k/01a/c590fc14-0031-4b09-9aa2-328d2cc5f9a4/h1h48j3eoexwlizh-1100.mp4']},\n",
        " {u'type': u'FG',\n",
        "  u'video': [u'http://va.hudl.com/l4k/01a/c590fc14-0031-4b09-9aa2-328d2cc5f9a4/mh5ukw89wkmb6xjg-1100.mp4']},\n",
        " {u'type': u'FG',\n",
        "  u'video': [u'http://va.hudl.com/l4k/01a/c590fc14-0031-4b09-9aa2-328d2cc5f9a4/pvhwuhoedt77vrdt-1100.mp4']},\n",
        " {u'type': u'FG',\n",
        "  u'video': [u'http://va.hudl.com/l4k/01a/c590fc14-0031-4b09-9aa2-328d2cc5f9a4/ewvfekoytcdu3cgc-1100.mp4']},\n",
        " {u'type': u'FG',\n",
        "  u'video': [u'http://va.hudl.com/l4k/01a/c590fc14-0031-4b09-9aa2-328d2cc5f9a4/1n41y5xkkzdx92up-1100.mp4']},\n",
        " {u'type': u'FG',\n",
        "  u'video': [u'http://vg.hudl.com/3nn/4lx/2ab75a14-ec27-4699-bd78-941fc12f377c/iyqgjtljslweqjnm-1100.mp4']},\n",
        " {u'type': u'FG',\n",
        "  u'video': [u'http://vh.hudl.com/1ac/m9g/69ba7c35-2808-4489-ad3e-8ec116e5a8f5/z2zdpyvdefrbkrbh-1100.mp4']},\n",
        " {u'type': u'FG',\n",
        "  u'video': [u'http://vh.hudl.com/1ac/m9g/69ba7c35-2808-4489-ad3e-8ec116e5a8f5/wnthxn1nldulqtqx-1100.mp4']},\n",
        " {u'type': u'FG',\n",
        "  u'video': [u'http://vh.hudl.com/1ac/m9g/69ba7c35-2808-4489-ad3e-8ec116e5a8f5/99bwwn7mi8uzyawt-1100.mp4']},\n",
        " {u'type': u'FG',\n",
        "  u'video': [u'http://vh.hudl.com/1ac/m9g/69ba7c35-2808-4489-ad3e-8ec116e5a8f5/k5c6yvfaehk32mfo-1100.mp4']},\n",
        " {u'type': u'FG',\n",
        "  u'video': [u'http://vh.hudl.com/1ac/m9g/69ba7c35-2808-4489-ad3e-8ec116e5a8f5/4lre6s9r2erkd5mm-1100.mp4']},\n",
        " {u'type': u'FG',\n",
        "  u'video': [u'http://vh.hudl.com/1ac/m9g/69ba7c35-2808-4489-ad3e-8ec116e5a8f5/lzyvcrcpz2noo9no-1100.mp4']},\n",
        " {u'type': u'FG',\n",
        "  u'video': [u'http://vj.hudl.com/ffk/zoi/9979980c-b961-4720-b776-92041dea1051/spdfisxczfgrv8gx-1100.mp4']},\n",
        " {u'type': u'FG',\n",
        "  u'video': [u'http://vj.hudl.com/ffk/zoi/9979980c-b961-4720-b776-92041dea1051/tfmlvn5ruxcodpen-1100.mp4']},\n",
        " {u'type': u'FG',\n",
        "  u'video': [u'http://ve.hudl.com/n6b/la4/59669efc-709a-4764-ade9-2842d4457c5d/oh8xzv625vpghc4v-1100.mp4']},\n",
        " {u'type': u'FG',\n",
        "  u'video': [u'http://ve.hudl.com/n6b/la4/59669efc-709a-4764-ade9-2842d4457c5d/oh8xzv625vpghc4v-1100.mp4']},\n",
        " {u'type': u'FG',\n",
        "  u'video': [u'http://vf.hudl.com/dku/9av/7fe5e8bd-34fb-4be7-bc6f-022ac2c601b5/wynqtneklaayt7gl-1100.mp4']},\n",
        " {u'type': u'FG',\n",
        "  u'video': [u'http://vf.hudl.com/dku/9av/7fe5e8bd-34fb-4be7-bc6f-022ac2c601b5/8mn2jcxjgqvnl9ua-1100.mp4']},\n",
        " {u'type': u'FG',\n",
        "  u'video': [u'http://vf.hudl.com/dku/9av/7fe5e8bd-34fb-4be7-bc6f-022ac2c601b5/gbdlk5blyqvpjwc7-1100.mp4']},\n",
        " {u'type': u'FG',\n",
        "  u'video': [u'http://ve.hudl.com/n6b/la4/59669efc-709a-4764-ade9-2842d4457c5d/oh8xzv625vpghc4v-1100.mp4']},\n",
        " {u'type': u'FG',\n",
        "  u'video': [u'http://ve.hudl.com/n6b/la4/59669efc-709a-4764-ade9-2842d4457c5d/oh8xzv625vpghc4v-1100.mp4']},\n",
        " {u'type': u'FG',\n",
        "  u'video': [u'http://ve.hudl.com/ea0/j6h/aebac6bf-80fe-47b0-a055-0f541e9076f8/qqd00dy6rjzvtsar-1100.mp4']},\n",
        " {u'type': u'FG',\n",
        "  u'video': [u'http://vh.hudl.com/ijj/uav/f73031e0-b212-48c7-8ddb-a09ff01f7c4f/psebivhv2y4gv1r0-1100.mp4']},\n",
        " {u'type': u'FG',\n",
        "  u'video': [u'http://vh.hudl.com/ijj/uav/f73031e0-b212-48c7-8ddb-a09ff01f7c4f/qsv3eqittgdw9m6o-1100.mp4']},\n",
        " {u'type': u'FG',\n",
        "  u'video': [u'http://ve.hudl.com/li0/rwn/2597c583-aca2-41e0-86db-7bb22d6df832/4suxj3ldurf7fkzf-1100.mp4']},\n",
        " {u'type': u'FG',\n",
        "  u'video': [u'http://ve.hudl.com/li0/rwn/2597c583-aca2-41e0-86db-7bb22d6df832/hq0oaccnugymlqqv-1100.mp4']},\n",
        " {u'type': u'FG',\n",
        "  u'video': [u'http://va.hudl.com/idh/rqx/9b64c13d-3b59-42fc-88ac-124844693c0d/scwl339eapp5joll-1100.mp4']},\n",
        " {u'type': u'FG',\n",
        "  u'video': [u'http://ve.hudl.com/vbk/3t4/5f106738-3148-47dc-96cb-e7920e3fdbc3/9f88gxehdgnf8qrx_1100.mp4']},\n",
        " {u'type': u'FG',\n",
        "  u'video': [u'http://vh.hudl.com/dfk/pzj/71b2e6cc-54c9-4171-9ca0-3a7aec025f08/zu9xpojdwvagxvmp-1100.mp4']},\n",
        " {u'type': u'FG',\n",
        "  u'video': [u'http://vh.hudl.com/qkp/k0y/18ccfba9-9be4-4dad-97e9-c43c666fce54/122-fcny.mp4']},\n",
        " {u'type': u'FG',\n",
        "  u'video': [u'http://vh.hudl.com/qkp/k0y/18ccfba9-9be4-4dad-97e9-c43c666fce54/141-nrpe.mp4']},\n",
        " {u'type': u'FG',\n",
        "  u'video': [u'http://vh.hudl.com/dfk/pzj/71b2e6cc-54c9-4171-9ca0-3a7aec025f08/yju4jhcb8aafvqkk-1100.mp4']},\n",
        " {u'type': u'FG',\n",
        "  u'video': [u'http://va.hudl.com/o1g/8bg/354ee747-8273-4d43-b96c-9d678002d4e6/m8magluz6ehvjg6s-1100.mp4']},\n",
        " {u'type': u'FG',\n",
        "  u'video': [u'http://vh.hudl.com/dfk/pzj/71b2e6cc-54c9-4171-9ca0-3a7aec025f08/squ5tpahk0ugm2lj-1100.mp4']},\n",
        " {u'type': u'FG',\n",
        "  u'video': [u'http://va.hudl.com/idh/rqx/9b64c13d-3b59-42fc-88ac-124844693c0d/pegh99s1xjie2dk3-1100.mp4']},\n",
        " {u'type': u'FG',\n",
        "  u'video': [u'http://vc.hudl.com/z6v/lfw/f9c9aa28-e35d-4e95-8b3e-3b0014034ad1/bgx1iazrdislpbfk-1100.mp4']},\n",
        " {u'type': u'FG',\n",
        "  u'video': [u'http://vg.hudl.com/h3b/xsn/715a3415-c19f-46d8-b4e8-b1f5621b41bb/6oqbnu1m4m8j6xxn-1100.mp4']},\n",
        " {u'type': u'FG',\n",
        "  u'video': [u'http://ve.hudl.com/8q6/xvk/8fd016ac-6c0f-4461-b6e4-7614d6d8f0c6/ixer51y3fteix31z-1100.mp4']},\n",
        " {u'type': u'FG',\n",
        "  u'video': [u'http://vh.hudl.com/dfk/pzj/71b2e6cc-54c9-4171-9ca0-3a7aec025f08/zw5gd114tclgp3bf-1100.mp4']},\n",
        " {u'type': u'FG',\n",
        "  u'video': [u'http://vc.hudl.com/z6v/lfw/f9c9aa28-e35d-4e95-8b3e-3b0014034ad1/crxaefnpna3c0r5a-1100.mp4']},\n",
        " {u'type': u'FG',\n",
        "  u'video': [u'http://vc.hudl.com/z6v/lfw/f9c9aa28-e35d-4e95-8b3e-3b0014034ad1/iqwi282hkbrmc2gz-1100.mp4']},\n",
        " {u'type': u'FG',\n",
        "  u'video': [u'http://vh.hudl.com/dfk/pzj/71b2e6cc-54c9-4171-9ca0-3a7aec025f08/hwt6mqxio592r5nq-1100.mp4']},\n",
        " {u'type': u'FG',\n",
        "  u'video': [u'http://va.hudl.com/o1g/8bg/354ee747-8273-4d43-b96c-9d678002d4e6/wqyjiqa2m1gj1nks-1100.mp4']},\n",
        " {u'type': u'FG',\n",
        "  u'video': [u'http://va.hudl.com/o1g/8bg/354ee747-8273-4d43-b96c-9d678002d4e6/9nwsceffbjpkpvdi-1100.mp4']},\n",
        " {u'type': u'FG',\n",
        "  u'video': [u'http://va.hudl.com/o1g/8bg/354ee747-8273-4d43-b96c-9d678002d4e6/j74qgphg4xr2vgbj-1100.mp4']},\n",
        " {u'type': u'FG',\n",
        "  u'video': [u'http://vc.hudl.com/tve/vpf/fd631d19-71e3-473b-8633-d898206b19e7/fxdufodhg43cdhke-1100.mp4']},\n",
        " {u'type': u'FG',\n",
        "  u'video': [u'http://vb.hudl.com/07i/vye/32ca276c-aa4d-4c30-9b6f-e6f5238de8b8/4unh2j1dsz25jepb_1100.mp4']},\n",
        " {u'type': u'FG',\n",
        "  u'video': [u'http://vb.hudl.com/07i/vye/32ca276c-aa4d-4c30-9b6f-e6f5238de8b8/ezf1gnjar8lwz7up_1100.mp4']},\n",
        " {u'type': u'FG',\n",
        "  u'video': [u'http://va.hudl.com/lr2/iej/e4baacc9-3cbc-43e7-a8e5-808ea36dcca0/m9zao28aomomgw1o-1100.mp4']},\n",
        " {u'type': u'FG',\n",
        "  u'video': [u'http://vh.hudl.com/dfk/pzj/71b2e6cc-54c9-4171-9ca0-3a7aec025f08/jglvfiyiyjbgdenb-1100.mp4']},\n",
        " {u'type': u'FG',\n",
        "  u'video': [u'http://va.hudl.com/o1g/8bg/354ee747-8273-4d43-b96c-9d678002d4e6/yjfqczivd5bboz9w-1100.mp4']},\n",
        " {u'type': u'FG',\n",
        "  u'video': [u'http://vh.hudl.com/dfk/pzj/71b2e6cc-54c9-4171-9ca0-3a7aec025f08/k1zen3exu1ar6yyl-1100.mp4']},\n",
        " {u'type': u'FG',\n",
        "  u'video': [u'http://vh.hudl.com/dfk/pzj/71b2e6cc-54c9-4171-9ca0-3a7aec025f08/v2btnmcrjl1xlhno-1100.mp4']},\n",
        " {u'type': u'FG',\n",
        "  u'video': [u'http://va.hudl.com/o1g/8bg/354ee747-8273-4d43-b96c-9d678002d4e6/dscsmszfjzw2dqud-1100.mp4']},\n",
        " {u'type': u'FG',\n",
        "  u'video': [u'http://vh.hudl.com/dfk/pzj/71b2e6cc-54c9-4171-9ca0-3a7aec025f08/dqbavxljwfomatpr-1100.mp4']},\n",
        " {u'type': u'FG',\n",
        "  u'video': [u'http://vc.hudl.com/z6v/lfw/f9c9aa28-e35d-4e95-8b3e-3b0014034ad1/icipnqztz8heyah4-1100.mp4']},\n",
        " {u'type': u'FG',\n",
        "  u'video': [u'http://va.hudl.com/o1g/8bg/354ee747-8273-4d43-b96c-9d678002d4e6/j74qgphg4xr2vgbj-1100.mp4']},\n",
        " {u'type': u'FG',\n",
        "  u'video': [u'http://vb.hudl.com/4jp/nwu/a9288b1d-5081-444b-9a4e-4eb131e6b87a/8afsgepr382ejhxn-1100.mp4']},\n",
        " {u'type': u'FG',\n",
        "  u'video': [u'http://vb.hudl.com/nmn/9f6/f34e2469-cff2-4d3c-b29d-af4ad56225bf/tcxok4p1hgy5zpef-1100.mp4']},\n",
        " {u'type': u'FG',\n",
        "  u'video': [u'http://vb.hudl.com/nmn/9f6/f34e2469-cff2-4d3c-b29d-af4ad56225bf/wbuskscpw6ifuexr-1100.mp4']},\n",
        " {u'type': u'FG',\n",
        "  u'video': [u'http://vb.hudl.com/nmn/9f6/f34e2469-cff2-4d3c-b29d-af4ad56225bf/n3gn09r0osv6ygph-1100.mp4']},\n",
        " {u'type': u'FG',\n",
        "  u'video': [u'http://vb.hudl.com/knt/zyp/f637fc5d-f352-4975-84a8-0b54a0fc8f4f/xzd6oetufajnhpkj-1100.mp4']},\n",
        " {u'type': u'FG',\n",
        "  u'video': [u'http://vb.hudl.com/knt/zyp/f637fc5d-f352-4975-84a8-0b54a0fc8f4f/o1ddqld0plhjhkzp-1100.mp4']},\n",
        " {u'type': u'FG',\n",
        "  u'video': [u'http://vc.hudl.com/wew/lyu/d18d9e3f-8d74-411e-bbdc-de548af5aaed/009-ovox.mp4']},\n",
        " {u'type': u'FG',\n",
        "  u'video': [u'http://vc.hudl.com/wew/lyu/d18d9e3f-8d74-411e-bbdc-de548af5aaed/046-gxvk.mp4']},\n",
        " {u'type': u'FG',\n",
        "  u'video': [u'http://vh.hudl.com/dfk/pzj/71b2e6cc-54c9-4171-9ca0-3a7aec025f08/yju4jhcb8aafvqkk-1100.mp4']},\n",
        " {u'type': u'FG',\n",
        "  u'video': [u'http://vh.hudl.com/dfk/pzj/71b2e6cc-54c9-4171-9ca0-3a7aec025f08/jglvfiyiyjbgdenb-1100.mp4']},\n",
        " {u'type': u'FG',\n",
        "  u'video': [u'http://vg.hudl.com/ydx/ptx/14c5a709-2424-4474-9e40-9c76095b9a39/jnerqqxc8wav7saz-1100.mp4']},\n",
        " {u'type': u'FG',\n",
        "  u'video': [u'http://vh.hudl.com/dfk/pzj/71b2e6cc-54c9-4171-9ca0-3a7aec025f08/69n89frjr9tx2npw-1100.mp4/FA/044/HvT0_1100.mp4']},\n",
        " {u'type': u'FG',\n",
        "  u'video': [u'http://va.hudl.com/o1g/8bg/354ee747-8273-4d43-b96c-9d678002d4e6/m8magluz6ehvjg6s-1100.mp4']},\n",
        " {u'type': u'FG',\n",
        "  u'video': [u'http://va.hudl.com/o1g/8bg/354ee747-8273-4d43-b96c-9d678002d4e6/wqyjiqa2m1gj1nks-1100.mp4']},\n",
        " {u'type': u'FG',\n",
        "  u'video': [u'http://va.hudl.com/o1g/8bg/354ee747-8273-4d43-b96c-9d678002d4e6/9nwsceffbjpkpvdi-1100.mp4']},\n",
        " {u'type': u'FG',\n",
        "  u'video': [u'http://va.hudl.com/o1g/8bg/354ee747-8273-4d43-b96c-9d678002d4e6/yjfqczivd5bboz9w-1100.mp4']},\n",
        " {u'type': u'FG',\n",
        "  u'video': [u'http://va.hudl.com/o1g/8bg/354ee747-8273-4d43-b96c-9d678002d4e6/dscsmszfjzw2dqud-1100.mp4']},\n",
        " {u'type': u'FG',\n",
        "  u'video': [u'http://va.hudl.com/o1g/8bg/354ee747-8273-4d43-b96c-9d678002d4e6/zcv5imvhgweyalcv-1100.mp4']},\n",
        " {u'type': u'FG',\n",
        "  u'video': [u'http://va.hudl.com/o1g/8bg/354ee747-8273-4d43-b96c-9d678002d4e6/uzrfdka2j2hwtozr-1100.mp4']},\n",
        " {u'type': u'FG',\n",
        "  u'video': [u'http://va.hudl.com/o1g/8bg/354ee747-8273-4d43-b96c-9d678002d4e6/zrc5lgiodnd9bzac-1100.mp4']},\n",
        " {u'type': u'FG',\n",
        "  u'video': [u'http://va.hudl.com/o1g/8bg/354ee747-8273-4d43-b96c-9d678002d4e6/e9ksvahrfq3zes6m-1100.mp4']},\n",
        " {u'type': u'FG',\n",
        "  u'video': [u'http://va.hudl.com/o1g/8bg/354ee747-8273-4d43-b96c-9d678002d4e6/hnaws6sxug0xvffm-1100.mp4']},\n",
        " {u'type': u'FG',\n",
        "  u'video': [u'http://vh.hudl.com/dfk/pzj/71b2e6cc-54c9-4171-9ca0-3a7aec025f08/yju4jhcb8aafvqkk-1100.mp4']},\n",
        " {u'type': u'FG',\n",
        "  u'video': [u'http://vh.hudl.com/dfk/pzj/71b2e6cc-54c9-4171-9ca0-3a7aec025f08/zw5gd114tclgp3bf-1100.mp4']},\n",
        " {u'type': u'FG',\n",
        "  u'video': [u'http://vh.hudl.com/dfk/pzj/71b2e6cc-54c9-4171-9ca0-3a7aec025f08/k1zen3exu1ar6yyl-1100.mp4']},\n",
        " {u'type': u'FG',\n",
        "  u'video': [u'http://vh.hudl.com/dfk/pzj/71b2e6cc-54c9-4171-9ca0-3a7aec025f08/jglvfiyiyjbgdenb-1100.mp4']},\n",
        " {u'type': u'FG',\n",
        "  u'video': [u'http://vh.hudl.com/dfk/pzj/71b2e6cc-54c9-4171-9ca0-3a7aec025f08/squ5tpahk0ugm2lj-1100.mp4']},\n",
        " {u'type': u'FG',\n",
        "  u'video': [u'http://va.hudl.com/gbj/tvb/0f8e35b1-08e1-41d6-8dcc-b343202aeca5/dwsyvffe100xrzbp-1100.mp4']},\n",
        " {u'type': u'FG',\n",
        "  u'video': [u'http://vh.hudl.com/fz0/3ts/9866f8fa-6f79-4f2f-801b-da6d6c78037a/armznkvs23a68gk8-1100.mp4']},\n",
        " {u'type': u'FG',\n",
        "  u'video': [u'http://vj.hudl.com/vuw/uls/c820d974-f4ab-40b9-84c7-daa242593894/zth68kvrh3gvxoji-1100.mp4']},\n",
        " {u'type': u'FG',\n",
        "  u'video': [u'http://vj.hudl.com/vuw/uls/c820d974-f4ab-40b9-84c7-daa242593894/8t7owosmods2auic-1100.mp4']},\n",
        " {u'type': u'FG',\n",
        "  u'video': [u'http://vj.hudl.com/vuw/uls/c820d974-f4ab-40b9-84c7-daa242593894/n2a7pqy7bwjttbca-1100.mp4']},\n",
        " {u'type': u'FG',\n",
        "  u'video': [u'http://vj.hudl.com/vuw/uls/c820d974-f4ab-40b9-84c7-daa242593894/ag13qkmdhvro0pzm-1100.mp4']},\n",
        " {u'type': u'FG',\n",
        "  u'video': [u'http://vj.hudl.com/vuw/uls/c820d974-f4ab-40b9-84c7-daa242593894/gztrbkg5tbmikflb-1100.mp4']},\n",
        " {u'type': u'FG',\n",
        "  u'video': [u'http://vj.hudl.com/vuw/uls/c820d974-f4ab-40b9-84c7-daa242593894/20rtr6o2dxloahyh-1100.mp4']},\n",
        " {u'type': u'FG',\n",
        "  u'video': [u'http://vj.hudl.com/vuw/uls/c820d974-f4ab-40b9-84c7-daa242593894/tjazhkxh3yqzsh9l-1100.mp4']},\n",
        " {u'type': u'FG',\n",
        "  u'video': [u'http://vj.hudl.com/vuw/uls/c820d974-f4ab-40b9-84c7-daa242593894/i2sez6sh4ctfnuye-1100.mp4']},\n",
        " {u'type': u'FG',\n",
        "  u'video': [u'http://vj.hudl.com/dwq/1mt/c0e3a644-76f7-4045-874b-6af6cebea15b/zfkwmdulushzkby0-1100.mp4']},\n",
        " {u'type': u'FG',\n",
        "  u'video': [u'http://vj.hudl.com/dwq/1mt/c0e3a644-76f7-4045-874b-6af6cebea15b/fcnsrqzejvoijol2-1100.mp4']},\n",
        " {u'type': u'FG',\n",
        "  u'video': [u'http://vj.hudl.com/dwq/1mt/c0e3a644-76f7-4045-874b-6af6cebea15b/b7epdljttijp6wyc-1100.mp4']},\n",
        " {u'type': u'FG',\n",
        "  u'video': [u'http://vj.hudl.com/dwq/1mt/c0e3a644-76f7-4045-874b-6af6cebea15b/ilwgumji775tuz2a-1100.mp4']},\n",
        " {u'type': u'FG',\n",
        "  u'video': [u'http://vj.hudl.com/dwq/1mt/c0e3a644-76f7-4045-874b-6af6cebea15b/62k3ysyljf9kolzl-1100.mp4']},\n",
        " {u'type': u'FG',\n",
        "  u'video': [u'http://vj.hudl.com/dwq/1mt/c0e3a644-76f7-4045-874b-6af6cebea15b/pxuavkohhxorznkk-1100.mp4']},\n",
        " {u'type': u'FG',\n",
        "  u'video': [u'http://vj.hudl.com/dwq/1mt/c0e3a644-76f7-4045-874b-6af6cebea15b/tathe26zz7zeqszh-1100.mp4']},\n",
        " {u'type': u'FG',\n",
        "  u'video': [u'http://vj.hudl.com/dwq/1mt/c0e3a644-76f7-4045-874b-6af6cebea15b/aihwz3s1udjtc7vn-1100.mp4']},\n",
        " {u'type': u'FG',\n",
        "  u'video': [u'http://vg.hudl.com/ptb/xb0/5bd194c0-dcd7-4cc1-bf35-6a5e15a501aa/tj0lyibjjj5g73gy-1100.mp4']},\n",
        " {u'type': u'FG',\n",
        "  u'video': [u'http://vg.hudl.com/ptb/xb0/5bd194c0-dcd7-4cc1-bf35-6a5e15a501aa/heztgop2kz0tddf2-1100.mp4']},\n",
        " {u'type': u'FG',\n",
        "  u'video': [u'http://vg.hudl.com/ptb/xb0/5bd194c0-dcd7-4cc1-bf35-6a5e15a501aa/0anjubz7ywbfvnyr-1100.mp4']},\n",
        " {u'type': u'FG',\n",
        "  u'video': [u'http://vg.hudl.com/ptb/xb0/5bd194c0-dcd7-4cc1-bf35-6a5e15a501aa/sclxca4atduxgrhp-1100.mp4']},\n",
        " {u'type': u'FG',\n",
        "  u'video': [u'http://vg.hudl.com/ptb/xb0/5bd194c0-dcd7-4cc1-bf35-6a5e15a501aa/o9s48ukel96cvqsm-1100.mp4']},\n",
        " {u'type': u'FG',\n",
        "  u'video': [u'http://vg.hudl.com/ptb/xb0/5bd194c0-dcd7-4cc1-bf35-6a5e15a501aa/4iktm3h83dssnmcb-1100.mp4']},\n",
        " {u'type': u'FG',\n",
        "  u'video': [u'http://vg.hudl.com/ptb/xb0/5bd194c0-dcd7-4cc1-bf35-6a5e15a501aa/f1r1b8lhgequddf8-1100.mp4']},\n",
        " {u'type': u'FG',\n",
        "  u'video': [u'http://vg.hudl.com/ptb/xb0/5bd194c0-dcd7-4cc1-bf35-6a5e15a501aa/fsdwaewcaocayi0s-1100.mp4']},\n",
        " {u'type': u'FG',\n",
        "  u'video': [u'http://vg.hudl.com/ptb/xb0/5bd194c0-dcd7-4cc1-bf35-6a5e15a501aa/h8gesqei8mjps95d-1100.mp4']},\n",
        " {u'type': u'FG',\n",
        "  u'video': [u'http://vg.hudl.com/ptb/xb0/5bd194c0-dcd7-4cc1-bf35-6a5e15a501aa/ejq7zaocd3eeeeq7-1100.mp4']},\n",
        " {u'type': u'FG',\n",
        "  u'video': [u'http://vg.hudl.com/ptb/xb0/5bd194c0-dcd7-4cc1-bf35-6a5e15a501aa/ouy9hn1hhowyzfzn-1100.mp4']},\n",
        " {u'type': u'FG',\n",
        "  u'video': [u'http://vg.hudl.com/ptb/xb0/5bd194c0-dcd7-4cc1-bf35-6a5e15a501aa/7jt3talmswghvakv-1100.mp4']},\n",
        " {u'type': u'FG',\n",
        "  u'video': [u'http://vg.hudl.com/ptb/xb0/5bd194c0-dcd7-4cc1-bf35-6a5e15a501aa/orzbq0dlucojgaoc-1100.mp4']},\n",
        " {u'type': u'FG',\n",
        "  u'video': [u'http://vg.hudl.com/6fd/mdz/b1a4754d-c5da-4b27-884f-7ad85ddc6319/d45hpioazvz1jhqy-1100.mp4']},\n",
        " {u'type': u'FG',\n",
        "  u'video': [u'http://vg.hudl.com/6fd/mdz/b1a4754d-c5da-4b27-884f-7ad85ddc6319/w7smmccapcz2usdp-1100.mp4']},\n",
        " {u'type': u'FG',\n",
        "  u'video': [u'http://vg.hudl.com/6fd/mdz/b1a4754d-c5da-4b27-884f-7ad85ddc6319/8hnpap5sgkbjkqbv-1100.mp4']},\n",
        " {u'type': u'FG',\n",
        "  u'video': [u'http://vg.hudl.com/6fd/mdz/b1a4754d-c5da-4b27-884f-7ad85ddc6319/wstfnixbvqxtkusl-1100.mp4']},\n",
        " {u'type': u'FG',\n",
        "  u'video': [u'http://vg.hudl.com/6fd/mdz/b1a4754d-c5da-4b27-884f-7ad85ddc6319/peanllzk35dyj7p5-1100.mp4']},\n",
        " {u'type': u'FG',\n",
        "  u'video': [u'http://vg.hudl.com/6fd/mdz/b1a4754d-c5da-4b27-884f-7ad85ddc6319/6otozoewivwt8bak-1100.mp4']},\n",
        " {u'type': u'FG',\n",
        "  u'video': [u'http://vg.hudl.com/6fd/mdz/b1a4754d-c5da-4b27-884f-7ad85ddc6319/etkkwb58lav2qrsi-1100.mp4']},\n",
        " {u'type': u'FG',\n",
        "  u'video': [u'http://vg.hudl.com/6fd/mdz/b1a4754d-c5da-4b27-884f-7ad85ddc6319/tqjvfiypjo6obu0g-1100.mp4']},\n",
        " {u'type': u'FG',\n",
        "  u'video': [u'http://vg.hudl.com/6fd/mdz/b1a4754d-c5da-4b27-884f-7ad85ddc6319/hihymi5r2ilo9q3c-1100.mp4']},\n",
        " {u'type': u'FG',\n",
        "  u'video': [u'http://vg.hudl.com/6fd/mdz/b1a4754d-c5da-4b27-884f-7ad85ddc6319/vlrdfqzkdsarcrae-1100.mp4']},\n",
        " {u'type': u'FG',\n",
        "  u'video': [u'http://vg.hudl.com/6fd/mdz/b1a4754d-c5da-4b27-884f-7ad85ddc6319/swzgk9titycwpxre-1100.mp4']},\n",
        " {u'type': u'FG',\n",
        "  u'video': [u'http://vg.hudl.com/6fd/mdz/b1a4754d-c5da-4b27-884f-7ad85ddc6319/f7v0gcqsy46ytrrh-1100.mp4']},\n",
        " {u'type': u'FG',\n",
        "  u'video': [u'http://vg.hudl.com/6fd/mdz/b1a4754d-c5da-4b27-884f-7ad85ddc6319/sfgshbq6zrrlebxp-1100.mp4']},\n",
        " {u'type': u'FG',\n",
        "  u'video': [u'http://vg.hudl.com/6fd/mdz/b1a4754d-c5da-4b27-884f-7ad85ddc6319/vkiof0mgxcmckuzk-1100.mp4']},\n",
        " {u'type': u'FG',\n",
        "  u'video': [u'http://vg.hudl.com/6fd/mdz/b1a4754d-c5da-4b27-884f-7ad85ddc6319/fmyccrjdmiweac5t-1100.mp4']},\n",
        " {u'type': u'FG',\n",
        "  u'video': [u'http://vb.hudl.com/1cb/384/4e0ed59d-a9fe-4ab3-8967-3c00d8190739/ockcxowoluvk5vkn-1100.mp4']},\n",
        " {u'type': u'FG',\n",
        "  u'video': [u'http://vb.hudl.com/1cb/384/4e0ed59d-a9fe-4ab3-8967-3c00d8190739/qw9sx1jy1zfckrtg-1100.mp4']},\n",
        " {u'type': u'FG',\n",
        "  u'video': [u'http://vj.hudl.com/ffk/zoi/9979980c-b961-4720-b776-92041dea1051/spdfisxczfgrv8gx-1100.mp4']},\n",
        " {u'type': u'FG',\n",
        "  u'video': [u'http://vj.hudl.com/ffk/zoi/9979980c-b961-4720-b776-92041dea1051/tfmlvn5ruxcodpen-1100.mp4']},\n",
        " {u'type': u'FG',\n",
        "  u'video': [u'http://vi.hudl.com/evt/q0v/32e0d6a5-b90f-49b3-8005-ec3d8f671c0c/guor7zmpkepabrqt-1100.mp4']},\n",
        " {u'type': u'FG',\n",
        "  u'video': [u'http://vb.hudl.com/vfz/mnf/b3f18bd0-df89-4ac8-ab01-82e06ae5b759/l2xiuync49kfpob7-1100.mp4']},\n",
        " {u'type': u'FG',\n",
        "  u'video': [u'http://vb.hudl.com/vfz/mnf/b3f18bd0-df89-4ac8-ab01-82e06ae5b759/yk7kpcqvkvouiivp-1100.mp4']},\n",
        " {u'type': u'FG',\n",
        "  u'video': [u'http://va.hudl.com/fb5/igk/e2b6da04-7e6e-4b58-8a8f-532e31bc7547/hdhirglicazefd88-1100.mp4']},\n",
        " {u'type': u'FG',\n",
        "  u'video': [u'http://vf.hudl.com/uis/ucj/1dc2f838-897c-4e79-b05d-8819e65b5828/mnloj7mpod926xgy-1100.mp4']},\n",
        " {u'type': u'FG',\n",
        "  u'video': [u'http://vf.hudl.com/uis/ucj/1dc2f838-897c-4e79-b05d-8819e65b5828/uoesvt9vezbpuut7-1100.mp4']},\n",
        " {u'type': u'FG',\n",
        "  u'video': [u'http://vf.hudl.com/uis/ucj/1dc2f838-897c-4e79-b05d-8819e65b5828/vu1fspwjeor0p0wp-1100.mp4']},\n",
        " {u'type': u'FG',\n",
        "  u'video': [u'http://vj.hudl.com/t5r/ays/1c09deeb-382e-43df-9d16-52c062742166/uiwvehihxwvqw3mh-1100.mp4']},\n",
        " {u'type': u'FG',\n",
        "  u'video': [u'http://vg.hudl.com/rqf/ae6/0b789653-c8af-4a65-a3c1-392d95e2a1ea/jj04urqyzut8wbus-1100.mp4']},\n",
        " {u'type': u'FG',\n",
        "  u'video': [u'http://vg.hudl.com/rqf/ae6/0b789653-c8af-4a65-a3c1-392d95e2a1ea/toe5b0htapmmifsq-1100.mp4']},\n",
        " {u'type': u'FG',\n",
        "  u'video': [u'http://vi.hudl.com/0gx/nke/50e0a41a-ff57-48c7-aaa7-0a6dcbbb0424/aucnxc47xxdcpche_1100.mp4']},\n",
        " {u'type': u'FG',\n",
        "  u'video': [u'http://vd.hudl.com/s1m/mfe/e3cf7f93-b8e6-4900-8127-96da79927ee9/ktl39b9icapmcznj-1100.mp4']},\n",
        " {u'type': u'FG',\n",
        "  u'video': [u'http://vd.hudl.com/s1m/mfe/e3cf7f93-b8e6-4900-8127-96da79927ee9/zq7mu6brmttzlfi1-1100.mp4']},\n",
        " {u'type': u'FG',\n",
        "  u'video': [u'http://vi.hudl.com/0gx/nke/50e0a41a-ff57-48c7-aaa7-0a6dcbbb0424/mrulgnp9tdbuhz7b_1100.mp4']},\n",
        " {u'type': u'FG',\n",
        "  u'video': [u'http://vj.hudl.com/emj/oth/64adc6e6-5937-49fa-994f-46580d53aa98/gpikt6ygl2geats1-1100.mp4']},\n",
        " {u'type': u'FG',\n",
        "  u'video': [u'http://vj.hudl.com/emj/oth/64adc6e6-5937-49fa-994f-46580d53aa98/mdr6jinvqmfxpisb-1100.mp4']},\n",
        " {u'type': u'FG',\n",
        "  u'video': [u'http://vd.hudl.com/mqf/gnc/586ccc4e-49ec-4b82-a821-f69c9d1e1519/h0kewm2hlqxopubu-1100.mp4']},\n",
        " {u'type': u'FG',\n",
        "  u'video': [u'http://vc.hudl.com/pm1/zri/9dc393f1-9036-421d-98cc-1f6a028d064f/019-hfye.mp4']},\n",
        " {u'type': u'FG',\n",
        "  u'video': [u'http://vh.hudl.com/9mt/nfu/1add5a14-8d48-4314-b794-b1e14025bb1b/ag7cs1hrxoq8lpl6-1100.mp4']},\n",
        " {u'type': u'FG',\n",
        "  u'video': [u'http://vg.hudl.com/d1e/f7u/0956be06-a25e-4269-a25f-029c5bc73f0e/kvprpzh0clwvth2i-1100.mp4']},\n",
        " {u'type': u'FG',\n",
        "  u'video': [u'http://vd.hudl.com/mqf/gnc/586ccc4e-49ec-4b82-a821-f69c9d1e1519/d96do3tqsy9fpyg5-1100.mp4']},\n",
        " {u'type': u'FG',\n",
        "  u'video': [u'http://vg.hudl.com/zuw/3i1/48681911-89bc-42bf-9b8b-31154421b2dd/151-whwu.mp4']},\n",
        " {u'type': u'FG',\n",
        "  u'video': [u'http://vg.hudl.com/zuw/3i1/48681911-89bc-42bf-9b8b-31154421b2dd/128-z2im.mp4']},\n",
        " {u'type': u'FG',\n",
        "  u'video': [u'http://vh.hudl.com/9mt/nfu/1add5a14-8d48-4314-b794-b1e14025bb1b/ph445fozakwzevfa-1100.mp4']},\n",
        " {u'type': u'FG',\n",
        "  u'video': [u'http://vj.hudl.com/ywi/u29/2de354ce-a826-4b1a-a0a4-bda2b3d211af/buta1ljpc46bpk5t_1100.mp4']}]"
       ]
      }
     ],
     "prompt_number": 170
    },
    {
     "cell_type": "code",
     "collapsed": false,
     "input": [
      "def getLastImage(ts_location, play_type):\n",
      "    i=0\n",
      "    video_location = '/Users/williamspearman/Hudl/GLaDOS_Files/%s/Videos' % play_type\n",
      "    image_location = '/Users/williamspearman/Hudl/GLaDOS_Files/%s/Images' % play_type\n",
      "\n",
      "    script_location = '/Users/williamspearman/Hudl/GLaDOS_Files/SCRIPT.sh'\n",
      "\n",
      "    command = ['mkdir', \"%s\" % (image_location) ]\n",
      "    p = Popen(command, stdout=subprocess.PIPE)\n",
      "    stdout, stderr = p.communicate()\n",
      "\n",
      "    url = ts_location[-1]\n",
      "\n",
      "    \n",
      "    command = ['wget', '-N', '-P', video_location, url ]\n",
      "    p = Popen(command, stdout=subprocess.PIPE)\n",
      "    stdout, stderr = p.communicate()\n",
      "\n",
      "    \n",
      "    base_name = url.split(\"/\")[-1].split(\".mp4\")[0]\n",
      "    command = (\"bash %s %s/%s.mp4 %s/%s.jpg\") % (script_location, video_location, base_name, image_location, base_name)\n",
      "    #print command\n",
      "    call(command, shell=True)\n",
      "    #return \"Exported file!\"\n",
      "\n",
      "\n",
      "\n",
      "def getImages(ts_location, play_type):\n",
      "    i=0\n",
      "    for url in ts_location:\n",
      "        #print url\n",
      "        video_location = '/Users/williamspearman/Hudl/GLaDOS_Files/%s/Videos' % play_type\n",
      "        image_location = '/Users/williamspearman/Hudl/GLaDOS_Files/%s/Images' % play_type\n",
      "        #args = ['wget', '-r', '-l', '1', '-p', '-P', location, url]\n",
      "        \n",
      "        base_name = url.split(\"/\")[-1].split(\".mp4\")[0]\n",
      "\n",
      "        command = ['mkdir', \"%s\" % (image_location) ]\n",
      "        p = Popen(command, stdout=subprocess.PIPE)\n",
      "        stdout, stderr = p.communicate()\n",
      "        \n",
      "        #command = ['mkdir', \"%s/%s\" % (image_location, base_name) ]\n",
      "        #p = Popen(command, stdout=subprocess.PIPE)\n",
      "        #stdout, stderr = p.communicate()\n",
      "        \n",
      "        command = ['wget', '-N', '-P', video_location, url ]\n",
      "        p = Popen(command, stdout=subprocess.PIPE)\n",
      "        stdout, stderr = p.communicate()\n",
      "        #print url\n",
      "        #command = (\"ffmpeg -i /home/temp/ts/%s.ts -ab 160k -ac 2 -ar 44100 -vn /home/temp/wav/%s.wav\") % (base_name, base_name)\n",
      "        #command = (\"ffmpeg -i %s/ts/%s.ts -ab 160k -ac 2 -ar %i -vn %s/wav/%s.wav\") % (location, base_name, freq, location, base_name)\n",
      "        freq = 1\n",
      "        command = (\"ffmpeg -i %s/%s.mp4 -r %d -f image2 %s/%s_File%i_%%3d.jpg\") % (video_location, base_name, freq, image_location, base_name, i)\n",
      "        print command\n",
      "        call(command, shell=True)\n",
      "        i=i+1"
     ],
     "language": "python",
     "metadata": {},
     "outputs": [],
     "prompt_number": 171
    },
    {
     "cell_type": "code",
     "collapsed": false,
     "input": [
      "for x in punts:\n",
      "    getLastImage(x[\"video\"],x[\"type\"])\n",
      "for x in FGs:\n",
      "    getLastImage(x[\"video\"],x[\"type\"])"
     ],
     "language": "python",
     "metadata": {},
     "outputs": [],
     "prompt_number": 172
    },
    {
     "cell_type": "markdown",
     "metadata": {},
     "source": [
      "# Using Metamind (Finally)"
     ]
    },
    {
     "cell_type": "code",
     "collapsed": false,
     "input": [
      "def GetFilesAndLabels(mypath):\n",
      "    label = \"\"\n",
      "    if \"PUNT\" in mypath:\n",
      "        label = \"PUNT\"\n",
      "    elif \"FG\" in mypath:\n",
      "        label = \"FG\"\n",
      "    onlyfiles = [ (os.path.join(mypath,f), label) for f in listdir(mypath) if isfile(join(mypath,f)) and \".jpg\" in f ]\n",
      "    return onlyfiles\n",
      "    "
     ],
     "language": "python",
     "metadata": {},
     "outputs": [],
     "prompt_number": 173
    },
    {
     "cell_type": "code",
     "collapsed": false,
     "input": [
      "punt_files = GetFilesAndLabels(\"/Users/williamspearman/Hudl/GLaDOS_Files/PUNT/Images\")\n",
      "fg_files = GetFilesAndLabels(\"/Users/williamspearman/Hudl/GLaDOS_Files/FG/Images\")\n",
      "\n",
      "min_len = min(len(punt_files),len(fg_files))\n",
      "punt_files=punt_files[:min_len]\n",
      "fg_files=fg_files[:min_len]\n",
      "\n",
      "random.shuffle(punt_files)\n",
      "random.shuffle(fg_files)\n",
      "\n",
      "def SplitList(mylist, frac):\n",
      "    print \"List length %i\" % len(mylist)\n",
      "    split_point = int(len(mylist)*frac)\n",
      "    print split_point\n",
      "    return (mylist[:split_point],mylist[split_point:])\n",
      "\n",
      "(punt_train, punt_test) = SplitList(punt_files, 0.8)\n",
      "(fg_train, fg_test) = SplitList(fg_files, 0.8)\n",
      "\n"
     ],
     "language": "python",
     "metadata": {},
     "outputs": [
      {
       "output_type": "stream",
       "stream": "stdout",
       "text": [
        "List length 178\n",
        "142\n",
        "List length 178\n",
        "142\n"
       ]
      }
     ],
     "prompt_number": 174
    },
    {
     "cell_type": "code",
     "collapsed": false,
     "input": [
      "#from metamind.api import set_api_key, general_image_classifier\n",
      "from metamind.api import ClassificationData, ClassificationModel, set_api_key\n",
      "\n",
      "set_api_key(metamind_api_key)"
     ],
     "language": "python",
     "metadata": {},
     "outputs": [
      {
       "output_type": "stream",
       "stream": "stdout",
       "text": [
        "Hello, William Spearman\n"
       ]
      },
      {
       "output_type": "stream",
       "stream": "stderr",
       "text": [
        "/Users/williamspearman/anaconda/lib/python2.7/site-packages/requests/packages/urllib3/util/ssl_.py:79: InsecurePlatformWarning: A true SSLContext object is not available. This prevents urllib3 from configuring SSL appropriately and may cause certain SSL connections to fail. For more information, see https://urllib3.readthedocs.org/en/latest/security.html#insecureplatformwarning.\n",
        "  InsecurePlatformWarning\n"
       ]
      }
     ],
     "prompt_number": 181
    },
    {
     "cell_type": "code",
     "collapsed": false,
     "input": [
      "training_data = ClassificationData(private=True, data_type=\"image\", name=\"PuntFG_Data_Large\") \n",
      "training_data.add_samples(punt_train, input_type=\"files\")\n",
      "training_data.add_samples(fg_train, input_type=\"files\")"
     ],
     "language": "python",
     "metadata": {},
     "outputs": [
      {
       "output_type": "stream",
       "stream": "stderr",
       "text": [
        "/Users/williamspearman/anaconda/lib/python2.7/site-packages/requests/packages/urllib3/util/ssl_.py:79: InsecurePlatformWarning: A true SSLContext object is not available. This prevents urllib3 from configuring SSL appropriately and may cause certain SSL connections to fail. For more information, see https://urllib3.readthedocs.org/en/latest/security.html#insecureplatformwarning.\n",
        "  InsecurePlatformWarning\n",
        "/Users/williamspearman/anaconda/lib/python2.7/site-packages/requests/packages/urllib3/util/ssl_.py:79: InsecurePlatformWarning: A true SSLContext object is not available. This prevents urllib3 from configuring SSL appropriately and may cause certain SSL connections to fail. For more information, see https://urllib3.readthedocs.org/en/latest/security.html#insecureplatformwarning.\n",
        "  InsecurePlatformWarning\n"
       ]
      },
      {
       "output_type": "stream",
       "stream": "stdout",
       "text": [
        "You are creating dataset 'PuntFG_Data_Large', with id: 150327\n",
        "Starting data upload...\n",
        "Finished uploading 142 of 142 samples..."
       ]
      },
      {
       "output_type": "stream",
       "stream": "stdout",
       "text": [
        "\n",
        "Starting data upload...\n",
        "Finished uploading 142 of 142 samples..."
       ]
      },
      {
       "output_type": "stream",
       "stream": "stdout",
       "text": [
        "\n"
       ]
      },
      {
       "output_type": "stream",
       "stream": "stderr",
       "text": [
        "/Users/williamspearman/anaconda/lib/python2.7/site-packages/requests/packages/urllib3/util/ssl_.py:79: InsecurePlatformWarning: A true SSLContext object is not available. This prevents urllib3 from configuring SSL appropriately and may cause certain SSL connections to fail. For more information, see https://urllib3.readthedocs.org/en/latest/security.html#insecureplatformwarning.\n",
        "  InsecurePlatformWarning\n"
       ]
      }
     ],
     "prompt_number": 175
    },
    {
     "cell_type": "code",
     "collapsed": false,
     "input": [
      "classifier = ClassificationModel(private=True, name=\"PuntFG_Model_Large\")\n",
      "classifier.fit(training_data)"
     ],
     "language": "python",
     "metadata": {},
     "outputs": [
      {
       "output_type": "stream",
       "stream": "stderr",
       "text": [
        "/Users/williamspearman/anaconda/lib/python2.7/site-packages/requests/packages/urllib3/util/ssl_.py:79: InsecurePlatformWarning: A true SSLContext object is not available. This prevents urllib3 from configuring SSL appropriately and may cause certain SSL connections to fail. For more information, see https://urllib3.readthedocs.org/en/latest/security.html#insecureplatformwarning.\n",
        "  InsecurePlatformWarning\n",
        "/Users/williamspearman/anaconda/lib/python2.7/site-packages/requests/packages/urllib3/util/ssl_.py:79: InsecurePlatformWarning: A true SSLContext object is not available. This prevents urllib3 from configuring SSL appropriately and may cause certain SSL connections to fail. For more information, see https://urllib3.readthedocs.org/en/latest/security.html#insecureplatformwarning.\n",
        "  InsecurePlatformWarning\n"
       ]
      },
      {
       "output_type": "stream",
       "stream": "stderr",
       "text": [
        "/Users/williamspearman/anaconda/lib/python2.7/site-packages/requests/packages/urllib3/util/ssl_.py:79: InsecurePlatformWarning: A true SSLContext object is not available. This prevents urllib3 from configuring SSL appropriately and may cause certain SSL connections to fail. For more information, see https://urllib3.readthedocs.org/en/latest/security.html#insecureplatformwarning.\n",
        "  InsecurePlatformWarning\n",
        "/Users/williamspearman/anaconda/lib/python2.7/site-packages/requests/packages/urllib3/util/ssl_.py:79: InsecurePlatformWarning: A true SSLContext object is not available. This prevents urllib3 from configuring SSL appropriately and may cause certain SSL connections to fail. For more information, see https://urllib3.readthedocs.org/en/latest/security.html#insecureplatformwarning.\n",
        "  InsecurePlatformWarning\n"
       ]
      },
      {
       "output_type": "stream",
       "stream": "stdout",
       "text": [
        "Your MetaMind image model is now training on the server!\n",
        "Estimated time left in training: 0m 35s"
       ]
      },
      {
       "output_type": "stream",
       "stream": "stderr",
       "text": [
        "/Users/williamspearman/anaconda/lib/python2.7/site-packages/requests/packages/urllib3/util/ssl_.py:79: InsecurePlatformWarning: A true SSLContext object is not available. This prevents urllib3 from configuring SSL appropriately and may cause certain SSL connections to fail. For more information, see https://urllib3.readthedocs.org/en/latest/security.html#insecureplatformwarning.\n",
        "  InsecurePlatformWarning\n",
        "/Users/williamspearman/anaconda/lib/python2.7/site-packages/requests/packages/urllib3/util/ssl_.py:79: InsecurePlatformWarning: A true SSLContext object is not available. This prevents urllib3 from configuring SSL appropriately and may cause certain SSL connections to fail. For more information, see https://urllib3.readthedocs.org/en/latest/security.html#insecureplatformwarning.\n",
        "  InsecurePlatformWarning\n"
       ]
      },
      {
       "output_type": "stream",
       "stream": "stdout",
       "text": [
        "\n",
        "Estimated time left in training: 0m 33s"
       ]
      },
      {
       "output_type": "stream",
       "stream": "stderr",
       "text": [
        "/Users/williamspearman/anaconda/lib/python2.7/site-packages/requests/packages/urllib3/util/ssl_.py:79: InsecurePlatformWarning: A true SSLContext object is not available. This prevents urllib3 from configuring SSL appropriately and may cause certain SSL connections to fail. For more information, see https://urllib3.readthedocs.org/en/latest/security.html#insecureplatformwarning.\n",
        "  InsecurePlatformWarning\n",
        "/Users/williamspearman/anaconda/lib/python2.7/site-packages/requests/packages/urllib3/util/ssl_.py:79: InsecurePlatformWarning: A true SSLContext object is not available. This prevents urllib3 from configuring SSL appropriately and may cause certain SSL connections to fail. For more information, see https://urllib3.readthedocs.org/en/latest/security.html#insecureplatformwarning.\n",
        "  InsecurePlatformWarning\n"
       ]
      },
      {
       "output_type": "stream",
       "stream": "stdout",
       "text": [
        "\n",
        "Estimated time left in training: 0m 30s"
       ]
      },
      {
       "output_type": "stream",
       "stream": "stderr",
       "text": [
        "/Users/williamspearman/anaconda/lib/python2.7/site-packages/requests/packages/urllib3/util/ssl_.py:79: InsecurePlatformWarning: A true SSLContext object is not available. This prevents urllib3 from configuring SSL appropriately and may cause certain SSL connections to fail. For more information, see https://urllib3.readthedocs.org/en/latest/security.html#insecureplatformwarning.\n",
        "  InsecurePlatformWarning\n",
        "/Users/williamspearman/anaconda/lib/python2.7/site-packages/requests/packages/urllib3/util/ssl_.py:79: InsecurePlatformWarning: A true SSLContext object is not available. This prevents urllib3 from configuring SSL appropriately and may cause certain SSL connections to fail. For more information, see https://urllib3.readthedocs.org/en/latest/security.html#insecureplatformwarning.\n",
        "  InsecurePlatformWarning\n"
       ]
      },
      {
       "output_type": "stream",
       "stream": "stdout",
       "text": [
        "\n",
        "Estimated time left in training: 0m 28s"
       ]
      },
      {
       "output_type": "stream",
       "stream": "stderr",
       "text": [
        "/Users/williamspearman/anaconda/lib/python2.7/site-packages/requests/packages/urllib3/util/ssl_.py:79: InsecurePlatformWarning: A true SSLContext object is not available. This prevents urllib3 from configuring SSL appropriately and may cause certain SSL connections to fail. For more information, see https://urllib3.readthedocs.org/en/latest/security.html#insecureplatformwarning.\n",
        "  InsecurePlatformWarning\n",
        "/Users/williamspearman/anaconda/lib/python2.7/site-packages/requests/packages/urllib3/util/ssl_.py:79: InsecurePlatformWarning: A true SSLContext object is not available. This prevents urllib3 from configuring SSL appropriately and may cause certain SSL connections to fail. For more information, see https://urllib3.readthedocs.org/en/latest/security.html#insecureplatformwarning.\n",
        "  InsecurePlatformWarning\n"
       ]
      },
      {
       "output_type": "stream",
       "stream": "stdout",
       "text": [
        "\n",
        "Estimated time left in training: 0m 26s"
       ]
      },
      {
       "output_type": "stream",
       "stream": "stderr",
       "text": [
        "/Users/williamspearman/anaconda/lib/python2.7/site-packages/requests/packages/urllib3/util/ssl_.py:79: InsecurePlatformWarning: A true SSLContext object is not available. This prevents urllib3 from configuring SSL appropriately and may cause certain SSL connections to fail. For more information, see https://urllib3.readthedocs.org/en/latest/security.html#insecureplatformwarning.\n",
        "  InsecurePlatformWarning\n",
        "/Users/williamspearman/anaconda/lib/python2.7/site-packages/requests/packages/urllib3/util/ssl_.py:79: InsecurePlatformWarning: A true SSLContext object is not available. This prevents urllib3 from configuring SSL appropriately and may cause certain SSL connections to fail. For more information, see https://urllib3.readthedocs.org/en/latest/security.html#insecureplatformwarning.\n",
        "  InsecurePlatformWarning\n"
       ]
      },
      {
       "output_type": "stream",
       "stream": "stdout",
       "text": [
        "\n",
        "Estimated time left in training: 0m 24s"
       ]
      },
      {
       "output_type": "stream",
       "stream": "stderr",
       "text": [
        "/Users/williamspearman/anaconda/lib/python2.7/site-packages/requests/packages/urllib3/util/ssl_.py:79: InsecurePlatformWarning: A true SSLContext object is not available. This prevents urllib3 from configuring SSL appropriately and may cause certain SSL connections to fail. For more information, see https://urllib3.readthedocs.org/en/latest/security.html#insecureplatformwarning.\n",
        "  InsecurePlatformWarning\n",
        "/Users/williamspearman/anaconda/lib/python2.7/site-packages/requests/packages/urllib3/util/ssl_.py:79: InsecurePlatformWarning: A true SSLContext object is not available. This prevents urllib3 from configuring SSL appropriately and may cause certain SSL connections to fail. For more information, see https://urllib3.readthedocs.org/en/latest/security.html#insecureplatformwarning.\n",
        "  InsecurePlatformWarning\n"
       ]
      },
      {
       "output_type": "stream",
       "stream": "stderr",
       "text": [
        "/Users/williamspearman/anaconda/lib/python2.7/site-packages/requests/packages/urllib3/util/ssl_.py:79: InsecurePlatformWarning: A true SSLContext object is not available. This prevents urllib3 from configuring SSL appropriately and may cause certain SSL connections to fail. For more information, see https://urllib3.readthedocs.org/en/latest/security.html#insecureplatformwarning.\n",
        "  InsecurePlatformWarning\n",
        "/Users/williamspearman/anaconda/lib/python2.7/site-packages/requests/packages/urllib3/util/ssl_.py:79: InsecurePlatformWarning: A true SSLContext object is not available. This prevents urllib3 from configuring SSL appropriately and may cause certain SSL connections to fail. For more information, see https://urllib3.readthedocs.org/en/latest/security.html#insecureplatformwarning.\n",
        "  InsecurePlatformWarning\n"
       ]
      },
      {
       "output_type": "stream",
       "stream": "stdout",
       "text": [
        "\n",
        "Estimated time left in training: 0m 22s"
       ]
      },
      {
       "output_type": "stream",
       "stream": "stderr",
       "text": [
        "/Users/williamspearman/anaconda/lib/python2.7/site-packages/requests/packages/urllib3/util/ssl_.py:79: InsecurePlatformWarning: A true SSLContext object is not available. This prevents urllib3 from configuring SSL appropriately and may cause certain SSL connections to fail. For more information, see https://urllib3.readthedocs.org/en/latest/security.html#insecureplatformwarning.\n",
        "  InsecurePlatformWarning\n",
        "/Users/williamspearman/anaconda/lib/python2.7/site-packages/requests/packages/urllib3/util/ssl_.py:79: InsecurePlatformWarning: A true SSLContext object is not available. This prevents urllib3 from configuring SSL appropriately and may cause certain SSL connections to fail. For more information, see https://urllib3.readthedocs.org/en/latest/security.html#insecureplatformwarning.\n",
        "  InsecurePlatformWarning\n"
       ]
      },
      {
       "output_type": "stream",
       "stream": "stdout",
       "text": [
        "\n",
        "Estimated time left in training: 0m 20s"
       ]
      },
      {
       "output_type": "stream",
       "stream": "stderr",
       "text": [
        "/Users/williamspearman/anaconda/lib/python2.7/site-packages/requests/packages/urllib3/util/ssl_.py:79: InsecurePlatformWarning: A true SSLContext object is not available. This prevents urllib3 from configuring SSL appropriately and may cause certain SSL connections to fail. For more information, see https://urllib3.readthedocs.org/en/latest/security.html#insecureplatformwarning.\n",
        "  InsecurePlatformWarning\n",
        "/Users/williamspearman/anaconda/lib/python2.7/site-packages/requests/packages/urllib3/util/ssl_.py:79: InsecurePlatformWarning: A true SSLContext object is not available. This prevents urllib3 from configuring SSL appropriately and may cause certain SSL connections to fail. For more information, see https://urllib3.readthedocs.org/en/latest/security.html#insecureplatformwarning.\n",
        "  InsecurePlatformWarning\n"
       ]
      },
      {
       "output_type": "stream",
       "stream": "stdout",
       "text": [
        "\n",
        "Estimated time left in training: 0m 18s"
       ]
      },
      {
       "output_type": "stream",
       "stream": "stderr",
       "text": [
        "/Users/williamspearman/anaconda/lib/python2.7/site-packages/requests/packages/urllib3/util/ssl_.py:79: InsecurePlatformWarning: A true SSLContext object is not available. This prevents urllib3 from configuring SSL appropriately and may cause certain SSL connections to fail. For more information, see https://urllib3.readthedocs.org/en/latest/security.html#insecureplatformwarning.\n",
        "  InsecurePlatformWarning\n",
        "/Users/williamspearman/anaconda/lib/python2.7/site-packages/requests/packages/urllib3/util/ssl_.py:79: InsecurePlatformWarning: A true SSLContext object is not available. This prevents urllib3 from configuring SSL appropriately and may cause certain SSL connections to fail. For more information, see https://urllib3.readthedocs.org/en/latest/security.html#insecureplatformwarning.\n",
        "  InsecurePlatformWarning\n"
       ]
      },
      {
       "output_type": "stream",
       "stream": "stdout",
       "text": [
        "\n",
        "Estimated time left in training: 0m 16s"
       ]
      },
      {
       "output_type": "stream",
       "stream": "stderr",
       "text": [
        "/Users/williamspearman/anaconda/lib/python2.7/site-packages/requests/packages/urllib3/util/ssl_.py:79: InsecurePlatformWarning: A true SSLContext object is not available. This prevents urllib3 from configuring SSL appropriately and may cause certain SSL connections to fail. For more information, see https://urllib3.readthedocs.org/en/latest/security.html#insecureplatformwarning.\n",
        "  InsecurePlatformWarning\n",
        "/Users/williamspearman/anaconda/lib/python2.7/site-packages/requests/packages/urllib3/util/ssl_.py:79: InsecurePlatformWarning: A true SSLContext object is not available. This prevents urllib3 from configuring SSL appropriately and may cause certain SSL connections to fail. For more information, see https://urllib3.readthedocs.org/en/latest/security.html#insecureplatformwarning.\n",
        "  InsecurePlatformWarning\n"
       ]
      },
      {
       "output_type": "stream",
       "stream": "stdout",
       "text": [
        "\n",
        "Estimated time left in training: 0m 14s"
       ]
      },
      {
       "output_type": "stream",
       "stream": "stderr",
       "text": [
        "/Users/williamspearman/anaconda/lib/python2.7/site-packages/requests/packages/urllib3/util/ssl_.py:79: InsecurePlatformWarning: A true SSLContext object is not available. This prevents urllib3 from configuring SSL appropriately and may cause certain SSL connections to fail. For more information, see https://urllib3.readthedocs.org/en/latest/security.html#insecureplatformwarning.\n",
        "  InsecurePlatformWarning\n",
        "/Users/williamspearman/anaconda/lib/python2.7/site-packages/requests/packages/urllib3/util/ssl_.py:79: InsecurePlatformWarning: A true SSLContext object is not available. This prevents urllib3 from configuring SSL appropriately and may cause certain SSL connections to fail. For more information, see https://urllib3.readthedocs.org/en/latest/security.html#insecureplatformwarning.\n",
        "  InsecurePlatformWarning\n"
       ]
      },
      {
       "output_type": "stream",
       "stream": "stdout",
       "text": [
        "\n",
        "Estimated time left in training: 0m 12s"
       ]
      },
      {
       "output_type": "stream",
       "stream": "stderr",
       "text": [
        "/Users/williamspearman/anaconda/lib/python2.7/site-packages/requests/packages/urllib3/util/ssl_.py:79: InsecurePlatformWarning: A true SSLContext object is not available. This prevents urllib3 from configuring SSL appropriately and may cause certain SSL connections to fail. For more information, see https://urllib3.readthedocs.org/en/latest/security.html#insecureplatformwarning.\n",
        "  InsecurePlatformWarning\n",
        "/Users/williamspearman/anaconda/lib/python2.7/site-packages/requests/packages/urllib3/util/ssl_.py:79: InsecurePlatformWarning: A true SSLContext object is not available. This prevents urllib3 from configuring SSL appropriately and may cause certain SSL connections to fail. For more information, see https://urllib3.readthedocs.org/en/latest/security.html#insecureplatformwarning.\n",
        "  InsecurePlatformWarning\n"
       ]
      },
      {
       "output_type": "stream",
       "stream": "stdout",
       "text": [
        "\n",
        "Estimated time left in training: 0m 10s"
       ]
      },
      {
       "output_type": "stream",
       "stream": "stderr",
       "text": [
        "/Users/williamspearman/anaconda/lib/python2.7/site-packages/requests/packages/urllib3/util/ssl_.py:79: InsecurePlatformWarning: A true SSLContext object is not available. This prevents urllib3 from configuring SSL appropriately and may cause certain SSL connections to fail. For more information, see https://urllib3.readthedocs.org/en/latest/security.html#insecureplatformwarning.\n",
        "  InsecurePlatformWarning\n",
        "/Users/williamspearman/anaconda/lib/python2.7/site-packages/requests/packages/urllib3/util/ssl_.py:79: InsecurePlatformWarning: A true SSLContext object is not available. This prevents urllib3 from configuring SSL appropriately and may cause certain SSL connections to fail. For more information, see https://urllib3.readthedocs.org/en/latest/security.html#insecureplatformwarning.\n",
        "  InsecurePlatformWarning\n"
       ]
      },
      {
       "output_type": "stream",
       "stream": "stdout",
       "text": [
        "\n",
        "Estimated time left in training: 0m 7s"
       ]
      },
      {
       "output_type": "stream",
       "stream": "stderr",
       "text": [
        "/Users/williamspearman/anaconda/lib/python2.7/site-packages/requests/packages/urllib3/util/ssl_.py:79: InsecurePlatformWarning: A true SSLContext object is not available. This prevents urllib3 from configuring SSL appropriately and may cause certain SSL connections to fail. For more information, see https://urllib3.readthedocs.org/en/latest/security.html#insecureplatformwarning.\n",
        "  InsecurePlatformWarning\n",
        "/Users/williamspearman/anaconda/lib/python2.7/site-packages/requests/packages/urllib3/util/ssl_.py:79: InsecurePlatformWarning: A true SSLContext object is not available. This prevents urllib3 from configuring SSL appropriately and may cause certain SSL connections to fail. For more information, see https://urllib3.readthedocs.org/en/latest/security.html#insecureplatformwarning.\n",
        "  InsecurePlatformWarning\n"
       ]
      },
      {
       "output_type": "stream",
       "stream": "stdout",
       "text": [
        "\n",
        "Estimated time left in training: 0m 5s"
       ]
      },
      {
       "output_type": "stream",
       "stream": "stderr",
       "text": [
        "/Users/williamspearman/anaconda/lib/python2.7/site-packages/requests/packages/urllib3/util/ssl_.py:79: InsecurePlatformWarning: A true SSLContext object is not available. This prevents urllib3 from configuring SSL appropriately and may cause certain SSL connections to fail. For more information, see https://urllib3.readthedocs.org/en/latest/security.html#insecureplatformwarning.\n",
        "  InsecurePlatformWarning\n",
        "/Users/williamspearman/anaconda/lib/python2.7/site-packages/requests/packages/urllib3/util/ssl_.py:79: InsecurePlatformWarning: A true SSLContext object is not available. This prevents urllib3 from configuring SSL appropriately and may cause certain SSL connections to fail. For more information, see https://urllib3.readthedocs.org/en/latest/security.html#insecureplatformwarning.\n",
        "  InsecurePlatformWarning\n"
       ]
      },
      {
       "output_type": "stream",
       "stream": "stderr",
       "text": [
        "/Users/williamspearman/anaconda/lib/python2.7/site-packages/requests/packages/urllib3/util/ssl_.py:79: InsecurePlatformWarning: A true SSLContext object is not available. This prevents urllib3 from configuring SSL appropriately and may cause certain SSL connections to fail. For more information, see https://urllib3.readthedocs.org/en/latest/security.html#insecureplatformwarning.\n",
        "  InsecurePlatformWarning\n",
        "/Users/williamspearman/anaconda/lib/python2.7/site-packages/requests/packages/urllib3/util/ssl_.py:79: InsecurePlatformWarning: A true SSLContext object is not available. This prevents urllib3 from configuring SSL appropriately and may cause certain SSL connections to fail. For more information, see https://urllib3.readthedocs.org/en/latest/security.html#insecureplatformwarning.\n",
        "  InsecurePlatformWarning\n"
       ]
      },
      {
       "output_type": "stream",
       "stream": "stdout",
       "text": [
        "\n",
        "Estimated time left in training: 0m 2s"
       ]
      },
      {
       "output_type": "stream",
       "stream": "stderr",
       "text": [
        "/Users/williamspearman/anaconda/lib/python2.7/site-packages/requests/packages/urllib3/util/ssl_.py:79: InsecurePlatformWarning: A true SSLContext object is not available. This prevents urllib3 from configuring SSL appropriately and may cause certain SSL connections to fail. For more information, see https://urllib3.readthedocs.org/en/latest/security.html#insecureplatformwarning.\n",
        "  InsecurePlatformWarning\n",
        "/Users/williamspearman/anaconda/lib/python2.7/site-packages/requests/packages/urllib3/util/ssl_.py:79: InsecurePlatformWarning: A true SSLContext object is not available. This prevents urllib3 from configuring SSL appropriately and may cause certain SSL connections to fail. For more information, see https://urllib3.readthedocs.org/en/latest/security.html#insecureplatformwarning.\n",
        "  InsecurePlatformWarning\n"
       ]
      },
      {
       "output_type": "stream",
       "stream": "stdout",
       "text": [
        "\n",
        "Your model is done training!"
       ]
      },
      {
       "output_type": "stream",
       "stream": "stdout",
       "text": [
        "\n",
        "Model name: PuntFG_Model_Large\n",
        "Model id: 17432\n"
       ]
      },
      {
       "output_type": "stream",
       "stream": "stderr",
       "text": [
        "/Users/williamspearman/anaconda/lib/python2.7/site-packages/requests/packages/urllib3/util/ssl_.py:79: InsecurePlatformWarning: A true SSLContext object is not available. This prevents urllib3 from configuring SSL appropriately and may cause certain SSL connections to fail. For more information, see https://urllib3.readthedocs.org/en/latest/security.html#insecureplatformwarning.\n",
        "  InsecurePlatformWarning\n"
       ]
      }
     ],
     "prompt_number": 176
    },
    {
     "cell_type": "code",
     "collapsed": false,
     "input": [
      "right_label = 0\n",
      "wrong_label = 0\n",
      "\n",
      "for x in punt_test+fg_test:\n",
      "    print \"Actual type: %s\" % x[1]\n",
      "    prediction = classifier.predict(x[0], input_type=\"files\")[0]['label']\n",
      "    print \"Predicted type: %s\" % prediction\n",
      "    if prediction==x[1]:\n",
      "        right_label=right_label+1\n",
      "    else:\n",
      "        wrong_label=wrong_label+1\n",
      "        \n",
      "print \"Percent Correct: %.2f\" % (float(right_label)/float(right_label+wrong_label))"
     ],
     "language": "python",
     "metadata": {},
     "outputs": [
      {
       "output_type": "stream",
       "stream": "stdout",
       "text": [
        "Actual type: PUNT\n",
        "Predicted type: PUNT"
       ]
      },
      {
       "output_type": "stream",
       "stream": "stderr",
       "text": [
        "/Users/williamspearman/anaconda/lib/python2.7/site-packages/requests/packages/urllib3/util/ssl_.py:79: InsecurePlatformWarning: A true SSLContext object is not available. This prevents urllib3 from configuring SSL appropriately and may cause certain SSL connections to fail. For more information, see https://urllib3.readthedocs.org/en/latest/security.html#insecureplatformwarning.\n",
        "  InsecurePlatformWarning\n",
        "/Users/williamspearman/anaconda/lib/python2.7/site-packages/requests/packages/urllib3/util/ssl_.py:79: InsecurePlatformWarning: A true SSLContext object is not available. This prevents urllib3 from configuring SSL appropriately and may cause certain SSL connections to fail. For more information, see https://urllib3.readthedocs.org/en/latest/security.html#insecureplatformwarning.\n",
        "  InsecurePlatformWarning\n"
       ]
      },
      {
       "output_type": "stream",
       "stream": "stdout",
       "text": [
        "\n",
        "Actual type: PUNT\n",
        "Predicted type: PUNT"
       ]
      },
      {
       "output_type": "stream",
       "stream": "stdout",
       "text": [
        "\n",
        "Actual type: PUNT\n",
        "Predicted type: PUNT"
       ]
      },
      {
       "output_type": "stream",
       "stream": "stderr",
       "text": [
        "/Users/williamspearman/anaconda/lib/python2.7/site-packages/requests/packages/urllib3/util/ssl_.py:79: InsecurePlatformWarning: A true SSLContext object is not available. This prevents urllib3 from configuring SSL appropriately and may cause certain SSL connections to fail. For more information, see https://urllib3.readthedocs.org/en/latest/security.html#insecureplatformwarning.\n",
        "  InsecurePlatformWarning\n",
        "/Users/williamspearman/anaconda/lib/python2.7/site-packages/requests/packages/urllib3/util/ssl_.py:79: InsecurePlatformWarning: A true SSLContext object is not available. This prevents urllib3 from configuring SSL appropriately and may cause certain SSL connections to fail. For more information, see https://urllib3.readthedocs.org/en/latest/security.html#insecureplatformwarning.\n",
        "  InsecurePlatformWarning\n"
       ]
      },
      {
       "output_type": "stream",
       "stream": "stdout",
       "text": [
        "\n",
        "Actual type: PUNT\n",
        "Predicted type: PUNT"
       ]
      },
      {
       "output_type": "stream",
       "stream": "stdout",
       "text": [
        "\n",
        "Actual type: PUNT\n",
        "Predicted type: PUNT"
       ]
      },
      {
       "output_type": "stream",
       "stream": "stderr",
       "text": [
        "/Users/williamspearman/anaconda/lib/python2.7/site-packages/requests/packages/urllib3/util/ssl_.py:79: InsecurePlatformWarning: A true SSLContext object is not available. This prevents urllib3 from configuring SSL appropriately and may cause certain SSL connections to fail. For more information, see https://urllib3.readthedocs.org/en/latest/security.html#insecureplatformwarning.\n",
        "  InsecurePlatformWarning\n",
        "/Users/williamspearman/anaconda/lib/python2.7/site-packages/requests/packages/urllib3/util/ssl_.py:79: InsecurePlatformWarning: A true SSLContext object is not available. This prevents urllib3 from configuring SSL appropriately and may cause certain SSL connections to fail. For more information, see https://urllib3.readthedocs.org/en/latest/security.html#insecureplatformwarning.\n",
        "  InsecurePlatformWarning\n"
       ]
      },
      {
       "output_type": "stream",
       "stream": "stdout",
       "text": [
        "\n",
        "Actual type: PUNT\n",
        "Predicted type: PUNT"
       ]
      },
      {
       "output_type": "stream",
       "stream": "stdout",
       "text": [
        "\n",
        "Actual type: PUNT\n",
        "Predicted type: PUNT"
       ]
      },
      {
       "output_type": "stream",
       "stream": "stderr",
       "text": [
        "/Users/williamspearman/anaconda/lib/python2.7/site-packages/requests/packages/urllib3/util/ssl_.py:79: InsecurePlatformWarning: A true SSLContext object is not available. This prevents urllib3 from configuring SSL appropriately and may cause certain SSL connections to fail. For more information, see https://urllib3.readthedocs.org/en/latest/security.html#insecureplatformwarning.\n",
        "  InsecurePlatformWarning\n",
        "/Users/williamspearman/anaconda/lib/python2.7/site-packages/requests/packages/urllib3/util/ssl_.py:79: InsecurePlatformWarning: A true SSLContext object is not available. This prevents urllib3 from configuring SSL appropriately and may cause certain SSL connections to fail. For more information, see https://urllib3.readthedocs.org/en/latest/security.html#insecureplatformwarning.\n",
        "  InsecurePlatformWarning\n"
       ]
      },
      {
       "output_type": "stream",
       "stream": "stdout",
       "text": [
        "\n",
        "Actual type: PUNT\n",
        "Predicted type: PUNT"
       ]
      },
      {
       "output_type": "stream",
       "stream": "stdout",
       "text": [
        "\n",
        "Actual type: PUNT\n",
        "Predicted type: PUNT"
       ]
      },
      {
       "output_type": "stream",
       "stream": "stderr",
       "text": [
        "/Users/williamspearman/anaconda/lib/python2.7/site-packages/requests/packages/urllib3/util/ssl_.py:79: InsecurePlatformWarning: A true SSLContext object is not available. This prevents urllib3 from configuring SSL appropriately and may cause certain SSL connections to fail. For more information, see https://urllib3.readthedocs.org/en/latest/security.html#insecureplatformwarning.\n",
        "  InsecurePlatformWarning\n",
        "/Users/williamspearman/anaconda/lib/python2.7/site-packages/requests/packages/urllib3/util/ssl_.py:79: InsecurePlatformWarning: A true SSLContext object is not available. This prevents urllib3 from configuring SSL appropriately and may cause certain SSL connections to fail. For more information, see https://urllib3.readthedocs.org/en/latest/security.html#insecureplatformwarning.\n",
        "  InsecurePlatformWarning\n"
       ]
      },
      {
       "output_type": "stream",
       "stream": "stdout",
       "text": [
        "\n",
        "Actual type: PUNT\n",
        "Predicted type: FG"
       ]
      },
      {
       "output_type": "stream",
       "stream": "stdout",
       "text": [
        "\n",
        "Actual type: PUNT\n",
        "Predicted type: PUNT"
       ]
      },
      {
       "output_type": "stream",
       "stream": "stderr",
       "text": [
        "/Users/williamspearman/anaconda/lib/python2.7/site-packages/requests/packages/urllib3/util/ssl_.py:79: InsecurePlatformWarning: A true SSLContext object is not available. This prevents urllib3 from configuring SSL appropriately and may cause certain SSL connections to fail. For more information, see https://urllib3.readthedocs.org/en/latest/security.html#insecureplatformwarning.\n",
        "  InsecurePlatformWarning\n",
        "/Users/williamspearman/anaconda/lib/python2.7/site-packages/requests/packages/urllib3/util/ssl_.py:79: InsecurePlatformWarning: A true SSLContext object is not available. This prevents urllib3 from configuring SSL appropriately and may cause certain SSL connections to fail. For more information, see https://urllib3.readthedocs.org/en/latest/security.html#insecureplatformwarning.\n",
        "  InsecurePlatformWarning\n"
       ]
      },
      {
       "output_type": "stream",
       "stream": "stdout",
       "text": [
        "\n",
        "Actual type: PUNT\n",
        "Predicted type: PUNT"
       ]
      },
      {
       "output_type": "stream",
       "stream": "stdout",
       "text": [
        "\n",
        "Actual type: PUNT\n",
        "Predicted type: PUNT"
       ]
      },
      {
       "output_type": "stream",
       "stream": "stderr",
       "text": [
        "/Users/williamspearman/anaconda/lib/python2.7/site-packages/requests/packages/urllib3/util/ssl_.py:79: InsecurePlatformWarning: A true SSLContext object is not available. This prevents urllib3 from configuring SSL appropriately and may cause certain SSL connections to fail. For more information, see https://urllib3.readthedocs.org/en/latest/security.html#insecureplatformwarning.\n",
        "  InsecurePlatformWarning\n",
        "/Users/williamspearman/anaconda/lib/python2.7/site-packages/requests/packages/urllib3/util/ssl_.py:79: InsecurePlatformWarning: A true SSLContext object is not available. This prevents urllib3 from configuring SSL appropriately and may cause certain SSL connections to fail. For more information, see https://urllib3.readthedocs.org/en/latest/security.html#insecureplatformwarning.\n",
        "  InsecurePlatformWarning\n"
       ]
      },
      {
       "output_type": "stream",
       "stream": "stdout",
       "text": [
        "\n",
        "Actual type: PUNT\n",
        "Predicted type: PUNT"
       ]
      },
      {
       "output_type": "stream",
       "stream": "stdout",
       "text": [
        "\n",
        "Actual type: PUNT\n",
        "Predicted type: FG"
       ]
      },
      {
       "output_type": "stream",
       "stream": "stderr",
       "text": [
        "/Users/williamspearman/anaconda/lib/python2.7/site-packages/requests/packages/urllib3/util/ssl_.py:79: InsecurePlatformWarning: A true SSLContext object is not available. This prevents urllib3 from configuring SSL appropriately and may cause certain SSL connections to fail. For more information, see https://urllib3.readthedocs.org/en/latest/security.html#insecureplatformwarning.\n",
        "  InsecurePlatformWarning\n",
        "/Users/williamspearman/anaconda/lib/python2.7/site-packages/requests/packages/urllib3/util/ssl_.py:79: InsecurePlatformWarning: A true SSLContext object is not available. This prevents urllib3 from configuring SSL appropriately and may cause certain SSL connections to fail. For more information, see https://urllib3.readthedocs.org/en/latest/security.html#insecureplatformwarning.\n",
        "  InsecurePlatformWarning\n"
       ]
      },
      {
       "output_type": "stream",
       "stream": "stdout",
       "text": [
        "\n",
        "Actual type: PUNT\n",
        "Predicted type: PUNT"
       ]
      },
      {
       "output_type": "stream",
       "stream": "stdout",
       "text": [
        "\n",
        "Actual type: PUNT\n",
        "Predicted type: PUNT"
       ]
      },
      {
       "output_type": "stream",
       "stream": "stderr",
       "text": [
        "/Users/williamspearman/anaconda/lib/python2.7/site-packages/requests/packages/urllib3/util/ssl_.py:79: InsecurePlatformWarning: A true SSLContext object is not available. This prevents urllib3 from configuring SSL appropriately and may cause certain SSL connections to fail. For more information, see https://urllib3.readthedocs.org/en/latest/security.html#insecureplatformwarning.\n",
        "  InsecurePlatformWarning\n",
        "/Users/williamspearman/anaconda/lib/python2.7/site-packages/requests/packages/urllib3/util/ssl_.py:79: InsecurePlatformWarning: A true SSLContext object is not available. This prevents urllib3 from configuring SSL appropriately and may cause certain SSL connections to fail. For more information, see https://urllib3.readthedocs.org/en/latest/security.html#insecureplatformwarning.\n",
        "  InsecurePlatformWarning\n"
       ]
      },
      {
       "output_type": "stream",
       "stream": "stdout",
       "text": [
        "\n",
        "Actual type: PUNT\n",
        "Predicted type: PUNT"
       ]
      },
      {
       "output_type": "stream",
       "stream": "stdout",
       "text": [
        "\n",
        "Actual type: PUNT\n",
        "Predicted type: FG"
       ]
      },
      {
       "output_type": "stream",
       "stream": "stderr",
       "text": [
        "/Users/williamspearman/anaconda/lib/python2.7/site-packages/requests/packages/urllib3/util/ssl_.py:79: InsecurePlatformWarning: A true SSLContext object is not available. This prevents urllib3 from configuring SSL appropriately and may cause certain SSL connections to fail. For more information, see https://urllib3.readthedocs.org/en/latest/security.html#insecureplatformwarning.\n",
        "  InsecurePlatformWarning\n",
        "/Users/williamspearman/anaconda/lib/python2.7/site-packages/requests/packages/urllib3/util/ssl_.py:79: InsecurePlatformWarning: A true SSLContext object is not available. This prevents urllib3 from configuring SSL appropriately and may cause certain SSL connections to fail. For more information, see https://urllib3.readthedocs.org/en/latest/security.html#insecureplatformwarning.\n",
        "  InsecurePlatformWarning\n"
       ]
      },
      {
       "output_type": "stream",
       "stream": "stdout",
       "text": [
        "\n",
        "Actual type: PUNT\n",
        "Predicted type: FG"
       ]
      },
      {
       "output_type": "stream",
       "stream": "stdout",
       "text": [
        "\n",
        "Actual type: PUNT\n",
        "Predicted type: PUNT"
       ]
      },
      {
       "output_type": "stream",
       "stream": "stderr",
       "text": [
        "/Users/williamspearman/anaconda/lib/python2.7/site-packages/requests/packages/urllib3/util/ssl_.py:79: InsecurePlatformWarning: A true SSLContext object is not available. This prevents urllib3 from configuring SSL appropriately and may cause certain SSL connections to fail. For more information, see https://urllib3.readthedocs.org/en/latest/security.html#insecureplatformwarning.\n",
        "  InsecurePlatformWarning\n",
        "/Users/williamspearman/anaconda/lib/python2.7/site-packages/requests/packages/urllib3/util/ssl_.py:79: InsecurePlatformWarning: A true SSLContext object is not available. This prevents urllib3 from configuring SSL appropriately and may cause certain SSL connections to fail. For more information, see https://urllib3.readthedocs.org/en/latest/security.html#insecureplatformwarning.\n",
        "  InsecurePlatformWarning\n"
       ]
      },
      {
       "output_type": "stream",
       "stream": "stdout",
       "text": [
        "\n",
        "Actual type: PUNT\n",
        "Predicted type: PUNT"
       ]
      },
      {
       "output_type": "stream",
       "stream": "stdout",
       "text": [
        "\n",
        "Actual type: PUNT\n",
        "Predicted type: PUNT"
       ]
      },
      {
       "output_type": "stream",
       "stream": "stderr",
       "text": [
        "/Users/williamspearman/anaconda/lib/python2.7/site-packages/requests/packages/urllib3/util/ssl_.py:79: InsecurePlatformWarning: A true SSLContext object is not available. This prevents urllib3 from configuring SSL appropriately and may cause certain SSL connections to fail. For more information, see https://urllib3.readthedocs.org/en/latest/security.html#insecureplatformwarning.\n",
        "  InsecurePlatformWarning\n",
        "/Users/williamspearman/anaconda/lib/python2.7/site-packages/requests/packages/urllib3/util/ssl_.py:79: InsecurePlatformWarning: A true SSLContext object is not available. This prevents urllib3 from configuring SSL appropriately and may cause certain SSL connections to fail. For more information, see https://urllib3.readthedocs.org/en/latest/security.html#insecureplatformwarning.\n",
        "  InsecurePlatformWarning\n"
       ]
      },
      {
       "output_type": "stream",
       "stream": "stdout",
       "text": [
        "\n",
        "Actual type: PUNT\n",
        "Predicted type: FG"
       ]
      },
      {
       "output_type": "stream",
       "stream": "stdout",
       "text": [
        "\n",
        "Actual type: PUNT\n",
        "Predicted type: PUNT"
       ]
      },
      {
       "output_type": "stream",
       "stream": "stderr",
       "text": [
        "/Users/williamspearman/anaconda/lib/python2.7/site-packages/requests/packages/urllib3/util/ssl_.py:79: InsecurePlatformWarning: A true SSLContext object is not available. This prevents urllib3 from configuring SSL appropriately and may cause certain SSL connections to fail. For more information, see https://urllib3.readthedocs.org/en/latest/security.html#insecureplatformwarning.\n",
        "  InsecurePlatformWarning\n",
        "/Users/williamspearman/anaconda/lib/python2.7/site-packages/requests/packages/urllib3/util/ssl_.py:79: InsecurePlatformWarning: A true SSLContext object is not available. This prevents urllib3 from configuring SSL appropriately and may cause certain SSL connections to fail. For more information, see https://urllib3.readthedocs.org/en/latest/security.html#insecureplatformwarning.\n",
        "  InsecurePlatformWarning\n"
       ]
      },
      {
       "output_type": "stream",
       "stream": "stdout",
       "text": [
        "\n",
        "Actual type: PUNT\n",
        "Predicted type: FG"
       ]
      },
      {
       "output_type": "stream",
       "stream": "stdout",
       "text": [
        "\n",
        "Actual type: PUNT\n",
        "Predicted type: FG"
       ]
      },
      {
       "output_type": "stream",
       "stream": "stderr",
       "text": [
        "/Users/williamspearman/anaconda/lib/python2.7/site-packages/requests/packages/urllib3/util/ssl_.py:79: InsecurePlatformWarning: A true SSLContext object is not available. This prevents urllib3 from configuring SSL appropriately and may cause certain SSL connections to fail. For more information, see https://urllib3.readthedocs.org/en/latest/security.html#insecureplatformwarning.\n",
        "  InsecurePlatformWarning\n",
        "/Users/williamspearman/anaconda/lib/python2.7/site-packages/requests/packages/urllib3/util/ssl_.py:79: InsecurePlatformWarning: A true SSLContext object is not available. This prevents urllib3 from configuring SSL appropriately and may cause certain SSL connections to fail. For more information, see https://urllib3.readthedocs.org/en/latest/security.html#insecureplatformwarning.\n",
        "  InsecurePlatformWarning\n"
       ]
      },
      {
       "output_type": "stream",
       "stream": "stdout",
       "text": [
        "\n",
        "Actual type: PUNT\n",
        "Predicted type: PUNT"
       ]
      },
      {
       "output_type": "stream",
       "stream": "stdout",
       "text": [
        "\n",
        "Actual type: PUNT\n",
        "Predicted type: PUNT"
       ]
      },
      {
       "output_type": "stream",
       "stream": "stderr",
       "text": [
        "/Users/williamspearman/anaconda/lib/python2.7/site-packages/requests/packages/urllib3/util/ssl_.py:79: InsecurePlatformWarning: A true SSLContext object is not available. This prevents urllib3 from configuring SSL appropriately and may cause certain SSL connections to fail. For more information, see https://urllib3.readthedocs.org/en/latest/security.html#insecureplatformwarning.\n",
        "  InsecurePlatformWarning\n",
        "/Users/williamspearman/anaconda/lib/python2.7/site-packages/requests/packages/urllib3/util/ssl_.py:79: InsecurePlatformWarning: A true SSLContext object is not available. This prevents urllib3 from configuring SSL appropriately and may cause certain SSL connections to fail. For more information, see https://urllib3.readthedocs.org/en/latest/security.html#insecureplatformwarning.\n",
        "  InsecurePlatformWarning\n"
       ]
      },
      {
       "output_type": "stream",
       "stream": "stdout",
       "text": [
        "\n",
        "Actual type: PUNT\n",
        "Predicted type: PUNT"
       ]
      },
      {
       "output_type": "stream",
       "stream": "stdout",
       "text": [
        "\n",
        "Actual type: PUNT\n",
        "Predicted type: FG"
       ]
      },
      {
       "output_type": "stream",
       "stream": "stderr",
       "text": [
        "/Users/williamspearman/anaconda/lib/python2.7/site-packages/requests/packages/urllib3/util/ssl_.py:79: InsecurePlatformWarning: A true SSLContext object is not available. This prevents urllib3 from configuring SSL appropriately and may cause certain SSL connections to fail. For more information, see https://urllib3.readthedocs.org/en/latest/security.html#insecureplatformwarning.\n",
        "  InsecurePlatformWarning\n",
        "/Users/williamspearman/anaconda/lib/python2.7/site-packages/requests/packages/urllib3/util/ssl_.py:79: InsecurePlatformWarning: A true SSLContext object is not available. This prevents urllib3 from configuring SSL appropriately and may cause certain SSL connections to fail. For more information, see https://urllib3.readthedocs.org/en/latest/security.html#insecureplatformwarning.\n",
        "  InsecurePlatformWarning\n"
       ]
      },
      {
       "output_type": "stream",
       "stream": "stdout",
       "text": [
        "\n",
        "Actual type: PUNT\n",
        "Predicted type: PUNT"
       ]
      },
      {
       "output_type": "stream",
       "stream": "stdout",
       "text": [
        "\n",
        "Actual type: PUNT\n",
        "Predicted type: PUNT"
       ]
      },
      {
       "output_type": "stream",
       "stream": "stderr",
       "text": [
        "/Users/williamspearman/anaconda/lib/python2.7/site-packages/requests/packages/urllib3/util/ssl_.py:79: InsecurePlatformWarning: A true SSLContext object is not available. This prevents urllib3 from configuring SSL appropriately and may cause certain SSL connections to fail. For more information, see https://urllib3.readthedocs.org/en/latest/security.html#insecureplatformwarning.\n",
        "  InsecurePlatformWarning\n",
        "/Users/williamspearman/anaconda/lib/python2.7/site-packages/requests/packages/urllib3/util/ssl_.py:79: InsecurePlatformWarning: A true SSLContext object is not available. This prevents urllib3 from configuring SSL appropriately and may cause certain SSL connections to fail. For more information, see https://urllib3.readthedocs.org/en/latest/security.html#insecureplatformwarning.\n",
        "  InsecurePlatformWarning\n"
       ]
      },
      {
       "output_type": "stream",
       "stream": "stdout",
       "text": [
        "\n",
        "Actual type: PUNT\n",
        "Predicted type: PUNT"
       ]
      },
      {
       "output_type": "stream",
       "stream": "stdout",
       "text": [
        "\n",
        "Actual type: PUNT\n",
        "Predicted type: PUNT"
       ]
      },
      {
       "output_type": "stream",
       "stream": "stderr",
       "text": [
        "/Users/williamspearman/anaconda/lib/python2.7/site-packages/requests/packages/urllib3/util/ssl_.py:79: InsecurePlatformWarning: A true SSLContext object is not available. This prevents urllib3 from configuring SSL appropriately and may cause certain SSL connections to fail. For more information, see https://urllib3.readthedocs.org/en/latest/security.html#insecureplatformwarning.\n",
        "  InsecurePlatformWarning\n",
        "/Users/williamspearman/anaconda/lib/python2.7/site-packages/requests/packages/urllib3/util/ssl_.py:79: InsecurePlatformWarning: A true SSLContext object is not available. This prevents urllib3 from configuring SSL appropriately and may cause certain SSL connections to fail. For more information, see https://urllib3.readthedocs.org/en/latest/security.html#insecureplatformwarning.\n",
        "  InsecurePlatformWarning\n"
       ]
      },
      {
       "output_type": "stream",
       "stream": "stdout",
       "text": [
        "\n",
        "Actual type: PUNT\n",
        "Predicted type: PUNT"
       ]
      },
      {
       "output_type": "stream",
       "stream": "stdout",
       "text": [
        "\n",
        "Actual type: FG\n",
        "Predicted type: FG"
       ]
      },
      {
       "output_type": "stream",
       "stream": "stderr",
       "text": [
        "/Users/williamspearman/anaconda/lib/python2.7/site-packages/requests/packages/urllib3/util/ssl_.py:79: InsecurePlatformWarning: A true SSLContext object is not available. This prevents urllib3 from configuring SSL appropriately and may cause certain SSL connections to fail. For more information, see https://urllib3.readthedocs.org/en/latest/security.html#insecureplatformwarning.\n",
        "  InsecurePlatformWarning\n",
        "/Users/williamspearman/anaconda/lib/python2.7/site-packages/requests/packages/urllib3/util/ssl_.py:79: InsecurePlatformWarning: A true SSLContext object is not available. This prevents urllib3 from configuring SSL appropriately and may cause certain SSL connections to fail. For more information, see https://urllib3.readthedocs.org/en/latest/security.html#insecureplatformwarning.\n",
        "  InsecurePlatformWarning\n"
       ]
      },
      {
       "output_type": "stream",
       "stream": "stdout",
       "text": [
        "\n",
        "Actual type: FG\n",
        "Predicted type: FG"
       ]
      },
      {
       "output_type": "stream",
       "stream": "stdout",
       "text": [
        "\n",
        "Actual type: FG\n",
        "Predicted type: FG"
       ]
      },
      {
       "output_type": "stream",
       "stream": "stderr",
       "text": [
        "/Users/williamspearman/anaconda/lib/python2.7/site-packages/requests/packages/urllib3/util/ssl_.py:79: InsecurePlatformWarning: A true SSLContext object is not available. This prevents urllib3 from configuring SSL appropriately and may cause certain SSL connections to fail. For more information, see https://urllib3.readthedocs.org/en/latest/security.html#insecureplatformwarning.\n",
        "  InsecurePlatformWarning\n",
        "/Users/williamspearman/anaconda/lib/python2.7/site-packages/requests/packages/urllib3/util/ssl_.py:79: InsecurePlatformWarning: A true SSLContext object is not available. This prevents urllib3 from configuring SSL appropriately and may cause certain SSL connections to fail. For more information, see https://urllib3.readthedocs.org/en/latest/security.html#insecureplatformwarning.\n",
        "  InsecurePlatformWarning\n"
       ]
      },
      {
       "output_type": "stream",
       "stream": "stdout",
       "text": [
        "\n",
        "Actual type: FG\n",
        "Predicted type: FG"
       ]
      },
      {
       "output_type": "stream",
       "stream": "stdout",
       "text": [
        "\n",
        "Actual type: FG\n",
        "Predicted type: FG"
       ]
      },
      {
       "output_type": "stream",
       "stream": "stderr",
       "text": [
        "/Users/williamspearman/anaconda/lib/python2.7/site-packages/requests/packages/urllib3/util/ssl_.py:79: InsecurePlatformWarning: A true SSLContext object is not available. This prevents urllib3 from configuring SSL appropriately and may cause certain SSL connections to fail. For more information, see https://urllib3.readthedocs.org/en/latest/security.html#insecureplatformwarning.\n",
        "  InsecurePlatformWarning\n",
        "/Users/williamspearman/anaconda/lib/python2.7/site-packages/requests/packages/urllib3/util/ssl_.py:79: InsecurePlatformWarning: A true SSLContext object is not available. This prevents urllib3 from configuring SSL appropriately and may cause certain SSL connections to fail. For more information, see https://urllib3.readthedocs.org/en/latest/security.html#insecureplatformwarning.\n",
        "  InsecurePlatformWarning\n"
       ]
      },
      {
       "output_type": "stream",
       "stream": "stdout",
       "text": [
        "\n",
        "Actual type: FG\n",
        "Predicted type: FG"
       ]
      },
      {
       "output_type": "stream",
       "stream": "stdout",
       "text": [
        "\n",
        "Actual type: FG\n",
        "Predicted type: FG"
       ]
      },
      {
       "output_type": "stream",
       "stream": "stderr",
       "text": [
        "/Users/williamspearman/anaconda/lib/python2.7/site-packages/requests/packages/urllib3/util/ssl_.py:79: InsecurePlatformWarning: A true SSLContext object is not available. This prevents urllib3 from configuring SSL appropriately and may cause certain SSL connections to fail. For more information, see https://urllib3.readthedocs.org/en/latest/security.html#insecureplatformwarning.\n",
        "  InsecurePlatformWarning\n",
        "/Users/williamspearman/anaconda/lib/python2.7/site-packages/requests/packages/urllib3/util/ssl_.py:79: InsecurePlatformWarning: A true SSLContext object is not available. This prevents urllib3 from configuring SSL appropriately and may cause certain SSL connections to fail. For more information, see https://urllib3.readthedocs.org/en/latest/security.html#insecureplatformwarning.\n",
        "  InsecurePlatformWarning\n"
       ]
      },
      {
       "output_type": "stream",
       "stream": "stdout",
       "text": [
        "\n",
        "Actual type: FG\n",
        "Predicted type: FG"
       ]
      },
      {
       "output_type": "stream",
       "stream": "stdout",
       "text": [
        "\n",
        "Actual type: FG\n",
        "Predicted type: FG"
       ]
      },
      {
       "output_type": "stream",
       "stream": "stderr",
       "text": [
        "/Users/williamspearman/anaconda/lib/python2.7/site-packages/requests/packages/urllib3/util/ssl_.py:79: InsecurePlatformWarning: A true SSLContext object is not available. This prevents urllib3 from configuring SSL appropriately and may cause certain SSL connections to fail. For more information, see https://urllib3.readthedocs.org/en/latest/security.html#insecureplatformwarning.\n",
        "  InsecurePlatformWarning\n",
        "/Users/williamspearman/anaconda/lib/python2.7/site-packages/requests/packages/urllib3/util/ssl_.py:79: InsecurePlatformWarning: A true SSLContext object is not available. This prevents urllib3 from configuring SSL appropriately and may cause certain SSL connections to fail. For more information, see https://urllib3.readthedocs.org/en/latest/security.html#insecureplatformwarning.\n",
        "  InsecurePlatformWarning\n"
       ]
      },
      {
       "output_type": "stream",
       "stream": "stdout",
       "text": [
        "\n",
        "Actual type: FG\n",
        "Predicted type: FG"
       ]
      },
      {
       "output_type": "stream",
       "stream": "stdout",
       "text": [
        "\n",
        "Actual type: FG\n",
        "Predicted type: FG"
       ]
      },
      {
       "output_type": "stream",
       "stream": "stderr",
       "text": [
        "/Users/williamspearman/anaconda/lib/python2.7/site-packages/requests/packages/urllib3/util/ssl_.py:79: InsecurePlatformWarning: A true SSLContext object is not available. This prevents urllib3 from configuring SSL appropriately and may cause certain SSL connections to fail. For more information, see https://urllib3.readthedocs.org/en/latest/security.html#insecureplatformwarning.\n",
        "  InsecurePlatformWarning\n",
        "/Users/williamspearman/anaconda/lib/python2.7/site-packages/requests/packages/urllib3/util/ssl_.py:79: InsecurePlatformWarning: A true SSLContext object is not available. This prevents urllib3 from configuring SSL appropriately and may cause certain SSL connections to fail. For more information, see https://urllib3.readthedocs.org/en/latest/security.html#insecureplatformwarning.\n",
        "  InsecurePlatformWarning\n"
       ]
      },
      {
       "output_type": "stream",
       "stream": "stdout",
       "text": [
        "\n",
        "Actual type: FG\n",
        "Predicted type: FG"
       ]
      },
      {
       "output_type": "stream",
       "stream": "stdout",
       "text": [
        "\n",
        "Actual type: FG\n",
        "Predicted type: FG"
       ]
      },
      {
       "output_type": "stream",
       "stream": "stderr",
       "text": [
        "/Users/williamspearman/anaconda/lib/python2.7/site-packages/requests/packages/urllib3/util/ssl_.py:79: InsecurePlatformWarning: A true SSLContext object is not available. This prevents urllib3 from configuring SSL appropriately and may cause certain SSL connections to fail. For more information, see https://urllib3.readthedocs.org/en/latest/security.html#insecureplatformwarning.\n",
        "  InsecurePlatformWarning\n",
        "/Users/williamspearman/anaconda/lib/python2.7/site-packages/requests/packages/urllib3/util/ssl_.py:79: InsecurePlatformWarning: A true SSLContext object is not available. This prevents urllib3 from configuring SSL appropriately and may cause certain SSL connections to fail. For more information, see https://urllib3.readthedocs.org/en/latest/security.html#insecureplatformwarning.\n",
        "  InsecurePlatformWarning\n"
       ]
      },
      {
       "output_type": "stream",
       "stream": "stdout",
       "text": [
        "\n",
        "Actual type: FG\n",
        "Predicted type: FG"
       ]
      },
      {
       "output_type": "stream",
       "stream": "stdout",
       "text": [
        "\n",
        "Actual type: FG\n",
        "Predicted type: FG"
       ]
      },
      {
       "output_type": "stream",
       "stream": "stderr",
       "text": [
        "/Users/williamspearman/anaconda/lib/python2.7/site-packages/requests/packages/urllib3/util/ssl_.py:79: InsecurePlatformWarning: A true SSLContext object is not available. This prevents urllib3 from configuring SSL appropriately and may cause certain SSL connections to fail. For more information, see https://urllib3.readthedocs.org/en/latest/security.html#insecureplatformwarning.\n",
        "  InsecurePlatformWarning\n",
        "/Users/williamspearman/anaconda/lib/python2.7/site-packages/requests/packages/urllib3/util/ssl_.py:79: InsecurePlatformWarning: A true SSLContext object is not available. This prevents urllib3 from configuring SSL appropriately and may cause certain SSL connections to fail. For more information, see https://urllib3.readthedocs.org/en/latest/security.html#insecureplatformwarning.\n",
        "  InsecurePlatformWarning\n"
       ]
      },
      {
       "output_type": "stream",
       "stream": "stdout",
       "text": [
        "\n",
        "Actual type: FG\n",
        "Predicted type: FG"
       ]
      },
      {
       "output_type": "stream",
       "stream": "stdout",
       "text": [
        "\n",
        "Actual type: FG\n",
        "Predicted type: FG"
       ]
      },
      {
       "output_type": "stream",
       "stream": "stderr",
       "text": [
        "/Users/williamspearman/anaconda/lib/python2.7/site-packages/requests/packages/urllib3/util/ssl_.py:79: InsecurePlatformWarning: A true SSLContext object is not available. This prevents urllib3 from configuring SSL appropriately and may cause certain SSL connections to fail. For more information, see https://urllib3.readthedocs.org/en/latest/security.html#insecureplatformwarning.\n",
        "  InsecurePlatformWarning\n",
        "/Users/williamspearman/anaconda/lib/python2.7/site-packages/requests/packages/urllib3/util/ssl_.py:79: InsecurePlatformWarning: A true SSLContext object is not available. This prevents urllib3 from configuring SSL appropriately and may cause certain SSL connections to fail. For more information, see https://urllib3.readthedocs.org/en/latest/security.html#insecureplatformwarning.\n",
        "  InsecurePlatformWarning\n"
       ]
      },
      {
       "output_type": "stream",
       "stream": "stdout",
       "text": [
        "\n",
        "Actual type: FG\n",
        "Predicted type: FG"
       ]
      },
      {
       "output_type": "stream",
       "stream": "stdout",
       "text": [
        "\n",
        "Actual type: FG\n",
        "Predicted type: FG"
       ]
      },
      {
       "output_type": "stream",
       "stream": "stderr",
       "text": [
        "/Users/williamspearman/anaconda/lib/python2.7/site-packages/requests/packages/urllib3/util/ssl_.py:79: InsecurePlatformWarning: A true SSLContext object is not available. This prevents urllib3 from configuring SSL appropriately and may cause certain SSL connections to fail. For more information, see https://urllib3.readthedocs.org/en/latest/security.html#insecureplatformwarning.\n",
        "  InsecurePlatformWarning\n",
        "/Users/williamspearman/anaconda/lib/python2.7/site-packages/requests/packages/urllib3/util/ssl_.py:79: InsecurePlatformWarning: A true SSLContext object is not available. This prevents urllib3 from configuring SSL appropriately and may cause certain SSL connections to fail. For more information, see https://urllib3.readthedocs.org/en/latest/security.html#insecureplatformwarning.\n",
        "  InsecurePlatformWarning\n"
       ]
      },
      {
       "output_type": "stream",
       "stream": "stdout",
       "text": [
        "\n",
        "Actual type: FG\n",
        "Predicted type: PUNT"
       ]
      },
      {
       "output_type": "stream",
       "stream": "stdout",
       "text": [
        "\n",
        "Actual type: FG\n",
        "Predicted type: FG"
       ]
      },
      {
       "output_type": "stream",
       "stream": "stderr",
       "text": [
        "/Users/williamspearman/anaconda/lib/python2.7/site-packages/requests/packages/urllib3/util/ssl_.py:79: InsecurePlatformWarning: A true SSLContext object is not available. This prevents urllib3 from configuring SSL appropriately and may cause certain SSL connections to fail. For more information, see https://urllib3.readthedocs.org/en/latest/security.html#insecureplatformwarning.\n",
        "  InsecurePlatformWarning\n",
        "/Users/williamspearman/anaconda/lib/python2.7/site-packages/requests/packages/urllib3/util/ssl_.py:79: InsecurePlatformWarning: A true SSLContext object is not available. This prevents urllib3 from configuring SSL appropriately and may cause certain SSL connections to fail. For more information, see https://urllib3.readthedocs.org/en/latest/security.html#insecureplatformwarning.\n",
        "  InsecurePlatformWarning\n"
       ]
      },
      {
       "output_type": "stream",
       "stream": "stdout",
       "text": [
        "\n",
        "Actual type: FG\n",
        "Predicted type: FG"
       ]
      },
      {
       "output_type": "stream",
       "stream": "stdout",
       "text": [
        "\n",
        "Actual type: FG\n",
        "Predicted type: FG"
       ]
      },
      {
       "output_type": "stream",
       "stream": "stderr",
       "text": [
        "/Users/williamspearman/anaconda/lib/python2.7/site-packages/requests/packages/urllib3/util/ssl_.py:79: InsecurePlatformWarning: A true SSLContext object is not available. This prevents urllib3 from configuring SSL appropriately and may cause certain SSL connections to fail. For more information, see https://urllib3.readthedocs.org/en/latest/security.html#insecureplatformwarning.\n",
        "  InsecurePlatformWarning\n",
        "/Users/williamspearman/anaconda/lib/python2.7/site-packages/requests/packages/urllib3/util/ssl_.py:79: InsecurePlatformWarning: A true SSLContext object is not available. This prevents urllib3 from configuring SSL appropriately and may cause certain SSL connections to fail. For more information, see https://urllib3.readthedocs.org/en/latest/security.html#insecureplatformwarning.\n",
        "  InsecurePlatformWarning\n"
       ]
      },
      {
       "output_type": "stream",
       "stream": "stdout",
       "text": [
        "\n",
        "Actual type: FG\n",
        "Predicted type: FG"
       ]
      },
      {
       "output_type": "stream",
       "stream": "stdout",
       "text": [
        "\n",
        "Actual type: FG\n",
        "Predicted type: FG"
       ]
      },
      {
       "output_type": "stream",
       "stream": "stderr",
       "text": [
        "/Users/williamspearman/anaconda/lib/python2.7/site-packages/requests/packages/urllib3/util/ssl_.py:79: InsecurePlatformWarning: A true SSLContext object is not available. This prevents urllib3 from configuring SSL appropriately and may cause certain SSL connections to fail. For more information, see https://urllib3.readthedocs.org/en/latest/security.html#insecureplatformwarning.\n",
        "  InsecurePlatformWarning\n",
        "/Users/williamspearman/anaconda/lib/python2.7/site-packages/requests/packages/urllib3/util/ssl_.py:79: InsecurePlatformWarning: A true SSLContext object is not available. This prevents urllib3 from configuring SSL appropriately and may cause certain SSL connections to fail. For more information, see https://urllib3.readthedocs.org/en/latest/security.html#insecureplatformwarning.\n",
        "  InsecurePlatformWarning\n"
       ]
      },
      {
       "output_type": "stream",
       "stream": "stdout",
       "text": [
        "\n",
        "Actual type: FG\n",
        "Predicted type: FG"
       ]
      },
      {
       "output_type": "stream",
       "stream": "stdout",
       "text": [
        "\n",
        "Actual type: FG\n",
        "Predicted type: FG"
       ]
      },
      {
       "output_type": "stream",
       "stream": "stderr",
       "text": [
        "/Users/williamspearman/anaconda/lib/python2.7/site-packages/requests/packages/urllib3/util/ssl_.py:79: InsecurePlatformWarning: A true SSLContext object is not available. This prevents urllib3 from configuring SSL appropriately and may cause certain SSL connections to fail. For more information, see https://urllib3.readthedocs.org/en/latest/security.html#insecureplatformwarning.\n",
        "  InsecurePlatformWarning\n",
        "/Users/williamspearman/anaconda/lib/python2.7/site-packages/requests/packages/urllib3/util/ssl_.py:79: InsecurePlatformWarning: A true SSLContext object is not available. This prevents urllib3 from configuring SSL appropriately and may cause certain SSL connections to fail. For more information, see https://urllib3.readthedocs.org/en/latest/security.html#insecureplatformwarning.\n",
        "  InsecurePlatformWarning\n"
       ]
      },
      {
       "output_type": "stream",
       "stream": "stdout",
       "text": [
        "\n",
        "Actual type: FG\n",
        "Predicted type: FG"
       ]
      },
      {
       "output_type": "stream",
       "stream": "stdout",
       "text": [
        "\n",
        "Actual type: FG\n",
        "Predicted type: FG"
       ]
      },
      {
       "output_type": "stream",
       "stream": "stderr",
       "text": [
        "/Users/williamspearman/anaconda/lib/python2.7/site-packages/requests/packages/urllib3/util/ssl_.py:79: InsecurePlatformWarning: A true SSLContext object is not available. This prevents urllib3 from configuring SSL appropriately and may cause certain SSL connections to fail. For more information, see https://urllib3.readthedocs.org/en/latest/security.html#insecureplatformwarning.\n",
        "  InsecurePlatformWarning\n",
        "/Users/williamspearman/anaconda/lib/python2.7/site-packages/requests/packages/urllib3/util/ssl_.py:79: InsecurePlatformWarning: A true SSLContext object is not available. This prevents urllib3 from configuring SSL appropriately and may cause certain SSL connections to fail. For more information, see https://urllib3.readthedocs.org/en/latest/security.html#insecureplatformwarning.\n",
        "  InsecurePlatformWarning\n"
       ]
      },
      {
       "output_type": "stream",
       "stream": "stdout",
       "text": [
        "\n",
        "Actual type: FG\n",
        "Predicted type: PUNT"
       ]
      },
      {
       "output_type": "stream",
       "stream": "stdout",
       "text": [
        "\n",
        "Actual type: FG\n",
        "Predicted type: FG"
       ]
      },
      {
       "output_type": "stream",
       "stream": "stderr",
       "text": [
        "/Users/williamspearman/anaconda/lib/python2.7/site-packages/requests/packages/urllib3/util/ssl_.py:79: InsecurePlatformWarning: A true SSLContext object is not available. This prevents urllib3 from configuring SSL appropriately and may cause certain SSL connections to fail. For more information, see https://urllib3.readthedocs.org/en/latest/security.html#insecureplatformwarning.\n",
        "  InsecurePlatformWarning\n",
        "/Users/williamspearman/anaconda/lib/python2.7/site-packages/requests/packages/urllib3/util/ssl_.py:79: InsecurePlatformWarning: A true SSLContext object is not available. This prevents urllib3 from configuring SSL appropriately and may cause certain SSL connections to fail. For more information, see https://urllib3.readthedocs.org/en/latest/security.html#insecureplatformwarning.\n",
        "  InsecurePlatformWarning\n"
       ]
      },
      {
       "output_type": "stream",
       "stream": "stdout",
       "text": [
        "\n",
        "Actual type: FG\n",
        "Predicted type: FG"
       ]
      },
      {
       "output_type": "stream",
       "stream": "stdout",
       "text": [
        "\n",
        "Actual type: FG\n",
        "Predicted type: FG"
       ]
      },
      {
       "output_type": "stream",
       "stream": "stderr",
       "text": [
        "/Users/williamspearman/anaconda/lib/python2.7/site-packages/requests/packages/urllib3/util/ssl_.py:79: InsecurePlatformWarning: A true SSLContext object is not available. This prevents urllib3 from configuring SSL appropriately and may cause certain SSL connections to fail. For more information, see https://urllib3.readthedocs.org/en/latest/security.html#insecureplatformwarning.\n",
        "  InsecurePlatformWarning\n",
        "/Users/williamspearman/anaconda/lib/python2.7/site-packages/requests/packages/urllib3/util/ssl_.py:79: InsecurePlatformWarning: A true SSLContext object is not available. This prevents urllib3 from configuring SSL appropriately and may cause certain SSL connections to fail. For more information, see https://urllib3.readthedocs.org/en/latest/security.html#insecureplatformwarning.\n",
        "  InsecurePlatformWarning\n"
       ]
      },
      {
       "output_type": "stream",
       "stream": "stdout",
       "text": [
        "\n",
        "Actual type: FG\n",
        "Predicted type: FG"
       ]
      },
      {
       "output_type": "stream",
       "stream": "stdout",
       "text": [
        "\n",
        "Actual type: FG\n",
        "Predicted type: FG"
       ]
      },
      {
       "output_type": "stream",
       "stream": "stderr",
       "text": [
        "/Users/williamspearman/anaconda/lib/python2.7/site-packages/requests/packages/urllib3/util/ssl_.py:79: InsecurePlatformWarning: A true SSLContext object is not available. This prevents urllib3 from configuring SSL appropriately and may cause certain SSL connections to fail. For more information, see https://urllib3.readthedocs.org/en/latest/security.html#insecureplatformwarning.\n",
        "  InsecurePlatformWarning\n",
        "/Users/williamspearman/anaconda/lib/python2.7/site-packages/requests/packages/urllib3/util/ssl_.py:79: InsecurePlatformWarning: A true SSLContext object is not available. This prevents urllib3 from configuring SSL appropriately and may cause certain SSL connections to fail. For more information, see https://urllib3.readthedocs.org/en/latest/security.html#insecureplatformwarning.\n",
        "  InsecurePlatformWarning\n"
       ]
      },
      {
       "output_type": "stream",
       "stream": "stdout",
       "text": [
        "\n",
        "Actual type: FG\n",
        "Predicted type: FG"
       ]
      },
      {
       "output_type": "stream",
       "stream": "stdout",
       "text": [
        "\n",
        "Percent Correct: 0.86\n"
       ]
      }
     ],
     "prompt_number": 177
    },
    {
     "cell_type": "code",
     "collapsed": false,
     "input": [
      "print \"Percent Correct: %.2f\" % (float(right_label)/float(right_label+wrong_label))"
     ],
     "language": "python",
     "metadata": {},
     "outputs": [
      {
       "output_type": "stream",
       "stream": "stdout",
       "text": [
        "Percent Correct: 0.86\n"
       ]
      }
     ],
     "prompt_number": 178
    },
    {
     "cell_type": "code",
     "collapsed": false,
     "input": [],
     "language": "python",
     "metadata": {},
     "outputs": []
    }
   ],
   "metadata": {}
  }
 ]
}