{
 "metadata": {
  "name": "",
  "signature": "sha256:2c4b2f3ec64e0876e84f9d81796b7ce8af643156ba47a3a4ec9398f7f3c02e9b"
 },
 "nbformat": 3,
 "nbformat_minor": 0,
 "worksheets": [
  {
   "cells": [
    {
     "cell_type": "code",
     "collapsed": false,
     "input": [
      "import json\n",
      "from sqlalchemy import create_engine\n",
      "import pymongo\n",
      "import pandas as pd\n",
      "import avro\n",
      "\n",
      "HOME = os.environ[\"HOME\"]\n",
      "sys.path.append(HOME)\n",
      "sys.path\n",
      "from ds_config import *\n",
      "\n",
      "from pyspark.sql import HiveContext"
     ],
     "language": "python",
     "metadata": {},
     "outputs": [],
     "prompt_number": 7
    },
    {
     "cell_type": "code",
     "collapsed": false,
     "input": [
      "sqlc = HiveContext(sc)\n",
      "sqlc.sql(\"SHOW TABLES\").collect() "
     ],
     "language": "python",
     "metadata": {},
     "outputs": [
      {
       "ename": "KeyboardInterrupt",
       "evalue": "",
       "output_type": "pyerr",
       "traceback": [
        "\u001b[0;31m---------------------------------------------------------------------------\u001b[0m\n\u001b[0;31mKeyboardInterrupt\u001b[0m                         Traceback (most recent call last)",
        "\u001b[0;32m<ipython-input-8-d14b4ba99ef9>\u001b[0m in \u001b[0;36m<module>\u001b[0;34m()\u001b[0m\n\u001b[1;32m      1\u001b[0m \u001b[0msqlc\u001b[0m \u001b[0;34m=\u001b[0m \u001b[0mHiveContext\u001b[0m\u001b[0;34m(\u001b[0m\u001b[0msc\u001b[0m\u001b[0;34m)\u001b[0m\u001b[0;34m\u001b[0m\u001b[0m\n\u001b[0;32m----> 2\u001b[0;31m \u001b[0msqlc\u001b[0m\u001b[0;34m.\u001b[0m\u001b[0msql\u001b[0m\u001b[0;34m(\u001b[0m\u001b[0;34m\"select * from teams limit 10\"\u001b[0m\u001b[0;34m)\u001b[0m\u001b[0;34m.\u001b[0m\u001b[0mcollect\u001b[0m\u001b[0;34m(\u001b[0m\u001b[0;34m)\u001b[0m\u001b[0;34m\u001b[0m\u001b[0m\n\u001b[0m",
        "\u001b[0;32m/Users/williamspearman/spark-1.2.1-bin-hadoop1/python/pyspark/sql.pyc\u001b[0m in \u001b[0;36mcollect\u001b[0;34m(self)\u001b[0m\n\u001b[1;32m   1976\u001b[0m         \"\"\"\n\u001b[1;32m   1977\u001b[0m         \u001b[0;32mwith\u001b[0m \u001b[0mSCCallSiteSync\u001b[0m\u001b[0;34m(\u001b[0m\u001b[0mself\u001b[0m\u001b[0;34m.\u001b[0m\u001b[0mcontext\u001b[0m\u001b[0;34m)\u001b[0m \u001b[0;32mas\u001b[0m \u001b[0mcss\u001b[0m\u001b[0;34m:\u001b[0m\u001b[0;34m\u001b[0m\u001b[0m\n\u001b[0;32m-> 1978\u001b[0;31m             \u001b[0mbytesInJava\u001b[0m \u001b[0;34m=\u001b[0m \u001b[0mself\u001b[0m\u001b[0;34m.\u001b[0m\u001b[0m_jschema_rdd\u001b[0m\u001b[0;34m.\u001b[0m\u001b[0mbaseSchemaRDD\u001b[0m\u001b[0;34m(\u001b[0m\u001b[0;34m)\u001b[0m\u001b[0;34m.\u001b[0m\u001b[0mcollectToPython\u001b[0m\u001b[0;34m(\u001b[0m\u001b[0;34m)\u001b[0m\u001b[0;34m.\u001b[0m\u001b[0miterator\u001b[0m\u001b[0;34m(\u001b[0m\u001b[0;34m)\u001b[0m\u001b[0;34m\u001b[0m\u001b[0m\n\u001b[0m\u001b[1;32m   1979\u001b[0m         \u001b[0mcls\u001b[0m \u001b[0;34m=\u001b[0m \u001b[0m_create_cls\u001b[0m\u001b[0;34m(\u001b[0m\u001b[0mself\u001b[0m\u001b[0;34m.\u001b[0m\u001b[0mschema\u001b[0m\u001b[0;34m(\u001b[0m\u001b[0;34m)\u001b[0m\u001b[0;34m)\u001b[0m\u001b[0;34m\u001b[0m\u001b[0m\n\u001b[1;32m   1980\u001b[0m         \u001b[0;32mreturn\u001b[0m \u001b[0mmap\u001b[0m\u001b[0;34m(\u001b[0m\u001b[0mcls\u001b[0m\u001b[0;34m,\u001b[0m \u001b[0mself\u001b[0m\u001b[0;34m.\u001b[0m\u001b[0m_collect_iterator_through_file\u001b[0m\u001b[0;34m(\u001b[0m\u001b[0mbytesInJava\u001b[0m\u001b[0;34m)\u001b[0m\u001b[0;34m)\u001b[0m\u001b[0;34m\u001b[0m\u001b[0m\n",
        "\u001b[0;32m/Users/williamspearman/spark-1.2.1-bin-hadoop1/python/lib/py4j-0.8.2.1-src.zip/py4j/java_gateway.py\u001b[0m in \u001b[0;36m__call__\u001b[0;34m(self, *args)\u001b[0m\n\u001b[1;32m    534\u001b[0m             \u001b[0mEND_COMMAND_PART\u001b[0m\u001b[0;34m\u001b[0m\u001b[0m\n\u001b[1;32m    535\u001b[0m \u001b[0;34m\u001b[0m\u001b[0m\n\u001b[0;32m--> 536\u001b[0;31m         \u001b[0manswer\u001b[0m \u001b[0;34m=\u001b[0m \u001b[0mself\u001b[0m\u001b[0;34m.\u001b[0m\u001b[0mgateway_client\u001b[0m\u001b[0;34m.\u001b[0m\u001b[0msend_command\u001b[0m\u001b[0;34m(\u001b[0m\u001b[0mcommand\u001b[0m\u001b[0;34m)\u001b[0m\u001b[0;34m\u001b[0m\u001b[0m\n\u001b[0m\u001b[1;32m    537\u001b[0m         return_value = get_return_value(answer, self.gateway_client,\n\u001b[1;32m    538\u001b[0m                 self.target_id, self.name)\n",
        "\u001b[0;32m/Users/williamspearman/spark-1.2.1-bin-hadoop1/python/lib/py4j-0.8.2.1-src.zip/py4j/java_gateway.py\u001b[0m in \u001b[0;36msend_command\u001b[0;34m(self, command, retry)\u001b[0m\n\u001b[1;32m    362\u001b[0m         \u001b[0mconnection\u001b[0m \u001b[0;34m=\u001b[0m \u001b[0mself\u001b[0m\u001b[0;34m.\u001b[0m\u001b[0m_get_connection\u001b[0m\u001b[0;34m(\u001b[0m\u001b[0;34m)\u001b[0m\u001b[0;34m\u001b[0m\u001b[0m\n\u001b[1;32m    363\u001b[0m         \u001b[0;32mtry\u001b[0m\u001b[0;34m:\u001b[0m\u001b[0;34m\u001b[0m\u001b[0m\n\u001b[0;32m--> 364\u001b[0;31m             \u001b[0mresponse\u001b[0m \u001b[0;34m=\u001b[0m \u001b[0mconnection\u001b[0m\u001b[0;34m.\u001b[0m\u001b[0msend_command\u001b[0m\u001b[0;34m(\u001b[0m\u001b[0mcommand\u001b[0m\u001b[0;34m)\u001b[0m\u001b[0;34m\u001b[0m\u001b[0m\n\u001b[0m\u001b[1;32m    365\u001b[0m             \u001b[0mself\u001b[0m\u001b[0;34m.\u001b[0m\u001b[0m_give_back_connection\u001b[0m\u001b[0;34m(\u001b[0m\u001b[0mconnection\u001b[0m\u001b[0;34m)\u001b[0m\u001b[0;34m\u001b[0m\u001b[0m\n\u001b[1;32m    366\u001b[0m         \u001b[0;32mexcept\u001b[0m \u001b[0mPy4JNetworkError\u001b[0m\u001b[0;34m:\u001b[0m\u001b[0;34m\u001b[0m\u001b[0m\n",
        "\u001b[0;32m/Users/williamspearman/spark-1.2.1-bin-hadoop1/python/lib/py4j-0.8.2.1-src.zip/py4j/java_gateway.py\u001b[0m in \u001b[0;36msend_command\u001b[0;34m(self, command)\u001b[0m\n\u001b[1;32m    471\u001b[0m         \u001b[0;32mtry\u001b[0m\u001b[0;34m:\u001b[0m\u001b[0;34m\u001b[0m\u001b[0m\n\u001b[1;32m    472\u001b[0m             \u001b[0mself\u001b[0m\u001b[0;34m.\u001b[0m\u001b[0msocket\u001b[0m\u001b[0;34m.\u001b[0m\u001b[0msendall\u001b[0m\u001b[0;34m(\u001b[0m\u001b[0mcommand\u001b[0m\u001b[0;34m.\u001b[0m\u001b[0mencode\u001b[0m\u001b[0;34m(\u001b[0m\u001b[0;34m'utf-8'\u001b[0m\u001b[0;34m)\u001b[0m\u001b[0;34m)\u001b[0m\u001b[0;34m\u001b[0m\u001b[0m\n\u001b[0;32m--> 473\u001b[0;31m             \u001b[0manswer\u001b[0m \u001b[0;34m=\u001b[0m \u001b[0msmart_decode\u001b[0m\u001b[0;34m(\u001b[0m\u001b[0mself\u001b[0m\u001b[0;34m.\u001b[0m\u001b[0mstream\u001b[0m\u001b[0;34m.\u001b[0m\u001b[0mreadline\u001b[0m\u001b[0;34m(\u001b[0m\u001b[0;34m)\u001b[0m\u001b[0;34m[\u001b[0m\u001b[0;34m:\u001b[0m\u001b[0;34m-\u001b[0m\u001b[0;36m1\u001b[0m\u001b[0;34m]\u001b[0m\u001b[0;34m)\u001b[0m\u001b[0;34m\u001b[0m\u001b[0m\n\u001b[0m\u001b[1;32m    474\u001b[0m             \u001b[0mlogger\u001b[0m\u001b[0;34m.\u001b[0m\u001b[0mdebug\u001b[0m\u001b[0;34m(\u001b[0m\u001b[0;34m\"Answer received: {0}\"\u001b[0m\u001b[0;34m.\u001b[0m\u001b[0mformat\u001b[0m\u001b[0;34m(\u001b[0m\u001b[0manswer\u001b[0m\u001b[0;34m)\u001b[0m\u001b[0;34m)\u001b[0m\u001b[0;34m\u001b[0m\u001b[0m\n\u001b[1;32m    475\u001b[0m             \u001b[0;31m# Happens when a the other end is dead. There might be an empty\u001b[0m\u001b[0;34m\u001b[0m\u001b[0;34m\u001b[0m\u001b[0m\n",
        "\u001b[0;32m/Users/williamspearman/anaconda/lib/python2.7/socket.pyc\u001b[0m in \u001b[0;36mreadline\u001b[0;34m(self, size)\u001b[0m\n\u001b[1;32m    428\u001b[0m                     \u001b[0;32mtry\u001b[0m\u001b[0;34m:\u001b[0m\u001b[0;34m\u001b[0m\u001b[0m\n\u001b[1;32m    429\u001b[0m                         \u001b[0;32mwhile\u001b[0m \u001b[0mdata\u001b[0m \u001b[0;34m!=\u001b[0m \u001b[0;34m\"\\n\"\u001b[0m\u001b[0;34m:\u001b[0m\u001b[0;34m\u001b[0m\u001b[0m\n\u001b[0;32m--> 430\u001b[0;31m                             \u001b[0mdata\u001b[0m \u001b[0;34m=\u001b[0m \u001b[0mrecv\u001b[0m\u001b[0;34m(\u001b[0m\u001b[0;36m1\u001b[0m\u001b[0;34m)\u001b[0m\u001b[0;34m\u001b[0m\u001b[0m\n\u001b[0m\u001b[1;32m    431\u001b[0m                             \u001b[0;32mif\u001b[0m \u001b[0;32mnot\u001b[0m \u001b[0mdata\u001b[0m\u001b[0;34m:\u001b[0m\u001b[0;34m\u001b[0m\u001b[0m\n\u001b[1;32m    432\u001b[0m                                 \u001b[0;32mbreak\u001b[0m\u001b[0;34m\u001b[0m\u001b[0m\n",
        "\u001b[0;31mKeyboardInterrupt\u001b[0m: "
       ]
      }
     ],
     "prompt_number": 8
    },
    {
     "cell_type": "code",
     "collapsed": false,
     "input": [
      "#e = create_engine(mssql_conn)\n",
      "##pd.read_sql(\"SELECT * FROM INFORMATION_SCHEMA.TABLES WHERE TABLE_TYPE = 'BASE TABLE';\", e)\n",
      "#df = pd.read_sql(\"SELECT * FROM ContentServers;\", e)\n",
      "#tmp = df.to_dict(outtype=\"records\")\n",
      "contentServersRDD = sc.textFile(\"s3n://ds-fulla/sql/HuddleLite-150324T0322/ContentServers/\")\n",
      "\n",
      "contentServersRDD.take(10)\n",
      "#urls_dict = { }\n",
      "#for x in tmp:\n",
      "#    urls_dict[x['ServerID']] = x['HttpReadURI']\n",
      "\n",
      "#sc_urls = sc.broadcast(urls_dict)\n"
     ],
     "language": "python",
     "metadata": {},
     "outputs": [
      {
       "metadata": {},
       "output_type": "pyout",
       "prompt_number": 4,
       "text": [
        "[u'Obj\\x01\\x04\\x14avro.codec\\x0edeflate\\x16avro.schema\\ufffd\\x15{\"type\":\"record\",\"name\":\"ContentServers\",\"doc\":\"Sqoop import of ContentServers\",\"fields\":[{\"name\":\"ServerID\",\"type\":[\"int\",\"null\"],\"columnName\":\"ServerID\",\"sqlType\":\"5\"},{\"name\":\"HttpReadURI\",\"type\":[\"string\",\"null\"],\"columnName\":\"HttpReadURI\",\"sqlType\":\"-9\"},{\"name\":\"WriteURI\",\"type\":[\"string\",\"null\"],\"columnName\":\"WriteURI\",\"sqlType\":\"-9\"},{\"name\":\"WriteCredentials\",\"type\":[\"string\",\"null\"],\"columnName\":\"WriteCredentials\",\"sqlType\":\"-9\"},{\"name\":\"IsActiveUploadServer\",\"type\":[\"boolean\",\"null\"],\"columnName\":\"IsActiveUploadServer\",\"sqlType\":\"-7\"},{\"name\":\"IsContentServer\",\"type\":[\"boolean\",\"null\"],\"columnName\":\"IsContentServer\",\"sqlType\":\"-7\"},{\"name\":\"IsTokenServer\",\"type\":[\"boolean\",\"null\"],\"columnName\":\"IsTokenServer\",\"sqlType\":\"-7\"},{\"name\":\"IsCNAMEServer\",\"type\":[\"boolean\",\"null\"],\"columnName\":\"IsCNAMEServer\",\"sqlType\":\"-7\"},{\"name\":\"AltHttpReadURI\",\"type\":[\"string\",\"null\"],\"columnName\":\"AltHttpReadURI\",\"sqlType\":\"-9\"},{\"name\":\"AltSpaceReadURI\",\"type\":[\"string\",\"null\"],\"columnName\":\"AltSpaceReadURI\",\"sqlType\":\"-9\"},{\"name\":\"SecureHttpReadURI\",\"type\":[\"string\",\"null\"],\"columnName\":\"SecureHttpReadURI\",\"sqlType\":\"-9\"},{\"name\":\"IsSmoothStreamingServer\",\"type\":[\"boolean\",\"null\"],\"columnName\":\"IsSmoothStreamingServer\",\"sqlType\":\"-7\"},{\"name\":\"AwsRegion\",\"type\":[\"string\",\"null\"],\"columnName\":\"AwsRegion\",\"sqlType\":\"-9\"}],\"tableName\":\"ContentServers\"}\\x00\\x1dO\\x03\\ufffdc\\ufffd\\x07\\ufffd\\ufffd+\\ufffda\\ufffd\\u014d\\ufffd\\x1c\\ufffd\\x0e\\ufffd\\ufffd]\\ufffd\\ufffdF\\x1c\\x06p\\ufffdi\\ufffd\\ufffdi\\ufffdf\\ufffd4M\\ufffd\\ufffdMSsD@D\\ufffdl\\x13TP\\ufffd]q\\x0fz70\\ufffd',\n",
        " u\"\\ufffd\\ufffd\\ufffd'\\u074fS<u\\x178\\x15z\\ufffdzA\\x0c\\ufffd\\x0b\\ufffd_\\ufffd\\ufffd\\ufffd\\ufffd0\\ufffd\\x0c\\ufffd\\ufffd_8\\ufffdACSA\\x10\\ufffd\\x105\\ufffd\\x16\\ufffd\\ufffdf\\ufffd\\ufffd9\\\\2=\\x1f\\ufffd\\ufffd\\ufffd_\\u05e4W\\ufffd\\ufffdv\\ufffdu\\x05\\ufffd\\ufffdI]\\x1d\\ufffd\\ufffd\\ufffdO'\\u027e\\ufffd\\x08\\ufffd\\ufffdJ\\x1e#@M\\ufffd(\\ufffd:\\ufffd\\x19\\ufffd\\ufffdkJ\\x13\\ufffd\\ufffdb8\\ufffd\\ufffdGF4\\x11h9\\x08\\ufffddHh\\x02\\ufffd\\u012e3?.\\x0e\\ufffd\\ufffd.\\ufffd[;\\x06p30\\ufffdv\\ufffdo\\x7f\\ufffd6~\\ufffd\\ufffdg\\ufffdn\\x08\\ufffd\\x1a\\ufffd\\ufffd\\x13\\ufffd\\x01\\ufffd}j\\ufffdZ\\ufffd\\ufffd]\\x14<k\\ufffd/\\x7f&\\ufffdo\\ufffd\\ufffd-\\ufffd\\x19A\\ufffddA\\ufffdk\\x12\\ufffd\\ufffdj\\x00\\x17$\\x1e\\x02\\u7821z.\\ufffd%t\\ufffd*\\ufffdS\\ufffd\\ufffd\\x00\\x00<\\ufffd\\x0c\\ufffd;i\\ufffd\\ufffd\\u0119\\ufffd\\x07\\ufffd\\ufffd\",\n",
        " u\"N\\ufffd\\ufffdMJ\\x13\\ufffd\\ufffd;\\ufffdl\\ufffdX\\ufffdG\\ufffdG\\ufffd\\\\}\\ufffd\\ufffd'\\ufffdZQ%\\ufffd\\x1e^\\ufffdx\\ufffd\\ufffd\\ufffdb\\ufffds\\u272d+\\ufffd\\ufffdl\\ufffd\\ufffd\\ufffdu\\t\\ufffd\\ufffdA\\ufffdX3\\ufffd#\\ufffd\\x0e\\ufffd,\\x17\\ufffd\\ufffdo\\x1fUC\\ufffd\\u01f2\\ufffd@\\x1f'\\ufffd\\ufffdhDGK9\\ufffd\\ufffdT~i\\ufffd{\\ufffdK\\x0c5\\ufffd$\\ufffd\\ufffd+\\ufffd\\ufffd[\\ufffdh\\u0516#i\\x11\\ufffdg\\ufffd\\x15\\ufffd\\ufffd\\ufffd)7\\ufffd\\x16\\ufffd\\ufffdfr\\x02\\ufffdk\\ufffd\\x7f\\t\\ufffd\\ufffd\\ufffd\\ufffd\\ufffd\\ufffd\\ufffd\\x1f\\ufffd\\ufffd\",\n",
        " u'\\ufffd\\ufffd6\\x15\\ufffd\\ufffdM\\ufffdc\\x7f~&Q\\ufffd<\\ufffdx\\ufffd\\x1d\\ufffdO\\x03$\\ufffd\\ufffdP]3Q\\ufffd\\ufffd\\ufffd4T\\u01cb\\ufffd\\ufffd{(\\ufffd>\\x1b\\u0159\\ufffd.\\ufffdU\\ufffd\\ufffd*\\x0f\\ufffd[\\ufffd\\ufffd\\ufffd\\ufffdG\\ufffd\\ufffd2\\ufffd\\ufffd\\ufffd\\x14\\ufffd\\ufffd#\\x13U\\ufffd~\\ufffd\\ufffd\\ufffdw|\\u0547\\ufffd-OV\\ufffd\\u0363\\ufffd|C\\x08c\\ufffdF\\t\\x05CT\\ufffd\\ufffdC\\ufffd\\x0b\\ufffd\\ufffd\\x87\\ufffd-OV\\ufffd\\u0363\\ufffd\\ufffd\\ufffd\\ufffd\\ufffd\\x0f\\x00\\ufffd\\ufffd\\ufffd\\ufffd\\x0c\\ufffd\\ufffd\\ufffdJ\\ufffd\\x1f3^\\ufffd\\x0e\\ufffd\\ufffd\\ufffd\\ufffd\\ufffd\\ufffd',\n",
        " u'\\ufffdy\\ufffdl|I\\x05\\u0647\\ufffd\\x06\\ufffd\\xe6\\u746a\\ufffd\\ufffd\\ufffd\\ufffdW\\ufffd\\ufffd?\\ufffdoy\\ufffd\\ufffdo\\x1e%\\ufffdL\\ufffd\\ufffd(\\ufffd\\ufffd\\ufffd\\ufffd\\ufffd\\ufffd}\\ufffd\\ufffd\\x1aw|\\ufffd\\ufffd\\ufffd-OV\\ufffd\\u0363d\\ufffd\\u0119l\\ufffdFt0;\\ufffd\\ufffd\\x1e\\ufffd*\\ufffd\\x0f?g\\ufffd\\ufffd\\x1d_\\ufffda}\\u02d3\\x15|\\ufffd(9\\u07d8',\n",
        " u\"=\\x1f\\ufffd\\ufffdV\\ufffd\\u0415\\ufffd\\ufffdd\\ufffd\\ufffd\\x1d_\\ufffda}\\u02d3\\x15|\\ufffd(\\ufffd/\\ufffdh\\ufffd\\ufffd0F\\ufffd')\\ufffd\\ufffd\\ufffd\\ufffd\\ufffd\\u05fe\\ufffdk?\\ufffdoy\\ufffd\\ufffdo\\x1e%;>h\\ufffd\\ufffd1\\ufffdyqX\\ufffd\\ufffd\\ufffd\\ufffd\\x1b\\u05b8U\\ufffd \\x04\\ufffd\\ufffd?\\ufffd\\ufffd\\uecdav\\x13-\\ufffd'o\\ufffd\\ufffd\\ufffdW\\ufffd5\\ufffd\\t{\\x1d\\u0174\\ufffd]\\ufffdii8\\ufffdm\\ufffd\\x7f\\ufffd\\ufffd\\ufffd\\u060107\\ufffd_*aX5\\ufffd\\ufffd3NK\\ufffd\\ufffd\\x16\\u0471Mq/\\ufffd\\ufffd\\ufffd:\\ud3a7\\ufffd\\ufffdl-6\\u0398f\\ufffd\\ufffd\\ufffd\\ufffde\\ufffd8\\\\\\ufffd\\ufffdku\\x1d\\ufffd\\ufffd\",\n",
        " u'\\x12\\ufffdt\\'\\x1a\\'\\ufffd<\\ufffdl\\ufffd+w\\ufffd\\x1f\\ufffda\\ufffd\\ufffdB\\ufffd\\ufffd$\\ufffdzu\\ufffd\\x15c\\ufffd1\\ufffdd(\\ufffd\\ufffd\\ufffd.\\ufffd\"K{\\ufffdF\\x1e\\x05eN1X\\ufffd?\\x0e\\ufffd`}\\ufffd\\x1b\\u025a\\x12z\\ufffd;\\ufffd&\\ufffd-\\ufffd\\ub8f3\\x1f:\\ufffd\\ufffd~\\ufffd\\ufffd4\\ufffd\\ufffd\\x05\\ufffdP\\ufffd\\x19^\\x17\\ufffdh\\ufffd(\\ufffd\\u51d4\\ufffd\\u0284\\ufffd}\\x05\\ufffd\\x0f\\x1dO\\x03\\ufffdc\\ufffd\\x07\\ufffd\\ufffd+\\ufffda\\ufffd\\u014d\\ufffd',\n",
        " u'Obj\\x01\\x04\\x14avro.codec\\x0edeflate\\x16avro.schema\\ufffd\\x15{\"type\":\"record\",\"name\":\"ContentServers\",\"doc\":\"Sqoop import of ContentServers\",\"fields\":[{\"name\":\"ServerID\",\"type\":[\"int\",\"null\"],\"columnName\":\"ServerID\",\"sqlType\":\"5\"},{\"name\":\"HttpReadURI\",\"type\":[\"string\",\"null\"],\"columnName\":\"HttpReadURI\",\"sqlType\":\"-9\"},{\"name\":\"WriteURI\",\"type\":[\"string\",\"null\"],\"columnName\":\"WriteURI\",\"sqlType\":\"-9\"},{\"name\":\"WriteCredentials\",\"type\":[\"string\",\"null\"],\"columnName\":\"WriteCredentials\",\"sqlType\":\"-9\"},{\"name\":\"IsActiveUploadServer\",\"type\":[\"boolean\",\"null\"],\"columnName\":\"IsActiveUploadServer\",\"sqlType\":\"-7\"},{\"name\":\"IsContentServer\",\"type\":[\"boolean\",\"null\"],\"columnName\":\"IsContentServer\",\"sqlType\":\"-7\"},{\"name\":\"IsTokenServer\",\"type\":[\"boolean\",\"null\"],\"columnName\":\"IsTokenServer\",\"sqlType\":\"-7\"},{\"name\":\"IsCNAMEServer\",\"type\":[\"boolean\",\"null\"],\"columnName\":\"IsCNAMEServer\",\"sqlType\":\"-7\"},{\"name\":\"AltHttpReadURI\",\"type\":[\"string\",\"null\"],\"columnName\":\"AltHttpReadURI\",\"sqlType\":\"-9\"},{\"name\":\"AltSpaceReadURI\",\"type\":[\"string\",\"null\"],\"columnName\":\"AltSpaceReadURI\",\"sqlType\":\"-9\"},{\"name\":\"SecureHttpReadURI\",\"type\":[\"string\",\"null\"],\"columnName\":\"SecureHttpReadURI\",\"sqlType\":\"-9\"},{\"name\":\"IsSmoothStreamingServer\",\"type\":[\"boolean\",\"null\"],\"columnName\":\"IsSmoothStreamingServer\",\"sqlType\":\"-7\"},{\"name\":\"AwsRegion\",\"type\":[\"string\",\"null\"],\"columnName\":\"AwsRegion\",\"sqlType\":\"-9\"}],\"tableName\":\"ContentServers\"}\\x00\\ufffdE\\ufffd\\ufffdGE\\ufffd^Z\\ufffd\\ufffdIy\\ufffd\\x0e\\ufffd\\x04\\ufffd\\ufffd]N\\ufffd@\\x00\\x04`\\ufffd\\x11<\\ufffdI\\x03+(\\x14L|\\ufffdP)\\ufffd-P\\u05bam\\ufffd\\ufffd\\ufffdc\\ufffd\\x05jw\\ufffd\\x02\\ufffd\\ufffd\\ufffd\\ufffd\\x13\\ufffd\\ufffd#0O\\ufffd\\ufffde\\ufffd\\ufffdV\\ufffdeV\\u05ef\\ufffd\\x00\\ufffd\\x13,f,)\\ufffd\\ufffdX\\x02\\ufffd{\\ufffdOe\\ufffd1\\x06T\\ufffd]ma\\x08^\\ufffd\\ufffd@v\\u05ed\\ufffd\\ufffdd\\ufffde8\\x1f\\ufffdH\\ufffd\\ufffdv\\ufffd\\ufffd\\ufffdn*\\ufffd1\\ufffd\\x030\\ufffd\\ufffd(\\ufffd\\ufffd~\\ufffd\\ufffd\\ufffd\\x03I\\x02\\x7fC\\x0c\\ufffd\\ufffdG\\x11\\ufffd49\\ufffd\\ufffd\\ufffd\\ufffd\\ufffd\\x1b\\ufffd\\x15\\ufffd\\ufffd2\\ufffdC1-\\x02\\ufffd\\ufffd\\ufffdz\\ufffdw\\ufffdk\\x11\\ufffd\\ufffd\\x05\\ufffdZu\\x1c\\ufffd\\x05\\ufffdM\\ufffd\\x16\\ufffdQ%\\ufffdd',\n",
        " u'\\ufffd\\ufffd\\ufffd\\x11\\ufffd\\ufffd\\x17\\ufffd\\ufffd\\x19\\ufffd\\ufffdQ\\x11\\ufffd~\\ufffd7iy?iS\\ufffd\\ufffd\\t\\ufffd\\ufffd\\ufffdQ!\\u0174\\x16$\\x0e\\ufffd|\\ufffd\\x00}\\ufffd/\\x1e\\ufffd\\x0f\\ufffd|\\ufffd\\x00}\\u06de/\\x1d\\ufffd\\ufffd\\ufffd\\ufffd\\x17\\x0fq\\ufffdgN\\ufffd\\ufffdO\\x01\\ufffd8\\ufffdM\\ufffd\\ufffdD\\ufffd\\ufffd\\x7fJ\\x1f\\ufffdE\\ufffd\\ufffdGE\\ufffd^Z\\ufffd\\ufffdIy\\ufffd',\n",
        " u'Obj\\x01\\x04\\x14avro.codec\\x0edeflate\\x16avro.schema\\ufffd\\x15{\"type\":\"record\",\"name\":\"ContentServers\",\"doc\":\"Sqoop import of ContentServers\",\"fields\":[{\"name\":\"ServerID\",\"type\":[\"int\",\"null\"],\"columnName\":\"ServerID\",\"sqlType\":\"5\"},{\"name\":\"HttpReadURI\",\"type\":[\"string\",\"null\"],\"columnName\":\"HttpReadURI\",\"sqlType\":\"-9\"},{\"name\":\"WriteURI\",\"type\":[\"string\",\"null\"],\"columnName\":\"WriteURI\",\"sqlType\":\"-9\"},{\"name\":\"WriteCredentials\",\"type\":[\"string\",\"null\"],\"columnName\":\"WriteCredentials\",\"sqlType\":\"-9\"},{\"name\":\"IsActiveUploadServer\",\"type\":[\"boolean\",\"null\"],\"columnName\":\"IsActiveUploadServer\",\"sqlType\":\"-7\"},{\"name\":\"IsContentServer\",\"type\":[\"boolean\",\"null\"],\"columnName\":\"IsContentServer\",\"sqlType\":\"-7\"},{\"name\":\"IsTokenServer\",\"type\":[\"boolean\",\"null\"],\"columnName\":\"IsTokenServer\",\"sqlType\":\"-7\"},{\"name\":\"IsCNAMEServer\",\"type\":[\"boolean\",\"null\"],\"columnName\":\"IsCNAMEServer\",\"sqlType\":\"-7\"},{\"name\":\"AltHttpReadURI\",\"type\":[\"string\",\"null\"],\"columnName\":\"AltHttpReadURI\",\"sqlType\":\"-9\"},{\"name\":\"AltSpaceReadURI\",\"type\":[\"string\",\"null\"],\"columnName\":\"AltSpaceReadURI\",\"sqlType\":\"-9\"},{\"name\":\"SecureHttpReadURI\",\"type\":[\"string\",\"null\"],\"columnName\":\"SecureHttpReadURI\",\"sqlType\":\"-9\"},{\"name\":\"IsSmoothStreamingServer\",\"type\":[\"boolean\",\"null\"],\"columnName\":\"IsSmoothStreamingServer\",\"sqlType\":\"-7\"},{\"name\":\"AwsRegion\",\"type\":[\"string\",\"null\"],\"columnName\":\"AwsRegion\",\"sqlType\":\"-9\"}],\"tableName\":\"ContentServers\"}\\x00\\ufffd\\x18\\ufffd\\ufffd*S\"\\ufffd']"
       ]
      }
     ],
     "prompt_number": 4
    },
    {
     "cell_type": "code",
     "collapsed": false,
     "input": [
      "sc.textFile(\"s3n://ds-fulla/mongo/20150323/monolith/coredata/clips/wUkTgF-zbe*.json\")\\\n",
      "    .map(json.loads)\\\n",
      "    .take(1)"
     ],
     "language": "python",
     "metadata": {},
     "outputs": [
      {
       "metadata": {},
       "output_type": "pyout",
       "prompt_number": 4,
       "text": [
        "[{u'_id': 1309210964,\n",
        "  u'a': [{u'an': u'Sideline',\n",
        "    u'd': 1011010000,\n",
        "    u'i': 1326135645,\n",
        "    u'lt': u'kyb/kwz/6c4c8063-7c1d-4f72-994a-157f0bcedb73/038-vjjver6whciwwebw_l.jpg',\n",
        "    u'mf': [{u'fn': u'kyb/kwz/6c4c8063-7c1d-4f72-994a-157f0bcedb73/vjjver6whciwwebw-3000.mp4',\n",
        "      u'fs': 37977436,\n",
        "      u'ft': 0,\n",
        "      u'ha': False,\n",
        "      u'q': 50,\n",
        "      u'rv': {u'$binary': u'OhalBLcV0gg=', u'$type': u'00'},\n",
        "      u's': 1},\n",
        "     {u'fn': u'kyb/kwz/6c4c8063-7c1d-4f72-994a-157f0bcedb73/vjjver6whciwwebw-3000_1100.mp4',\n",
        "      u'fs': 13934213,\n",
        "      u'ft': 0,\n",
        "      u'ha': False,\n",
        "      u'q': 25,\n",
        "      u'rv': {u'$binary': u'dHenBLcV0gg=', u'$type': u'00'},\n",
        "      u's': 1}],\n",
        "    u'mt': {u'$date': -62135596800000},\n",
        "    u'o': 1,\n",
        "    u'si': 112,\n",
        "    u'th': u'kyb/kwz/6c4c8063-7c1d-4f72-994a-157f0bcedb73/038-vjjver6whciwwebw.jpg'}],\n",
        "  u'cu': [{u'i': 16696307, u'o': 37}],\n",
        "  u'd': {u'POSS #': 38},\n",
        "  u'dc': {u'$date': 1423838779925},\n",
        "  u'ec': False,\n",
        "  u'pv': False,\n",
        "  u's': 281364,\n",
        "  u't': 16566}]"
       ]
      }
     ],
     "prompt_number": 4
    },
    {
     "cell_type": "code",
     "collapsed": false,
     "input": [
      "#punt_keys = [ \"PLAY TYPE\", \"PLAY\", \"OFF PLAY\" ]\n",
      "#field_goal_keys = [ \"PLAY TYPE\", \"PLAY\", \"OFF PLAY\" ]\n",
      "\n",
      "def isType(x, play_type):\n",
      "    possible_keys = [ \"KICK TYPE\", \"PLAY TYPE\", \"PLAY\", \"OFF PLAY\" ]\n",
      "    for thekey in possible_keys:\n",
      "        if thekey in x.keys():\n",
      "            if play_type in str(x[thekey]).lower():\n",
      "                return True\n",
      "    return False\n",
      "\n",
      "def punt_or_fg(x):\n",
      "    if isType(x,\"punt\"):\n",
      "        return \"PUNT\"\n",
      "    elif isType(x,\"fg\"):\n",
      "        return \"FG\"\n",
      "    else:\n",
      "        return \"\"\n",
      "\n",
      "def getKeys(x):\n",
      "    retVal = { }\n",
      "    for mykey in x.keys():\n",
      "        if \"fg\" in str(x[mykey]).lower():\n",
      "            retVal[mykey] = x[mykey]\n",
      "    return retVal\n",
      "\n",
      "def getWide(x):\n",
      "    retVal = [ ]\n",
      "    for tmp in x:\n",
      "        if \"an\" in tmp.keys():\n",
      "            if tmp[\"an\"]==\"Wide\":\n",
      "                if \"mf\" in tmp.keys():\n",
      "                    for mydict in tmp[\"mf\"]:\n",
      "                        if \"fn\" in mydict:\n",
      "                            retVal.append(mydict[\"fn\"])\n",
      "    return retVal\n",
      "\n",
      "clipsRDD = sc.textFile(\"s3n://ds-fulla/mongo/20150323/monolith/coredata/clips/wUkTgF-zbe*.json\")\\\n",
      "    .map(json.loads)\\\n",
      "    .filter(lambda x: \"d\" in x.keys() and \"a\" in x.keys())\\\n",
      "    .map(lambda x: { \"type\" : punt_or_fg(x[\"d\"]), \"video\" : getWide(x[\"a\"]) })\\\n",
      "    .filter(lambda x: len(x[\"video\"])>0)\\\n",
      "    .filter(lambda x: x[\"type\"]!=\"\")\n",
      "    "
     ],
     "language": "python",
     "metadata": {},
     "outputs": [],
     "prompt_number": 4
    },
    {
     "cell_type": "code",
     "collapsed": false,
     "input": [
      "clipsRDD.count()#(10)"
     ],
     "language": "python",
     "metadata": {},
     "outputs": [
      {
       "metadata": {},
       "output_type": "pyout",
       "prompt_number": 5,
       "text": [
        "1948"
       ]
      }
     ],
     "prompt_number": 5
    },
    {
     "cell_type": "code",
     "collapsed": false,
     "input": [
      "print clipsRDD.filter(lambda x: x[\"type\"]==\"FG\").count()\n",
      "print clipsRDD.filter(lambda x: x[\"type\"]==\"PUNT\").count()"
     ],
     "language": "python",
     "metadata": {},
     "outputs": []
    },
    {
     "cell_type": "code",
     "collapsed": false,
     "input": [
      "clipsRDD.saveAsTextFile(\"s3n://hudl-hadoop/GLaDOS/fg_punt_locations/\")"
     ],
     "language": "python",
     "metadata": {},
     "outputs": []
    }
   ],
   "metadata": {}
  }
 ]
}