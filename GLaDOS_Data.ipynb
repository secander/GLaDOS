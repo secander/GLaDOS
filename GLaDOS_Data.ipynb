{
 "metadata": {
  "name": "",
  "signature": "sha256:fa30e2caec3b248f53a2b99a7e2f854d33e0bc69a75443f3a498aa5181abb4c6"
 },
 "nbformat": 3,
 "nbformat_minor": 0,
 "worksheets": [
  {
   "cells": [
    {
     "cell_type": "code",
     "collapsed": false,
     "input": [
      "import json\n",
      "\n",
      "from metamind.api import set_api_key, general_image_classifier\n",
      "\n",
      "set_api_key(\"kfIkPpboJ5bV1Ny0BntmqWNdEQQ4we1eOL6GdlWBpmbMawqRgX\")\n",
      "\n"
     ],
     "language": "python",
     "metadata": {},
     "outputs": [
      {
       "output_type": "stream",
       "stream": "stdout",
       "text": [
        "Hello, William Spearman\n"
       ]
      },
      {
       "output_type": "stream",
       "stream": "stderr",
       "text": [
        "/Users/williamspearman/anaconda/lib/python2.7/site-packages/requests/packages/urllib3/util/ssl_.py:79: InsecurePlatformWarning: A true SSLContext object is not available. This prevents urllib3 from configuring SSL appropriately and may cause certain SSL connections to fail. For more information, see https://urllib3.readthedocs.org/en/latest/security.html#insecureplatformwarning.\n",
        "  InsecurePlatformWarning\n"
       ]
      }
     ],
     "prompt_number": 1
    },
    {
     "cell_type": "code",
     "collapsed": false,
     "input": [
      "print general_image_classifier.predict([\"http://bioexpedition.com/wp-content/uploads/2012/05/Brown_Bear.jpg\",\n",
      "                                        \"http://media.animevice.com/uploads/0/3695/465493-teddy_bear.jpg\"], \n",
      "                                       input_type=\"urls\")\n"
     ],
     "language": "python",
     "metadata": {},
     "outputs": [
      {
       "output_type": "stream",
       "stream": "stdout",
       "text": [
        "[{u'user_value': u'http://bioexpedition.com/wp-content/uploads/2012/05/Brown_Bear.jpg', u'probability': 0.38673749566078186, u'label': u'brown bear, bruin, Ursus arctos'}, {u'user_value': u'http://media.animevice.com/uploads/0/3695/465493-teddy_bear.jpg', u'probability': 0.6273759007453918, u'label': u'teddy, teddy bear'}]\n"
       ]
      },
      {
       "output_type": "stream",
       "stream": "stderr",
       "text": [
        "/Users/williamspearman/anaconda/lib/python2.7/site-packages/requests/packages/urllib3/util/ssl_.py:79: InsecurePlatformWarning: A true SSLContext object is not available. This prevents urllib3 from configuring SSL appropriately and may cause certain SSL connections to fail. For more information, see https://urllib3.readthedocs.org/en/latest/security.html#insecureplatformwarning.\n",
        "  InsecurePlatformWarning\n"
       ]
      }
     ],
     "prompt_number": 2
    },
    {
     "cell_type": "code",
     "collapsed": false,
     "input": [
      "#punt_keys = [ \"PLAY TYPE\", \"PLAY\", \"OFF PLAY\" ]\n",
      "#field_goal_keys = [ \"PLAY TYPE\", \"PLAY\", \"OFF PLAY\" ]\n",
      "\n",
      "def isType(x, play_type):\n",
      "    possible_keys = [ \"KICK TYPE\", \"PLAY TYPE\", \"PLAY\", \"OFF PLAY\" ]\n",
      "    for thekey in possible_keys:\n",
      "        if thekey in x.keys():\n",
      "            if play_type in str(x[thekey]).lower():\n",
      "                return True\n",
      "    return False\n",
      "\n",
      "def punt_or_fg(x):\n",
      "    if isType(x,\"punt\"):\n",
      "        return \"PUNT\"\n",
      "    elif isType(x,\"fg\"):\n",
      "        return \"FG\"\n",
      "    else:\n",
      "        return \"\"\n",
      "\n",
      "def getKeys(x):\n",
      "    retVal = { }\n",
      "    for mykey in x.keys():\n",
      "        if \"fg\" in str(x[mykey]).lower():\n",
      "            retVal[mykey] = x[mykey]\n",
      "    return retVal\n",
      "\n",
      "def getWide(x):\n",
      "    retVal = [ ]\n",
      "    for tmp in x:\n",
      "        if \"an\" in tmp.keys():\n",
      "            if tmp[\"an\"]==\"Wide\":\n",
      "                if \"mf\" in tmp.keys():\n",
      "                    for mydict in tmp[\"mf\"]:\n",
      "                        if \"fn\" in mydict:\n",
      "                            retVal.append(mydict[\"fn\"])\n",
      "    return retVal\n",
      "\n",
      "clipsRDD = sc.textFile(\"s3n://ds-fulla/mongo/20150323/monolith/coredata/clips/wUkTgF-zbe*.json\")\\\n",
      "    .map(json.loads)\\\n",
      "    .filter(lambda x: \"d\" in x.keys() and \"a\" in x.keys())\\\n",
      "    .map(lambda x: { \"type\" : punt_or_fg(x[\"d\"]), \"video\" : getWide(x[\"a\"]) })\\\n",
      "    .filter(lambda x: len(x[\"video\"])>0)\\\n",
      "    .filter(lambda x: x[\"type\"]!=\"\")\n",
      "    "
     ],
     "language": "python",
     "metadata": {},
     "outputs": [],
     "prompt_number": 4
    },
    {
     "cell_type": "code",
     "collapsed": false,
     "input": [
      "clipsRDD.count()#(10)"
     ],
     "language": "python",
     "metadata": {},
     "outputs": [
      {
       "metadata": {},
       "output_type": "pyout",
       "prompt_number": 5,
       "text": [
        "1948"
       ]
      }
     ],
     "prompt_number": 5
    },
    {
     "cell_type": "code",
     "collapsed": false,
     "input": [
      "print clipsRDD.filter(lambda x: x[\"type\"]==\"FG\").count()\n",
      "print clipsRDD.filter(lambda x: x[\"type\"]==\"PUNT\").count()"
     ],
     "language": "python",
     "metadata": {},
     "outputs": []
    },
    {
     "cell_type": "code",
     "collapsed": false,
     "input": [
      "clipsRDD.saveAsTextFile(\"s3n://hudl-hadoop/GLaDOS/fg_punt_locations/\")"
     ],
     "language": "python",
     "metadata": {},
     "outputs": []
    }
   ],
   "metadata": {}
  }
 ]
}