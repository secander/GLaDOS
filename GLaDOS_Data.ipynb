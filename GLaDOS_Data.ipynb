{
 "cells": [
  {
   "cell_type": "code",
   "execution_count": 1,
   "metadata": {
    "collapsed": false
   },
   "outputs": [],
   "source": [
    "import json\n",
    "import pandas as pd\n",
    "\n",
    "HOME = os.environ[\"HOME\"]\n",
    "sys.path.append(HOME)\n",
    "from ds_config import *\n",
    "\n",
    "from pyspark.sql import HiveContext\n",
    "from pyspark.sql import Row\n",
    "\n",
    "import numpy as np"
   ]
  },
  {
   "cell_type": "code",
   "execution_count": 4,
   "metadata": {
    "collapsed": false
   },
   "outputs": [],
   "source": [
    "# Get URL prefixes\n",
    "sqlc = HiveContext(sc)\n",
    "\n",
    "content_servers = sqlc.sql(\"SELECT * FROM contentservers\") \\\n",
    "    .map(lambda x: x.asDict()) \\\n",
    "    .collect()\n",
    "\n",
    "urls_dict = { }\n",
    "for x in content_servers:\n",
    "    if x[\"httpreaduri\"]:\n",
    "        urls_dict[x['serverid']] = x['httpreaduri']\n",
    "\n",
    "sc_urls = sc.broadcast(urls_dict)\n",
    "\n",
    "del content_servers"
   ]
  },
  {
   "cell_type": "code",
   "execution_count": 5,
   "metadata": {
    "collapsed": false
   },
   "outputs": [],
   "source": [
    "def get_url(clip):\n",
    "    try:\n",
    "        url = []\n",
    "\n",
    "        if \"PLAY TYPE\" not in clip[\"data\"]:\n",
    "            return []\n",
    "        if clip[\"data\"][\"PLAY TYPE\"].lower() not in [\"punt\", \"fg\"]:\n",
    "            return []\n",
    "        if \"angles\" not in clip[\"angles\"] or clip[\"angles\"] is None:\n",
    "            return []\n",
    "\n",
    "        angle = {}\n",
    "\n",
    "\n",
    "        angles = [\n",
    "            angle.asDict() \n",
    "            for angle in clip[\"angles\"] \n",
    "            if angle.an == \"Wide\"\n",
    "        ]\n",
    "        if len(angles) == 0:\n",
    "            return []\n",
    "        else:\n",
    "            angle = angles[0]\n",
    "\n",
    "        good_angle = \"mf\" in angle and angle[\"mf\"] is not None and len(angle[\"mf\"]) > 0\n",
    "        good_angle *= \"si\" in angle\n",
    "\n",
    "        if not good_angle:\n",
    "            return []\n",
    "\n",
    "        media_file = [mf.asDict() for mf in angle[\"mf\"]][0]\n",
    "        return [(\n",
    "            clip[\"data\"][\"PLAY TYPE\"].lower(), \n",
    "            sc_urls.value[angle[\"si\"]] + media_file[\"fn\"],\n",
    "            clip[\"team_id\"]\n",
    "        )]\n",
    "    except:\n",
    "        return []\n",
    "    "
   ]
  },
  {
   "cell_type": "code",
   "execution_count": 42,
   "metadata": {
    "collapsed": false
   },
   "outputs": [],
   "source": [
    "# Uncomment to draw a random sample\n",
    "urls_rdd = sc.textFile(\"s3n://ds-fulla/mongo/20150323/monolith/coredata/clips\") \\\n",
    "    .sample(False, .01) \\\n",
    "    .map(json.loads) \\\n",
    "    .flatMap(get_urls) \\\n",
    "    .cache()"
   ]
  },
  {
   "cell_type": "code",
   "execution_count": 43,
   "metadata": {
    "collapsed": false
   },
   "outputs": [],
   "source": [
    "# Repartition and save to s3\n",
    "urls_rdd.repartition(25).saveAsTextFile(\"s3n://hudl-hadoop/GLaDOS/fg_punt_locations_3\")"
   ]
  },
  {
   "cell_type": "code",
   "execution_count": 65,
   "metadata": {
    "collapsed": false
   },
   "outputs": [],
   "source": [
    "# Collect URL's and create a DataFrame\n",
    "df = pd.DataFrame(\n",
    "    sc.textFile(\"s3n://hudl-hadoop/GLaDOS/fg_punt_locations_3\")\n",
    "    .map(lambda x: x.replace(\"u'\", \"'\").replace(\"'\", '\"'))\n",
    "    .map(json.loads)\n",
    "    .collect()\n",
    ")"
   ]
  },
  {
   "cell_type": "code",
   "execution_count": 66,
   "metadata": {
    "collapsed": false
   },
   "outputs": [
    {
     "data": {
      "text/html": [
       "<div style=\"max-height:1000px;max-width:1500px;overflow:auto;\">\n",
       "<table border=\"1\" class=\"dataframe\">\n",
       "  <thead>\n",
       "    <tr style=\"text-align: right;\">\n",
       "      <th></th>\n",
       "      <th>label</th>\n",
       "      <th>url</th>\n",
       "    </tr>\n",
       "  </thead>\n",
       "  <tbody>\n",
       "    <tr>\n",
       "      <th>0</th>\n",
       "      <td>punt</td>\n",
       "      <td>http://vh.hudl.com/4227/20608/29754/289817/TI/...</td>\n",
       "    </tr>\n",
       "    <tr>\n",
       "      <th>1</th>\n",
       "      <td>fg</td>\n",
       "      <td>http://ve.hudl.com/3844/9631/16294/164142/FS/1...</td>\n",
       "    </tr>\n",
       "    <tr>\n",
       "      <th>2</th>\n",
       "      <td>punt</td>\n",
       "      <td>http://ve.hudl.com/8254/20098/28843/264408/42/...</td>\n",
       "    </tr>\n",
       "    <tr>\n",
       "      <th>3</th>\n",
       "      <td>punt</td>\n",
       "      <td>http://vf.hudl.com/8605/20854/30206/277677/SA/...</td>\n",
       "    </tr>\n",
       "    <tr>\n",
       "      <th>4</th>\n",
       "      <td>punt</td>\n",
       "      <td>http://vd.hudl.com/2863/6920/19553/191011/89/0...</td>\n",
       "    </tr>\n",
       "  </tbody>\n",
       "</table>\n",
       "</div>"
      ],
      "text/plain": [
       "  label                                                url\n",
       "0  punt  http://vh.hudl.com/4227/20608/29754/289817/TI/...\n",
       "1    fg  http://ve.hudl.com/3844/9631/16294/164142/FS/1...\n",
       "2  punt  http://ve.hudl.com/8254/20098/28843/264408/42/...\n",
       "3  punt  http://vf.hudl.com/8605/20854/30206/277677/SA/...\n",
       "4  punt  http://vd.hudl.com/2863/6920/19553/191011/89/0..."
      ]
     },
     "execution_count": 66,
     "metadata": {},
     "output_type": "execute_result"
    }
   ],
   "source": [
    "df.head()"
   ]
  },
  {
   "cell_type": "code",
   "execution_count": 71,
   "metadata": {
    "collapsed": false
   },
   "outputs": [],
   "source": [
    "gb = df.groupby(\"label\").label"
   ]
  },
  {
   "cell_type": "code",
   "execution_count": 73,
   "metadata": {
    "collapsed": false
   },
   "outputs": [
    {
     "data": {
      "text/plain": [
       "label\n",
       "fg       6259\n",
       "punt    28449\n",
       "Name: label, dtype: int64"
      ]
     },
     "execution_count": 73,
     "metadata": {},
     "output_type": "execute_result"
    }
   ],
   "source": [
    "gb.count()"
   ]
  },
  {
   "cell_type": "code",
   "execution_count": 74,
   "metadata": {
    "collapsed": true
   },
   "outputs": [],
   "source": [
    "fg = df[df.label == \"fg\"]\n",
    "punt = df[df.label == \"punt\"]"
   ]
  },
  {
   "cell_type": "code",
   "execution_count": 97,
   "metadata": {
    "collapsed": false
   },
   "outputs": [],
   "source": [
    "train_fg = set(list(np.random.choice(fg.index, replace=False, size=1000)))\n",
    "train_punt = set(list(np.random.choice(punt.index, replace=False, size=1000)))"
   ]
  },
  {
   "cell_type": "code",
   "execution_count": 98,
   "metadata": {
    "collapsed": false
   },
   "outputs": [],
   "source": [
    "train_fg_df = fg[fg.index.map(lambda x: x in train_fg)]\n",
    "test_fg_df = fg[~fg.index.map(lambda x: x in train_fg)]"
   ]
  },
  {
   "cell_type": "code",
   "execution_count": 99,
   "metadata": {
    "collapsed": true
   },
   "outputs": [],
   "source": [
    "train_punt_df = punt[punt.index.map(lambda x: x in train_punt)]\n",
    "test_punt_df = punt[~punt.index.map(lambda x: x in train_punt)]"
   ]
  },
  {
   "cell_type": "code",
   "execution_count": 108,
   "metadata": {
    "collapsed": false
   },
   "outputs": [
    {
     "data": {
      "text/plain": [
       "0.18033306442318775"
      ]
     },
     "execution_count": 108,
     "metadata": {},
     "output_type": "execute_result"
    }
   ],
   "source": [
    "(df.label == \"fg\").mean()"
   ]
  },
  {
   "cell_type": "code",
   "execution_count": 105,
   "metadata": {
    "collapsed": false
   },
   "outputs": [],
   "source": [
    "train_fg_df.to_csv(\"fg_train.csv\", index=False)\n",
    "test_fg_df.to_csv(\"fg_test.csv\", index=False)\n",
    "train_punt_df.to_csv(\"punt_train.csv\", index=False)\n",
    "test_punt_df.to_csv(\"punt_test.csv\", index=False)"
   ]
  }
 ],
 "metadata": {
  "kernelspec": {
   "display_name": "Python 2",
   "language": "python",
   "name": "python2"
  },
  "language_info": {
   "codemirror_mode": {
    "name": "ipython",
    "version": 2
   },
   "file_extension": ".py",
   "mimetype": "text/x-python",
   "name": "python",
   "nbconvert_exporter": "python",
   "pygments_lexer": "ipython2",
   "version": "2.7.8"
  }
 },
 "nbformat": 4,
 "nbformat_minor": 0
}
