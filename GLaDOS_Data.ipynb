{
 "metadata": {
  "name": "",
  "signature": "sha256:ebaeaa87c0355f570c599e2e1a6e0b4915670dc55edb27f716e9bf55144db69c"
 },
 "nbformat": 3,
 "nbformat_minor": 0,
 "worksheets": [
  {
   "cells": [
    {
     "cell_type": "code",
     "collapsed": false,
     "input": [
      "import json\n",
      "from sqlalchemy import create_engine\n",
      "import pymongo\n",
      "import pandas as pd\n",
      "\n",
      "HOME = os.environ[\"HOME\"]\n",
      "sys.path.append(HOME)\n",
      "sys.path\n",
      "from ds_config import *"
     ],
     "language": "python",
     "metadata": {},
     "outputs": [],
     "prompt_number": 1
    },
    {
     "cell_type": "code",
     "collapsed": false,
     "input": [
      "e = create_engine(mssql_conn)\n",
      "#pd.read_sql(\"SELECT * FROM INFORMATION_SCHEMA.TABLES WHERE TABLE_TYPE = 'BASE TABLE';\", e)\n",
      "df = pd.read_sql(\"SELECT * FROM ContentServers;\", e)\n",
      "tmp = df.to_dict(outtype=\"records\")\n",
      "\n",
      "urls_dict = { }\n",
      "for x in tmp:\n",
      "    urls_dict[x['ServerID']] = x['HttpReadURI']\n",
      "\n",
      "sc_urls = sc.broadcast(urls_dict)\n"
     ],
     "language": "python",
     "metadata": {},
     "outputs": []
    },
    {
     "cell_type": "code",
     "collapsed": false,
     "input": [
      "sc.textFile(\"s3n://ds-fulla/mongo/20150323/monolith/coredata/clips/wUkTgF-zbe*.json\")\\\n",
      "    .map(json.loads)\\\n",
      "    .take(1)"
     ],
     "language": "python",
     "metadata": {},
     "outputs": [
      {
       "metadata": {},
       "output_type": "pyout",
       "prompt_number": 4,
       "text": [
        "[{u'_id': 1309210964,\n",
        "  u'a': [{u'an': u'Sideline',\n",
        "    u'd': 1011010000,\n",
        "    u'i': 1326135645,\n",
        "    u'lt': u'kyb/kwz/6c4c8063-7c1d-4f72-994a-157f0bcedb73/038-vjjver6whciwwebw_l.jpg',\n",
        "    u'mf': [{u'fn': u'kyb/kwz/6c4c8063-7c1d-4f72-994a-157f0bcedb73/vjjver6whciwwebw-3000.mp4',\n",
        "      u'fs': 37977436,\n",
        "      u'ft': 0,\n",
        "      u'ha': False,\n",
        "      u'q': 50,\n",
        "      u'rv': {u'$binary': u'OhalBLcV0gg=', u'$type': u'00'},\n",
        "      u's': 1},\n",
        "     {u'fn': u'kyb/kwz/6c4c8063-7c1d-4f72-994a-157f0bcedb73/vjjver6whciwwebw-3000_1100.mp4',\n",
        "      u'fs': 13934213,\n",
        "      u'ft': 0,\n",
        "      u'ha': False,\n",
        "      u'q': 25,\n",
        "      u'rv': {u'$binary': u'dHenBLcV0gg=', u'$type': u'00'},\n",
        "      u's': 1}],\n",
        "    u'mt': {u'$date': -62135596800000},\n",
        "    u'o': 1,\n",
        "    u'si': 112,\n",
        "    u'th': u'kyb/kwz/6c4c8063-7c1d-4f72-994a-157f0bcedb73/038-vjjver6whciwwebw.jpg'}],\n",
        "  u'cu': [{u'i': 16696307, u'o': 37}],\n",
        "  u'd': {u'POSS #': 38},\n",
        "  u'dc': {u'$date': 1423838779925},\n",
        "  u'ec': False,\n",
        "  u'pv': False,\n",
        "  u's': 281364,\n",
        "  u't': 16566}]"
       ]
      }
     ],
     "prompt_number": 4
    },
    {
     "cell_type": "code",
     "collapsed": false,
     "input": [
      "#punt_keys = [ \"PLAY TYPE\", \"PLAY\", \"OFF PLAY\" ]\n",
      "#field_goal_keys = [ \"PLAY TYPE\", \"PLAY\", \"OFF PLAY\" ]\n",
      "\n",
      "def isType(x, play_type):\n",
      "    possible_keys = [ \"KICK TYPE\", \"PLAY TYPE\", \"PLAY\", \"OFF PLAY\" ]\n",
      "    for thekey in possible_keys:\n",
      "        if thekey in x.keys():\n",
      "            if play_type in str(x[thekey]).lower():\n",
      "                return True\n",
      "    return False\n",
      "\n",
      "def punt_or_fg(x):\n",
      "    if isType(x,\"punt\"):\n",
      "        return \"PUNT\"\n",
      "    elif isType(x,\"fg\"):\n",
      "        return \"FG\"\n",
      "    else:\n",
      "        return \"\"\n",
      "\n",
      "def getKeys(x):\n",
      "    retVal = { }\n",
      "    for mykey in x.keys():\n",
      "        if \"fg\" in str(x[mykey]).lower():\n",
      "            retVal[mykey] = x[mykey]\n",
      "    return retVal\n",
      "\n",
      "def getWide(x):\n",
      "    retVal = [ ]\n",
      "    for tmp in x:\n",
      "        if \"an\" in tmp.keys():\n",
      "            if tmp[\"an\"]==\"Wide\":\n",
      "                if \"mf\" in tmp.keys():\n",
      "                    for mydict in tmp[\"mf\"]:\n",
      "                        if \"fn\" in mydict:\n",
      "                            retVal.append(mydict[\"fn\"])\n",
      "    return retVal\n",
      "\n",
      "clipsRDD = sc.textFile(\"s3n://ds-fulla/mongo/20150323/monolith/coredata/clips/wUkTgF-zbe*.json\")\\\n",
      "    .map(json.loads)\\\n",
      "    .filter(lambda x: \"d\" in x.keys() and \"a\" in x.keys())\\\n",
      "    .map(lambda x: { \"type\" : punt_or_fg(x[\"d\"]), \"video\" : getWide(x[\"a\"]) })\\\n",
      "    .filter(lambda x: len(x[\"video\"])>0)\\\n",
      "    .filter(lambda x: x[\"type\"]!=\"\")\n",
      "    "
     ],
     "language": "python",
     "metadata": {},
     "outputs": [],
     "prompt_number": 4
    },
    {
     "cell_type": "code",
     "collapsed": false,
     "input": [
      "clipsRDD.count()#(10)"
     ],
     "language": "python",
     "metadata": {},
     "outputs": [
      {
       "metadata": {},
       "output_type": "pyout",
       "prompt_number": 5,
       "text": [
        "1948"
       ]
      }
     ],
     "prompt_number": 5
    },
    {
     "cell_type": "code",
     "collapsed": false,
     "input": [
      "print clipsRDD.filter(lambda x: x[\"type\"]==\"FG\").count()\n",
      "print clipsRDD.filter(lambda x: x[\"type\"]==\"PUNT\").count()"
     ],
     "language": "python",
     "metadata": {},
     "outputs": []
    },
    {
     "cell_type": "code",
     "collapsed": false,
     "input": [
      "clipsRDD.saveAsTextFile(\"s3n://hudl-hadoop/GLaDOS/fg_punt_locations/\")"
     ],
     "language": "python",
     "metadata": {},
     "outputs": []
    }
   ],
   "metadata": {}
  }
 ]
}