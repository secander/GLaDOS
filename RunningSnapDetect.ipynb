{
 "cells": [
  {
   "cell_type": "code",
   "execution_count": 2,
   "metadata": {
    "collapsed": false
   },
   "outputs": [
    {
     "name": "stdout",
     "output_type": "stream",
     "text": [
      "/Users/williamspearman\n"
     ]
    }
   ],
   "source": [
    "import os\n",
    "import pandas as pd\n",
    "import wget\n",
    "import sys\n",
    "import subprocess\n",
    "from subprocess import call\n",
    "import matplotlib.pyplot as plt\n",
    "import seaborn \n",
    "import random\n",
    "%matplotlib inline\n",
    "\n",
    "import json\n",
    "\n",
    "import numpy as np\n",
    "\n",
    "from metamind.api import ClassificationData, ClassificationModel, set_api_key\n",
    "\n",
    "sys.path.append(os.environ[\"HOME\"])\n",
    "from ds_config import *\n",
    "\n",
    "print os.environ[\"HOME\"]\n",
    "MAIN_PATH = os.environ[\"HOME\"]+\"/GLaDOS_Workspace/\"\n",
    "#os.mkdir(MAIN_PATH)\n",
    "#os.mkdir(MAIN_PATH+\"Videos/\")\n",
    "#os.mkdir(MAIN_PATH+\"Images/\")\n",
    "\n",
    "seaborn.set_style(\"white\")"
   ]
  },
  {
   "cell_type": "markdown",
   "metadata": {},
   "source": [
    "# FFMPEG Scrips"
   ]
  },
  {
   "cell_type": "code",
   "execution_count": 3,
   "metadata": {
    "collapsed": false
   },
   "outputs": [],
   "source": [
    "def getVideoInfo(file_name):\n",
    "    bashCommand = \"ffprobe -show_streams \" + file_name\n",
    "    process = subprocess.Popen(bashCommand.split(\" \"), stdout=subprocess.PIPE)\n",
    "    output = process.communicate()[0].split(\"\\n\")\n",
    "    ret_dict = { }\n",
    "    for x in output:\n",
    "        if \"=\" in x:\n",
    "            key_vals = x.split(\"=\")\n",
    "            ret_dict[key_vals[0]] = key_vals[1]\n",
    "    #print ret_dict\n",
    "    return ret_dict\n",
    "\n",
    "def getRandInt(int1, int2):\n",
    "    if int1[0]>=int1[1]:\n",
    "        return np.random.randint(int2[0],int2[1])\n",
    "    elif int2[0]>=int2[1]:\n",
    "        return np.random.randint(int1[0],int1[1])\n",
    "    \n",
    "    if np.random.random() > 0.5:\n",
    "        return np.random.randint(int1[0],int1[1])\n",
    "    else:\n",
    "        return np.random.randint(int2[0],int2[1])\n",
    "\n",
    "    \n",
    "\n",
    "def getClipTriplets(file_name, snap_time, pm_secs=1.):\n",
    "    ret_val = { }\n",
    "    info_dict = getVideoInfo(file_name)\n",
    "    required_vals = { \"duration\", \"nb_frames\", \"avg_frame_rate\", \"sample_aspect_ratio\" }\n",
    "    if len(required_vals.intersection(set(info_dict.keys())))!=len(required_vals):\n",
    "        return None\n",
    "    frame_rate = 0.\n",
    "    try:\n",
    "        frame_rate = float(info_dict[\"avg_frame_rate\"].split(\"/\")[0])/float(info_dict[\"avg_frame_rate\"].split(\"/\")[1])\n",
    "    except:\n",
    "        return None\n",
    "    num_frames = float(info_dict[\"nb_frames\"])\n",
    "    duration = float(info_dict[\"duration\"])\n",
    "\n",
    "    if int(num_frames/frame_rate-duration)!= 0:\n",
    "        return None\n",
    "    \n",
    "    pm_frames = pm_secs * frame_rate\n",
    "    snap_frame = snap_time * frame_rate\n",
    "    \n",
    "    snap_frame_low = 0.\n",
    "    snap_frame_med = snap_frame_low+1.*pm_frames\n",
    "    snap_frame_high = snap_frame_low+2.*pm_frames\n",
    "    while snap_frame_high<=num_frames:\n",
    "        ret_val[\"TIME_%i_%i\" % (snap_frame_low, snap_frame_high)] = \\\n",
    "        [ snap_frame_low/frame_rate, snap_frame_med/frame_rate, snap_frame_high/frame_rate ]\n",
    "        snap_frame_low += pm_frames\n",
    "        snap_frame_med += pm_frames\n",
    "        snap_frame_high += pm_frames\n",
    "    \n",
    "    \n",
    "    return ret_val\n",
    "    \n",
    "def downloadUrl(url):\n",
    "    base_name = \"\"\n",
    "    try:\n",
    "        base_name = url.split(\"/\")[-1]\n",
    "    except:\n",
    "        return \"\"\n",
    "    \n",
    "    output_name = MAIN_PATH + \"Videos/\" + base_name\n",
    "    if os.path.isfile(output_name)==False:\n",
    "        wget.download(url, MAIN_PATH+\"Videos/\")\n",
    "    \n",
    "    if os.path.isfile(output_name)==True:\n",
    "        return output_name\n",
    "    else:\n",
    "        return \"\"\n",
    "\n",
    "\n",
    "def getGetSignalBkgTriplets(file_name, snap_time, pm_secs=1.):\n",
    "    ret_val = { }\n",
    "    info_dict = getVideoInfo(file_name)\n",
    "    required_vals = { \"duration\", \"nb_frames\", \"avg_frame_rate\", \"sample_aspect_ratio\" }\n",
    "    if len(required_vals.intersection(set(info_dict.keys())))!=len(required_vals):\n",
    "        return None\n",
    "    frame_rate = 0.\n",
    "    try:\n",
    "        frame_rate = float(info_dict[\"avg_frame_rate\"].split(\"/\")[0])/float(info_dict[\"avg_frame_rate\"].split(\"/\")[1])\n",
    "    except:\n",
    "        return None\n",
    "    num_frames = float(info_dict[\"nb_frames\"])\n",
    "    duration = float(info_dict[\"duration\"])\n",
    "\n",
    "    if int(num_frames/frame_rate-duration)!= 0:\n",
    "        return None\n",
    "    \n",
    "    pm_frames = pm_secs * frame_rate\n",
    "    snap_frame = snap_time * frame_rate\n",
    "    \n",
    "    snap_frame_low = snap_frame-pm_frames\n",
    "    snap_frame_high = snap_frame+pm_frames\n",
    "    if snap_frame_low<0:\n",
    "        return None\n",
    "    if snap_frame_high>num_frames:\n",
    "        return None\n",
    "    \n",
    "    int1 = [ pm_frames, max(0,snap_frame_low-pm_frames) ]\n",
    "    int2 = [ min(pm_frames+snap_frame_high, num_frames), num_frames-pm_frames ]\n",
    "    bkg_frame = getRandInt(int1, int2)\n",
    "    \n",
    "    ret_val[\"SNAP\"] = [ snap_frame_low/frame_rate, snap_frame/frame_rate, snap_frame_high/frame_rate ]\n",
    "    ret_val[\"NOT_SNAP\"] = [ (bkg_frame-pm_frames)/frame_rate, bkg_frame/frame_rate, (bkg_frame+pm_frames)/frame_rate ]\n",
    "    \n",
    "    return ret_val\n",
    "    \n",
    "def downloadUrl(url):\n",
    "    base_name = \"\"\n",
    "    try:\n",
    "        base_name = url.split(\"/\")[-1]\n",
    "    except:\n",
    "        return \"\"\n",
    "    \n",
    "    output_name = MAIN_PATH + \"Videos/\" + base_name\n",
    "    if os.path.isfile(output_name)==False:\n",
    "        wget.download(url, MAIN_PATH+\"Videos/\")\n",
    "    \n",
    "    if os.path.isfile(output_name)==True:\n",
    "        return output_name\n",
    "    else:\n",
    "        return \"\"\n",
    "\n",
    "\n",
    "\n",
    "def makeImageMontage(url, snap_time, time_offset=0.5, triplets=True):\n",
    "    ret_val = [ ]\n",
    "    video_path = downloadUrl(url)\n",
    "    #print \"BLah %f\" % 0.2\n",
    "    base_name = \"\"\n",
    "    try:\n",
    "        base_name = video_path.split(\"/\")[-1].split(\".\")[0]\n",
    "    except:\n",
    "        print \"Failed splitting: %s\" % video_path\n",
    "        return None\n",
    "    input_times = None\n",
    "    if triplets:\n",
    "        input_times = getGetSignalBkgTriplets(video_path, snap_time, time_offset)\n",
    "    else:\n",
    "        input_times = getClipTriplets(video_path, snap_time, time_offset)\n",
    "    if input_times==None:\n",
    "        return ret_val\n",
    "    #resolution = resolution.replace(\":\", \"x\")\n",
    "    #name1 = \"blah\"\n",
    "    #name2 = \"blah\"\n",
    "    ffmpeg_cmds = { }\n",
    "    file_names = { }\n",
    "    for mykey in input_times.keys():\n",
    "        output_name = MAIN_PATH + \"Images/\" + base_name\n",
    "        ffmpeg_cmds[mykey] = [ ]\n",
    "        file_names[mykey] = [ ]\n",
    "        for x, i in zip(input_times[mykey], range(0,len(input_times[mykey]))):\n",
    "            file_name = \"%s_%i_%s.jpg\" % (output_name, i, mykey)\n",
    "            file_names[mykey].append(file_name)\n",
    "            ffmpeg_cmds[mykey].append(\"ffmpeg -ss %f -i %s -vframes 1 %s 2> /dev/null\" % (x, video_path, file_name))\n",
    "        #montage_cmd = \"montage -tile 1x3 -geometry 512x256+0+0 \"\n",
    "        montage_cmd = \"montage -tile 1x3 -geometry 512x+0+0 \"\n",
    "        for thecmd, fname in zip(ffmpeg_cmds[mykey], file_names[mykey]):\n",
    "            call(thecmd, shell=True)\n",
    "            montage_cmd = montage_cmd+fname+\" \"\n",
    "        montage_name = \"%s_%i_%s_MONTAGE.jpg\" % (output_name, int(1000*input_times[mykey][1]), mykey)\n",
    "        montage_cmd = montage_cmd + \" \" + montage_name\n",
    "        call(montage_cmd,shell=True)\n",
    "        for fname in file_names[mykey]:\n",
    "            try:\n",
    "                os.remove(fname)\n",
    "            except:\n",
    "                print \"Couldn't remove %s\" % fname\n",
    "        ret_val.append((montage_name, mykey))\n",
    "        \n",
    "        \n",
    "        \n",
    "            \n",
    "    return ret_val\n"
   ]
  },
  {
   "cell_type": "code",
   "execution_count": 4,
   "metadata": {
    "collapsed": false
   },
   "outputs": [
    {
     "name": "stdout",
     "output_type": "stream",
     "text": [
      "Hello, Ben Cook\n"
     ]
    }
   ],
   "source": [
    "set_api_key(metamind_api_key)\n",
    "classifier = ClassificationModel(id=18410)"
   ]
  },
  {
   "cell_type": "code",
   "execution_count": 5,
   "metadata": {
    "collapsed": false
   },
   "outputs": [],
   "source": [
    "#singleClips = makeImageMontage(\"http://vf.hudl.com/9n6/81k/bab387d7-c875-4df6-89f7-3a0c910deb6a/lelyp36kuaykgm1j-3000_1100.mp4\", 8.809, 0.5, False)\n",
    "\n",
    "def DetectSnap(url, snap_time, time_offset=1.):\n",
    "    base_name = url.split(\"/\")[-1].split(\".mp4\")[0]\n",
    "    singleClips = makeImageMontage(url, snap_time, time_offset, False)\n",
    "    classifier = ClassificationModel(id=18410)\n",
    "\n",
    "    predictions = [ ]\n",
    "\n",
    "    length = len(singleClips)\n",
    "    if length<=0:\n",
    "        return\n",
    "    for x, i in zip(singleClips, range(0,length)):\n",
    "        print \"On %i of %i\" % (i, length)\n",
    "        #time = float(x[1].split(\"_\")[-1])\n",
    "        time = (float(x[1].split(\"_\")[-1])+float(x[1].split(\"_\")[-2]))/2.\n",
    "        result = classifier.predict(x[0], input_type=\"files\")\n",
    "        prediction = result[0]['label']\n",
    "        prob_snap=0.\n",
    "        if prediction==\"SNAP\":\n",
    "            prob_snap=result[0][\"probability\"]\n",
    "        else:\n",
    "            prob_snap=1-result[0][\"probability\"]\n",
    "        print \"Probability %f for time %f\" % (prob_snap, time)\n",
    "        predictions.append( (time, prob_snap) )\n",
    "        \n",
    "    predictions = sorted(predictions)\n",
    "    np_arr = np.array(predictions)\n",
    "\n",
    "    x = [ ]\n",
    "\n",
    "    for tmp in np_arr[:,0]:\n",
    "        x.append(tmp/30.)\n",
    "    y = np_arr[:,1]\n",
    "    #print x\n",
    "    #print y\n",
    "\n",
    "    #x2 = [ 8.809 ]\n",
    "    #y2 = [ 1. ]\n",
    "\n",
    "    plt.plot(x,y)\n",
    "    plt.axvline(snap_time, color='r', linestyle='dashed', linewidth=2) \n",
    "    plt.xlabel('Seconds', fontsize=12)\n",
    "    plt.ylabel('Probability of Snap', fontsize=12)\n",
    "    #plt.show()\n",
    "    plt.savefig(\"SnapProbability_%s.png\" % base_name)\n",
    "    plt.show()\n",
    "    return np_arr"
   ]
  },
  {
   "cell_type": "code",
   "execution_count": 6,
   "metadata": {
    "collapsed": true
   },
   "outputs": [],
   "source": [
    "formationRDD = sc.textFile(\"s3n://hudl-hadoop/GLaDOS/formation_data/\").map(json.loads)"
   ]
  },
  {
   "cell_type": "code",
   "execution_count": 7,
   "metadata": {
    "collapsed": false
   },
   "outputs": [],
   "source": [
    "files_to_run = formationRDD.map(lambda x: (x[\"video\"][\"snap time\"], x[\"video\"][\"urls\"][0])).takeSample(False,10)\n",
    "random.shuffle(files_to_run)"
   ]
  },
  {
   "cell_type": "code",
   "execution_count": null,
   "metadata": {
    "collapsed": false
   },
   "outputs": [
    {
     "name": "stdout",
     "output_type": "stream",
     "text": [
      "Couldn't remove /Users/williamspearman/GLaDOS_Workspace/Images/7jtaxo2cog7sodb8_3000_2_TIME_239_269.jpg\n",
      "On 0 of 17"
     ]
    }
   ],
   "source": [
    "data = [ ]\n",
    "\n",
    "for x in files_to_run:\n",
    "    data.append(DetectSnap(x[1],x[0],0.5))"
   ]
  },
  {
   "cell_type": "code",
   "execution_count": null,
   "metadata": {
    "collapsed": true
   },
   "outputs": [],
   "source": []
  }
 ],
 "metadata": {
  "kernelspec": {
   "display_name": "Python 2",
   "language": "python",
   "name": "python2"
  },
  "language_info": {
   "codemirror_mode": {
    "name": "ipython",
    "version": 2
   },
   "file_extension": ".py",
   "mimetype": "text/x-python",
   "name": "python",
   "nbconvert_exporter": "python",
   "pygments_lexer": "ipython2",
   "version": "2.7.8"
  }
 },
 "nbformat": 4,
 "nbformat_minor": 0
}
